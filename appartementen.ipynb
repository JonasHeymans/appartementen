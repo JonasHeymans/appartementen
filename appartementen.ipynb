{
 "cells": [
  {
   "cell_type": "code",
   "execution_count": 44,
   "outputs": [],
   "source": [
    "import pandas as pd\n",
    "import matplotlib.pyplot as plt\n",
    "import numpy as np"
   ],
   "metadata": {
    "collapsed": false,
    "pycharm": {
     "name": "#%%\n"
    }
   }
  },
  {
   "cell_type": "code",
   "execution_count": 45,
   "outputs": [],
   "source": [
    "df = pd.read_pickle('files/preprosessed.pkl')"
   ],
   "metadata": {
    "collapsed": false,
    "pycharm": {
     "name": "#%%\n"
    }
   }
  },
  {
   "cell_type": "code",
   "execution_count": 46,
   "outputs": [],
   "source": [
    "from sklearn.model_selection import train_test_split\n",
    "features =  list(df.drop(columns=['price.mainValue','id','Unnamed: 0.1'],axis=1))\n",
    "X = df[features]\n",
    "y = df['price.mainValue']"
   ],
   "metadata": {
    "collapsed": false,
    "pycharm": {
     "name": "#%%\n"
    }
   }
  },
  {
   "cell_type": "code",
   "execution_count": 47,
   "metadata": {
    "collapsed": true
   },
   "outputs": [],
   "source": [
    "X_train, X_test, y_train, y_test = train_test_split(X, y, test_size=0.2, random_state=0)"
   ]
  },
  {
   "cell_type": "code",
   "execution_count": 48,
   "outputs": [
    {
     "name": "stdout",
     "output_type": "stream",
     "text": [
      "Model Accuracy: -0.594864354995539\n",
      "$ 129701.84278189455\n"
     ]
    }
   ],
   "source": [
    "from sklearn.dummy import DummyRegressor\n",
    "from sklearn.metrics import mean_absolute_error\n",
    "from sklearn.metrics import r2_score\n",
    "from sklearn.model_selection import train_test_split\n",
    "dummy_median = DummyRegressor(strategy='mean')\n",
    "dummy_regressor = dummy_median.fit(X_train,y_train)\n",
    "dummy_predicts = dummy_regressor.predict(X_test)\n",
    "print(\"Model Accuracy:\", dummy_regressor.score(X_test,y_test)*100)\n",
    "print('$',mean_absolute_error(y_test,dummy_predicts))"
   ],
   "metadata": {
    "collapsed": false,
    "pycharm": {
     "name": "#%%\n"
    }
   }
  },
  {
   "cell_type": "code",
   "execution_count": 49,
   "outputs": [],
   "source": [
    "from sklearn.tree import DecisionTreeRegressor\n",
    "from sklearn.ensemble import RandomForestRegressor\n",
    "from sklearn.ensemble import GradientBoostingRegressor\n",
    "models = [\n",
    "          DecisionTreeRegressor(criterion='mse',max_depth=11,random_state=100),\n",
    "          GradientBoostingRegressor(n_estimators=200,max_depth=12, verbose=2),\n",
    "            RandomForestRegressor(min_samples_leaf =1, n_estimators=100,criterion='mse',max_depth=20,random_state=100,verbose=2)]\n",
    "learning_mods = pd.DataFrame()\n",
    "temp = {}"
   ],
   "metadata": {
    "collapsed": false,
    "pycharm": {
     "name": "#%%\n"
    }
   }
  },
  {
   "cell_type": "code",
   "execution_count": 50,
   "outputs": [
    {
     "name": "stdout",
     "output_type": "stream",
     "text": [
      "score on training 0.9999840568282669\n",
      "r2 score 0.7724647387219437 \n",
      "\n",
      "RandomForestRegressor(max_depth=20, random_state=100, verbose=2)\n",
      "building tree 1 of 100\n",
      "building tree 2 of 100\n",
      "building tree 3 of 100\n",
      "building tree 4 of 100\n",
      "building tree 5 of 100\n",
      "building tree 6 of 100\n",
      "building tree 7 of 100\n",
      "DecisionTreeRegressor(max_depth=11, random_state=100)\n",
      "score on training 0.9783559557561411\n",
      "r2 score 0.6893467582351993 \n",
      "\n",
      "GradientBoostingRegressor(max_depth=12, n_estimators=200, verbose=2)\n",
      "      Iter       Train Loss   Remaining Time \n",
      "         1 55708468809.3663            5.76s\n",
      "         2 45321359303.8547            5.24s\n",
      "         3 36891892262.6912            6.53s\n",
      "         4 30058268664.0145            6.37s\n",
      "         5 24499242047.0752            6.59s\n",
      "         6 19977116999.9738            6.61s\n",
      "         7 16292313532.0767            6.86s\n",
      "         8 13307811781.6034            6.73s\n",
      "         9 10869121720.8225            6.55s\n",
      "        10  8886565311.1491            6.50s\n",
      "        11  7277853128.1360            6.38s\n",
      "        12  5968908065.3502            6.42s\n",
      "        13  4898797164.3396            6.27s\n",
      "        14  4033421854.1458            6.13s\n",
      "        15  3319228665.5051            6.04s\n",
      "        16  2734097077.3999            5.90s\n",
      "        17  2260070469.8515            5.78s\n",
      "        18  1875779276.7809            5.66s\n",
      "        19  1559610067.5025            5.60s\n",
      "        20  1303937634.2213            5.57s\n",
      "        21  1097119393.0000            5.50s\n",
      "        22   923047740.8061            5.45s\n",
      "        23   774701729.3224            5.41s\n",
      "        24   657650584.6064            5.37s\n",
      "        25   557167672.9680            5.33s\n",
      "        26   479727575.3734            5.27s\n",
      "        27   410845416.2237            5.23s\n",
      "        28   358630105.4758            5.58s\n",
      "        29   314757561.4588            5.55s\n",
      "        30   278725719.4482            5.52s\n",
      "        31   245516743.0313            5.52s\n",
      "        32   217376659.5368            5.58s\n",
      "        33   194352955.4199            5.56s\n",
      "        34   176612648.8175            5.55s\n",
      "        35   159708862.1471            5.71s\n",
      "        36   146193761.3721            5.67s\n",
      "        37   131917412.3004            5.58s\n",
      "        38   117660384.6482            5.48s\n",
      "        39   108345486.4713            5.39s\n",
      "        40    98220518.4883            5.29s\n",
      "        41    89138435.8214            5.19s\n",
      "        42    82375401.8685            5.11s\n",
      "        43    76273145.4726            5.02s\n",
      "        44    70688333.5238            4.94s\n",
      "        45    64975338.7068            4.86s\n",
      "        46    61815512.4561            4.79s\n",
      "        47    59368804.4494            4.71s\n",
      "        48    56604138.5697            4.64s\n",
      "        49    53227604.4325            4.58s\n",
      "        50    51725891.9380            4.52s\n",
      "        51    50811265.7787            4.45s\n",
      "        52    47258612.2616            4.39s\n",
      "        53    44634880.8062            4.34s\n",
      "        54    43444823.5173            4.28s\n",
      "        55    41499248.6311            4.22s\n",
      "        56    38041546.6115            4.17s\n",
      "        57    37260239.6281            4.11s\n",
      "        58    36335702.4273            4.05s\n",
      "        59    32976922.1921            4.00s\n",
      "        60    30900349.7356            3.95s\n",
      "        61    29022783.8408            3.90s\n",
      "        62    27404601.4530            3.84s\n",
      "        63    26086139.1525            3.80s\n",
      "        64    25361977.9623            3.76s\n",
      "        65    23752463.3347            3.71s\n",
      "        66    22410115.7369            3.73s\n",
      "        67    21412459.9027            3.69s\n",
      "        68    19950166.5629            3.64s\n",
      "        69    19128824.7287            3.60s\n",
      "        70    18406685.3668            3.56s\n",
      "        71    17851224.9191            3.52s\n",
      "        72    17416358.7406            3.47s\n",
      "        73    16438975.1545            3.43s\n",
      "        74    16026842.3934            3.39s\n",
      "        75    15360825.2405            3.35s\n",
      "        76    15114529.3675            3.31s\n",
      "        77    14884081.1825            3.27s\n",
      "        78    14685859.1294            3.23s\n",
      "        79    13950799.1936            3.19s\n",
      "        80    13314504.4788            3.15s\n",
      "        81    12914584.8999            3.12s\n",
      "        82    12744107.0662            3.07s\n",
      "        83    12028457.2211            3.05s\n",
      "        84    11887614.0319            3.01s\n",
      "        85    11371226.7373            2.99s\n",
      "        86    11259753.2222            2.96s\n",
      "        87    10111444.6462            2.92s\n",
      "        88     9755959.6395            2.89s\n",
      "        89     9392400.8561            2.85s\n",
      "        90     9249898.1793            2.81s\n",
      "        91     8940247.3282            2.78s\n",
      "        92     8698120.1846            2.75s\n",
      "        93     8119742.6417            2.71s\n",
      "        94     7834209.6882            2.68s\n",
      "        95     7672871.8831            2.65s\n",
      "        96     7438545.7326            2.61s\n",
      "        97     7052639.3824            2.58s\n",
      "        98     6780808.1326            2.55s\n",
      "        99     6429957.5819            2.52s\n",
      "       100     6332035.4483            2.49s\n",
      "       101     6088696.7947            2.48s\n",
      "       102     5743356.9770            2.51s\n",
      "       103     5609148.9662            2.49s\n",
      "       104     5537723.1131            2.47s\n",
      "       105     5354554.8975            2.45s\n",
      "       106     5086327.8323            2.43s\n",
      "       107     4883830.1440            2.41s\n",
      "       108     4751555.3584            2.39s\n",
      "       109     4652360.3024            2.36s\n",
      "       110     4324030.8038            2.34s\n",
      "       111     4221674.6820            2.31s\n",
      "       112     4114429.4108            2.29s\n",
      "       113     4043249.0124            2.26s\n",
      "       114     4009743.9614            2.23s\n",
      "       115     3848591.6580            2.20s\n",
      "       116     3821986.8960            2.17s\n",
      "       117     3786028.5307            2.14s\n",
      "       118     3764501.1384            2.11s\n",
      "       119     3650232.7952            2.08s\n",
      "       120     3594807.3963            2.05s\n",
      "       121     3553056.2162            2.02s\n",
      "       122     3513245.9815            1.99s\n",
      "       123     3439766.5429            1.96s\n",
      "       124     3422435.5172            1.93s\n",
      "       125     3255463.3819            1.90s\n",
      "       126     3154470.3597            1.87s\n",
      "       127     3022626.2239            1.84s\n",
      "       128     2934235.5685            1.81s\n",
      "       129     2825744.4559            1.79s\n",
      "       130     2735276.7254            1.76s\n",
      "       131     2664351.2187            1.73s\n",
      "       132     2647015.0793            1.70s\n",
      "       133     2616354.5201            1.67s\n",
      "       134     2584351.0285            1.65s\n",
      "       135     2525973.1887            1.62s\n",
      "       136     2483462.2879            1.59s\n",
      "       137     2455134.8611            1.56s\n",
      "       138     2424169.6327            1.53s\n",
      "       139     2351162.1536            1.50s\n",
      "       140     2327286.5161            1.48s\n",
      "       141     2295734.3819            1.45s\n",
      "       142     2272936.2674            1.42s\n",
      "       143     2224703.5494            1.39s\n",
      "       144     2199568.0298            1.37s\n",
      "       145     2121920.9670            1.34s\n",
      "       146     2027860.3199            1.32s\n",
      "       147     2000284.9348            1.29s\n",
      "       148     1937158.1212            1.27s\n",
      "       149     1899164.6540            1.24s\n",
      "       150     1887559.9706            1.22s\n",
      "       151     1866611.4755            1.19s\n",
      "       152     1847168.9650            1.16s\n",
      "       153     1826920.6309            1.14s\n",
      "       154     1793140.8613            1.11s\n",
      "       155     1775110.2790            1.08s\n",
      "       156     1748689.8928            1.06s\n",
      "       157     1734483.8919            1.03s\n",
      "       158     1722861.1899            1.01s\n",
      "       159     1686606.3459            0.98s\n",
      "       160     1661893.0306            0.96s\n",
      "       161     1655894.5166            0.93s\n",
      "       162     1635881.2766            0.91s\n",
      "       163     1619495.5707            0.88s\n",
      "       164     1611596.2752            0.85s\n",
      "       165     1568563.1271            0.83s\n",
      "       166     1544066.3153            0.81s\n",
      "       167     1536932.4169            0.78s\n",
      "       168     1526301.2457            0.76s\n",
      "       169     1517981.4576            0.73s\n",
      "       170     1482151.5581            0.71s\n",
      "       171     1453466.5025            0.68s\n",
      "       172     1409280.2491            0.66s\n",
      "       173     1399654.3829            0.63s\n",
      "       174     1370316.6932            0.61s\n",
      "       175     1351775.5701            0.59s\n",
      "       176     1348904.4526            0.56s\n",
      "       177     1342385.5430            0.54s\n",
      "       178     1309689.7422            0.51s\n",
      "       179     1292228.0443            0.49s\n",
      "       180     1288205.5570            0.47s\n",
      "       181     1282057.3498            0.44s\n",
      "       182     1278479.7993            0.42s\n",
      "       183     1269164.9005            0.40s\n",
      "       184     1265590.4991            0.37s\n",
      "       185     1264265.7762            0.35s\n",
      "       186     1259343.3971            0.33s\n",
      "       187     1250252.7174            0.30s\n",
      "       188     1245656.9619            0.28s\n",
      "       189     1243466.9513            0.25s\n",
      "       190     1232660.6471            0.23s\n",
      "       191     1223923.8953            0.21s\n",
      "       192     1217098.8989            0.18s\n",
      "       193     1203786.1861            0.16s\n",
      "       194     1194194.8027            0.14s\n",
      "       195     1185744.0669            0.12s\n",
      "       196     1174737.3101            0.09s\n",
      "       197     1170669.1158            0.07s\n",
      "       198     1159523.5392            0.05s\n",
      "       199     1148737.3851            0.02s\n",
      "       200     1147296.3945            0.00s\n",
      "score on training 0.999983257997639\n",
      "r2 score 0.7735507422696078 \n",
      "\n",
      "RandomForestRegressor(max_depth=20, random_state=100, verbose=2)\n",
      "building tree 1 of 100\n",
      "building tree 2 of 100\n",
      "building tree 3 of 100\n",
      "building tree 4 of 100\n",
      "building tree 5 of 100\n",
      "building tree 6 of 100\n",
      "building tree 7 of 100\n",
      "building tree 8 of 100\n",
      "building tree 9 of 100\n",
      "building tree 10 of 100\n",
      "building tree 11 of 100\n",
      "building tree 12 of 100\n",
      "building tree 13 of 100\n",
      "building tree 14 of 100\n",
      "building tree 15 of 100\n",
      "building tree 16 of 100\n",
      "building tree 17 of 100\n",
      "building tree 18 of 100\n",
      "building tree 19 of 100\n",
      "building tree 20 of 100\n",
      "building tree 21 of 100\n",
      "building tree 22 of 100\n",
      "building tree 23 of 100\n",
      "building tree 24 of 100\n",
      "building tree 25 of 100\n",
      "building tree 26 of 100\n",
      "building tree 27 of 100\n",
      "building tree 28 of 100\n",
      "building tree 29 of 100\n",
      "building tree 30 of 100\n",
      "building tree 31 of 100\n",
      "building tree 32 of 100\n",
      "building tree 33 of 100\n",
      "building tree 34 of 100\n",
      "building tree 35 of 100\n",
      "building tree 36 of 100\n",
      "building tree 37 of 100\n",
      "building tree 38 of 100\n",
      "building tree 39 of 100\n",
      "building tree 40 of 100\n",
      "building tree 41 of 100\n",
      "building tree 42 of 100\n",
      "building tree 43 of 100\n",
      "building tree 44 of 100\n",
      "building tree 45 of 100\n",
      "building tree 46 of 100\n",
      "building tree 47 of 100\n",
      "building tree 48 of 100\n",
      "building tree 49 of 100\n",
      "building tree 50 of 100\n",
      "building tree 51 of 100\n",
      "building tree 52 of 100\n",
      "building tree 53 of 100\n",
      "building tree 54 of 100\n",
      "building tree 55 of 100\n",
      "building tree 56 of 100\n",
      "building tree 57 of 100\n",
      "building tree 58 of 100\n",
      "building tree 59 of 100\n",
      "building tree 60 of 100\n",
      "building tree 61 of 100\n",
      "building tree 62 of 100\n",
      "building tree 63 of 100\n",
      "building tree 64 of 100\n",
      "building tree 65 of 100\n",
      "building tree 66 of 100\n",
      "building tree 67 of 100\n",
      "building tree 68 of 100\n",
      "building tree 69 of 100\n",
      "building tree 70 of 100\n",
      "building tree 71 of 100\n",
      "building tree 72 of 100\n",
      "building tree 73 of 100\n",
      "building tree 74 of 100\n",
      "building tree 75 of 100\n",
      "building tree 76 of 100\n",
      "building tree 77 of 100\n",
      "building tree 78 of 100\n",
      "building tree 79 of 100\n",
      "building tree 80 of 100\n",
      "building tree 81 of 100\n",
      "building tree 82 of 100\n",
      "building tree 83 of 100\n",
      "building tree 84 of 100\n",
      "building tree 85 of 100\n",
      "building tree 86 of 100\n",
      "building tree 87 of 100\n",
      "building tree 88 of 100\n",
      "building tree 89 of 100\n",
      "building tree 90 of 100\n",
      "building tree 91 of 100\n",
      "building tree 92 of 100\n",
      "building tree 93 of 100\n",
      "building tree 94 of 100\n",
      "building tree 95 of 100\n",
      "building tree 96 of 100\n",
      "building tree 97 of 100\n",
      "building tree 98 of 100\n",
      "building tree 99 of 100\n",
      "building tree 100 of 100\n",
      "score on training 0.9643022476844\n",
      "r2 score 0.7877087320875457 \n",
      "\n"
     ]
    },
    {
     "name": "stderr",
     "output_type": "stream",
     "text": [
      "[Parallel(n_jobs=1)]: Using backend SequentialBackend with 1 concurrent workers.\n",
      "[Parallel(n_jobs=1)]: Done   1 out of   1 | elapsed:    0.0s remaining:    0.0s\n",
      "[Parallel(n_jobs=1)]: Done 100 out of 100 | elapsed:    2.6s finished\n",
      "[Parallel(n_jobs=1)]: Using backend SequentialBackend with 1 concurrent workers.\n",
      "[Parallel(n_jobs=1)]: Done   1 out of   1 | elapsed:    0.0s remaining:    0.0s\n",
      "[Parallel(n_jobs=1)]: Done 100 out of 100 | elapsed:    0.1s finished\n",
      "[Parallel(n_jobs=1)]: Using backend SequentialBackend with 1 concurrent workers.\n",
      "[Parallel(n_jobs=1)]: Done   1 out of   1 | elapsed:    0.0s remaining:    0.0s\n",
      "[Parallel(n_jobs=1)]: Done 100 out of 100 | elapsed:    0.0s finished\n",
      "[Parallel(n_jobs=1)]: Using backend SequentialBackend with 1 concurrent workers.\n",
      "[Parallel(n_jobs=1)]: Done   1 out of   1 | elapsed:    0.0s remaining:    0.0s\n",
      "[Parallel(n_jobs=1)]: Done 100 out of 100 | elapsed:    0.0s finished\n"
     ]
    },
    {
     "data": {
      "text/plain": "<Figure size 2160x864 with 1 Axes>",
      "image/png": "[encoded data removed]"
     },
     "metadata": {
      "needs_background": "light"
     },
     "output_type": "display_data"
    }
   ],
   "source": [
    "#run through models\n",
    "for model in models:\n",
    "    print(model)\n",
    "    m = str(model)\n",
    "    temp['Model'] = m[:m.index('(')]\n",
    "    model.fit(X_train, y_train)\n",
    "    temp['R2_Price'] = r2_score(y_test, model.predict(X_test))\n",
    "    print('score on training',model.score(X_train, y_train))\n",
    "    print('r2 score',r2_score(y_test, model.predict(X_test)),'\\n')\n",
    "    learning_mods = learning_mods.append([temp])\n",
    "learning_mods.set_index('Model', inplace=True)\n",
    "\n",
    "fig, axes = plt.subplots(ncols=1, figsize=(30, 12))\n",
    "learning_mods.R2_Price.plot(ax=axes, kind='bar', title='R2_Price')\n",
    "plt.show()"
   ],
   "metadata": {
    "collapsed": false,
    "pycharm": {
     "name": "#%%\n"
    }
   }
  },
  {
   "cell_type": "code",
   "execution_count": 51,
   "outputs": [],
   "source": [
    "regressionTree_imp = model.feature_importances_"
   ],
   "metadata": {
    "collapsed": false,
    "pycharm": {
     "name": "#%%\n"
    }
   }
  },
  {
   "cell_type": "code",
   "execution_count": 52,
   "outputs": [],
   "source": [
    "data_tuples = list(zip(features,regressionTree_imp.tolist()))\n",
    "features_importance = pd.DataFrame(data_tuples, columns=['Feature','Value'])"
   ],
   "metadata": {
    "collapsed": false,
    "pycharm": {
     "name": "#%%\n"
    }
   }
  },
  {
   "cell_type": "code",
   "execution_count": 53,
   "outputs": [
    {
     "name": "stdout",
     "output_type": "stream",
     "text": [
      "101\n",
      "35\n"
     ]
    }
   ],
   "source": [
    "print(len(features_importance))\n",
    "unimportant_features = features_importance[features_importance['Value'] < .001]\n",
    "features_importance = features_importance[features_importance['Value'] > .001]\n",
    "print(len(features_importance))"
   ],
   "metadata": {
    "collapsed": false,
    "pycharm": {
     "name": "#%%\n"
    }
   }
  },
  {
   "cell_type": "code",
   "execution_count": 54,
   "outputs": [
    {
     "data": {
      "text/plain": "                                  Feature  \\\n1            property.netHabitableSurface   \n9                             Living area   \n58      property.location.postalCode_2000   \n4                       Construction year   \n10                    Living room surface   \n3                               Bathrooms   \n6    E-level (primary energy consumption)   \n13                       Cadastral income   \n18                        Terrace surface   \n0                   property.bedroomCount   \n14                      Bedroom 1 surface   \n22                               Elevator   \n36  Flood zone type_Recognized flood zone   \n21                       Number of floors   \n2                            Armored door   \n12                                Toilets   \n15                      Bedroom 2 surface   \n20                                Floor :   \n7                            Energy class   \n29             property.subtype_PENTHOUSE   \n16                 Covered parking spaces   \n92      property.location.postalCode_2900   \n8                                 Facades   \n33         Flood zone type_Non flood zone   \n59      property.location.postalCode_2018   \n40                       Heating type_Gas   \n50                Building condition_Good   \n49              Building condition_As new   \n17                               Intercom   \n56                       As built plan_No   \n28                  property.subtype_LOFT   \n42            Kitchen type_Hyper equipped   \n11           Planning permission obtained   \n43                 Kitchen type_Installed   \n5                          Double glazing   \n\n                                                Value  \n1  0.622245524868991206624002643366111442446708679...  \n9  0.113420366290324592384308743930887430906295776...  \n58 0.033988223721815834232895525701678707264363765...  \n4  0.025896594259504430307616829054495610762387514...  \n10 0.017676963742191291462102498144304263405501842...  \n3  0.015676130332528761396337912970011529978364706...  \n6  0.013958944902094051407348551663289981661364436...  \n13 0.012731397802590886311757678583944652928039431...  \n18 0.012396403679018641943998524368453217903152108...  \n0  0.011541333655399804714036804398347157984972000...  \n14 0.011487006395744635972588909567093651276081800...  \n22 0.009474146331819161687137764715771481860429048...  \n36 0.008223397234812813635929096278687211452051997...  \n21 0.007849104124055757830680235542786249425262212...  \n2  0.007409390714719689755018983134959853487089276...  \n12 0.007096479730650865486163425543963967356830835...  \n15 0.006717448954779975563156302342804337968118488...  \n20 0.006330076731697420119870933774564036866649985...  \n7  0.005497816074050886937796267517342130304314196...  \n29 0.005126982699830601869495083633410104084759950...  \n16 0.005005861415091040871050420690835380810312926...  \n92 0.003170347230980672965233724269751292013097554...  \n8  0.002881873376139218369956784826513285224791616...  \n33 0.002844411609026920289416962006612266122829169...  \n59 0.002720450136935537253229933085663105885032564...  \n40 0.002613149377830489925728096878287942672614008...  \n50 0.002058984840662633503810541313328030810225754...  \n49 0.001802491485905430507533098172245900059351697...  \n17 0.001743817842208158618716451471186701382976025...  \n56 0.001652935586202235098557400405638873053248971...  \n28 0.001625107868655040893601793072775762993842363...  \n42 0.001388489454216615620954500265327169472584500...  \n11 0.001192424971774380454067610024537771096220239...  \n43 0.001187391013845877883736701363659449270926415...  \n5  0.001028247811182266251844863447217903740238398...  ",
      "text/html": "<div>\n<style scoped>\n    .dataframe tbody tr th:only-of-type {\n        vertical-align: middle;\n    }\n\n    .dataframe tbody tr th {\n        vertical-align: top;\n    }\n\n    .dataframe thead th {\n        text-align: right;\n    }\n</style>\n<table border=\"1\" class=\"dataframe\">\n  <thead>\n    <tr style=\"text-align: right;\">\n      <th></th>\n      <th>Feature</th>\n      <th>Value</th>\n    </tr>\n  </thead>\n  <tbody>\n    <tr>\n      <th>1</th>\n      <td>property.netHabitableSurface</td>\n      <td>0.622245524868991206624002643366111442446708679...</td>\n    </tr>\n    <tr>\n      <th>9</th>\n      <td>Living area</td>\n      <td>0.113420366290324592384308743930887430906295776...</td>\n    </tr>\n    <tr>\n      <th>58</th>\n      <td>property.location.postalCode_2000</td>\n      <td>0.033988223721815834232895525701678707264363765...</td>\n    </tr>\n    <tr>\n      <th>4</th>\n      <td>Construction year</td>\n      <td>0.025896594259504430307616829054495610762387514...</td>\n    </tr>\n    <tr>\n      <th>10</th>\n      <td>Living room surface</td>\n      <td>0.017676963742191291462102498144304263405501842...</td>\n    </tr>\n    <tr>\n      <th>3</th>\n      <td>Bathrooms</td>\n      <td>0.015676130332528761396337912970011529978364706...</td>\n    </tr>\n    <tr>\n      <th>6</th>\n      <td>E-level (primary energy consumption)</td>\n      <td>0.013958944902094051407348551663289981661364436...</td>\n    </tr>\n    <tr>\n      <th>13</th>\n      <td>Cadastral income</td>\n      <td>0.012731397802590886311757678583944652928039431...</td>\n    </tr>\n    <tr>\n      <th>18</th>\n      <td>Terrace surface</td>\n      <td>0.012396403679018641943998524368453217903152108...</td>\n    </tr>\n    <tr>\n      <th>0</th>\n      <td>property.bedroomCount</td>\n      <td>0.011541333655399804714036804398347157984972000...</td>\n    </tr>\n    <tr>\n      <th>14</th>\n      <td>Bedroom 1 surface</td>\n      <td>0.011487006395744635972588909567093651276081800...</td>\n    </tr>\n    <tr>\n      <th>22</th>\n      <td>Elevator</td>\n      <td>0.009474146331819161687137764715771481860429048...</td>\n    </tr>\n    <tr>\n      <th>36</th>\n      <td>Flood zone type_Recognized flood zone</td>\n      <td>0.008223397234812813635929096278687211452051997...</td>\n    </tr>\n    <tr>\n      <th>21</th>\n      <td>Number of floors</td>\n      <td>0.007849104124055757830680235542786249425262212...</td>\n    </tr>\n    <tr>\n      <th>2</th>\n      <td>Armored door</td>\n      <td>0.007409390714719689755018983134959853487089276...</td>\n    </tr>\n    <tr>\n      <th>12</th>\n      <td>Toilets</td>\n      <td>0.007096479730650865486163425543963967356830835...</td>\n    </tr>\n    <tr>\n      <th>15</th>\n      <td>Bedroom 2 surface</td>\n      <td>0.006717448954779975563156302342804337968118488...</td>\n    </tr>\n    <tr>\n      <th>20</th>\n      <td>Floor :</td>\n      <td>0.006330076731697420119870933774564036866649985...</td>\n    </tr>\n    <tr>\n      <th>7</th>\n      <td>Energy class</td>\n      <td>0.005497816074050886937796267517342130304314196...</td>\n    </tr>\n    <tr>\n      <th>29</th>\n      <td>property.subtype_PENTHOUSE</td>\n      <td>0.005126982699830601869495083633410104084759950...</td>\n    </tr>\n    <tr>\n      <th>16</th>\n      <td>Covered parking spaces</td>\n      <td>0.005005861415091040871050420690835380810312926...</td>\n    </tr>\n    <tr>\n      <th>92</th>\n      <td>property.location.postalCode_2900</td>\n      <td>0.003170347230980672965233724269751292013097554...</td>\n    </tr>\n    <tr>\n      <th>8</th>\n      <td>Facades</td>\n      <td>0.002881873376139218369956784826513285224791616...</td>\n    </tr>\n    <tr>\n      <th>33</th>\n      <td>Flood zone type_Non flood zone</td>\n      <td>0.002844411609026920289416962006612266122829169...</td>\n    </tr>\n    <tr>\n      <th>59</th>\n      <td>property.location.postalCode_2018</td>\n      <td>0.002720450136935537253229933085663105885032564...</td>\n    </tr>\n    <tr>\n      <th>40</th>\n      <td>Heating type_Gas</td>\n      <td>0.002613149377830489925728096878287942672614008...</td>\n    </tr>\n    <tr>\n      <th>50</th>\n      <td>Building condition_Good</td>\n      <td>0.002058984840662633503810541313328030810225754...</td>\n    </tr>\n    <tr>\n      <th>49</th>\n      <td>Building condition_As new</td>\n      <td>0.001802491485905430507533098172245900059351697...</td>\n    </tr>\n    <tr>\n      <th>17</th>\n      <td>Intercom</td>\n      <td>0.001743817842208158618716451471186701382976025...</td>\n    </tr>\n    <tr>\n      <th>56</th>\n      <td>As built plan_No</td>\n      <td>0.001652935586202235098557400405638873053248971...</td>\n    </tr>\n    <tr>\n      <th>28</th>\n      <td>property.subtype_LOFT</td>\n      <td>0.001625107868655040893601793072775762993842363...</td>\n    </tr>\n    <tr>\n      <th>42</th>\n      <td>Kitchen type_Hyper equipped</td>\n      <td>0.001388489454216615620954500265327169472584500...</td>\n    </tr>\n    <tr>\n      <th>11</th>\n      <td>Planning permission obtained</td>\n      <td>0.001192424971774380454067610024537771096220239...</td>\n    </tr>\n    <tr>\n      <th>43</th>\n      <td>Kitchen type_Installed</td>\n      <td>0.001187391013845877883736701363659449270926415...</td>\n    </tr>\n    <tr>\n      <th>5</th>\n      <td>Double glazing</td>\n      <td>0.001028247811182266251844863447217903740238398...</td>\n    </tr>\n  </tbody>\n</table>\n</div>"
     },
     "execution_count": 54,
     "metadata": {},
     "output_type": "execute_result"
    }
   ],
   "source": [
    "features_importance = features_importance.sort_values(by=['Value'], ascending=False)\n",
    "pd.set_option('display.float_format', lambda x: '%.1000f' % x)\n",
    "features_importance"
   ],
   "metadata": {
    "collapsed": false,
    "pycharm": {
     "name": "#%%\n"
    }
   }
  },
  {
   "cell_type": "code",
   "execution_count": 55,
   "outputs": [
    {
     "name": "stderr",
     "output_type": "stream",
     "text": [
      "[Parallel(n_jobs=1)]: Using backend SequentialBackend with 1 concurrent workers.\n",
      "[Parallel(n_jobs=1)]: Done   1 out of   1 | elapsed:    0.0s remaining:    0.0s\n",
      "[Parallel(n_jobs=1)]: Done 100 out of 100 | elapsed:    0.0s finished\n"
     ]
    }
   ],
   "source": [
    "data_tuples = list(zip(y_test,model.predict(X_test)))\n",
    "voorspellingen = pd.DataFrame(data_tuples, columns=['Echte Waarde','Voorspelling'])\n",
    "voorspellingen['Voorspelling'] = voorspellingen['Voorspelling'].astype(int)"
   ],
   "metadata": {
    "collapsed": false,
    "pycharm": {
     "name": "#%%\n"
    }
   }
  },
  {
   "cell_type": "code",
   "execution_count": 59,
   "outputs": [
    {
     "data": {
      "text/plain": "     Echte Waarde  Voorspelling\n0          149000        194648\n1          150000        197054\n2          379000        516095\n3          165000        218263\n4          279000        199867\n..            ...           ...\n402        199900        196170\n403        230000        720204\n404        150000        272618\n405        285500        863475\n406        130000        129769\n\n[407 rows x 2 columns]",
      "text/html": "<div>\n<style scoped>\n    .dataframe tbody tr th:only-of-type {\n        vertical-align: middle;\n    }\n\n    .dataframe tbody tr th {\n        vertical-align: top;\n    }\n\n    .dataframe thead th {\n        text-align: right;\n    }\n</style>\n<table border=\"1\" class=\"dataframe\">\n  <thead>\n    <tr style=\"text-align: right;\">\n      <th></th>\n      <th>Echte Waarde</th>\n      <th>Voorspelling</th>\n    </tr>\n  </thead>\n  <tbody>\n    <tr>\n      <th>0</th>\n      <td>149000</td>\n      <td>194648</td>\n    </tr>\n    <tr>\n      <th>1</th>\n      <td>150000</td>\n      <td>197054</td>\n    </tr>\n    <tr>\n      <th>2</th>\n      <td>379000</td>\n      <td>516095</td>\n    </tr>\n    <tr>\n      <th>3</th>\n      <td>165000</td>\n      <td>218263</td>\n    </tr>\n    <tr>\n      <th>4</th>\n      <td>279000</td>\n      <td>199867</td>\n    </tr>\n    <tr>\n      <th>...</th>\n      <td>...</td>\n      <td>...</td>\n    </tr>\n    <tr>\n      <th>402</th>\n      <td>199900</td>\n      <td>196170</td>\n    </tr>\n    <tr>\n      <th>403</th>\n      <td>230000</td>\n      <td>720204</td>\n    </tr>\n    <tr>\n      <th>404</th>\n      <td>150000</td>\n      <td>272618</td>\n    </tr>\n    <tr>\n      <th>405</th>\n      <td>285500</td>\n      <td>863475</td>\n    </tr>\n    <tr>\n      <th>406</th>\n      <td>130000</td>\n      <td>129769</td>\n    </tr>\n  </tbody>\n</table>\n<p>407 rows × 2 columns</p>\n</div>"
     },
     "execution_count": 59,
     "metadata": {},
     "output_type": "execute_result"
    }
   ],
   "source": [
    "voorspellingen.astype(int)"
   ],
   "metadata": {
    "collapsed": false,
    "pycharm": {
     "name": "#%%\n"
    }
   }
  },
  {
   "cell_type": "code",
   "execution_count": null,
   "outputs": [],
   "source": [
    "\n"
   ],
   "metadata": {
    "collapsed": false,
    "pycharm": {
     "name": "#%%\n"
    }
   }
  }
 ],
 "metadata": {
  "kernelspec": {
   "display_name": "Python 3",
   "language": "python",
   "name": "python3"
  },
  "language_info": {
   "codemirror_mode": {
    "name": "ipython",
    "version": 2
   },
   "file_extension": ".py",
   "mimetype": "text/x-python",
   "name": "python",
   "nbconvert_exporter": "python",
   "pygments_lexer": "ipython2",
   "version": "2.7.6"
  }
 },
 "nbformat": 4,
 "nbformat_minor": 0
}