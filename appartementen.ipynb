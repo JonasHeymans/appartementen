{
 "cells": [
  {
   "cell_type": "code",
   "execution_count": 171,
   "outputs": [],
   "source": [
    "import pandas as pd\n",
    "import matplotlib.pyplot as plt\n",
    "import numpy as np\n",
    "import seaborn as sns"
   ],
   "metadata": {
    "collapsed": false,
    "pycharm": {
     "name": "#%%\n"
    }
   }
  },
  {
   "cell_type": "code",
   "execution_count": 172,
   "outputs": [],
   "source": [
    "df = pd.read_pickle('files/preprosessed.pkl')"
   ],
   "metadata": {
    "collapsed": false,
    "pycharm": {
     "name": "#%%\n"
    }
   }
  },
  {
   "cell_type": "code",
   "execution_count": 173,
   "outputs": [],
   "source": [
    "# We use the numpy fuction log1p which  applies log(1+x)\n",
    "# to all elements of the column to fix skewed features\n",
    "# Source: https://www.kaggle.com/erick5/predicting-house-prices-with-machine-learning\n",
    "\n",
    "df[\"price.mainValue\"] = np.log1p(df[\"price.mainValue\"])\n"
   ],
   "metadata": {
    "collapsed": false,
    "pycharm": {
     "name": "#%%\n"
    }
   }
  },
  {
   "cell_type": "code",
   "execution_count": 174,
   "outputs": [
    {
     "data": {
      "text/plain": "                                                                                      Skewed Features\nproperty.subtype_TRIPLEX                           45.06662281427218630369679885916411876678466796...\nFlood zone type_Possible circumscribed watersid... 45.06662281427217209284208365716040134429931640...\nproperty.location.postalCode_2030                  45.06662281427213656570529565215110778808593750...\nFlood zone type_context_property-page.circumscr... 45.06662281427159655322611797600984573364257812...\nproperty.location.postalCode_2920                  45.06662281427153260437989956699311733245849609...",
      "text/html": "<div>\n<style scoped>\n    .dataframe tbody tr th:only-of-type {\n        vertical-align: middle;\n    }\n\n    .dataframe tbody tr th {\n        vertical-align: top;\n    }\n\n    .dataframe thead th {\n        text-align: right;\n    }\n</style>\n<table border=\"1\" class=\"dataframe\">\n  <thead>\n    <tr style=\"text-align: right;\">\n      <th></th>\n      <th>Skewed Features</th>\n    </tr>\n  </thead>\n  <tbody>\n    <tr>\n      <th>property.subtype_TRIPLEX</th>\n      <td>45.06662281427218630369679885916411876678466796...</td>\n    </tr>\n    <tr>\n      <th>Flood zone type_Possible circumscribed waterside zone</th>\n      <td>45.06662281427217209284208365716040134429931640...</td>\n    </tr>\n    <tr>\n      <th>property.location.postalCode_2030</th>\n      <td>45.06662281427213656570529565215110778808593750...</td>\n    </tr>\n    <tr>\n      <th>Flood zone type_context_property-page.circumscribed_flood_zone</th>\n      <td>45.06662281427159655322611797600984573364257812...</td>\n    </tr>\n    <tr>\n      <th>property.location.postalCode_2920</th>\n      <td>45.06662281427153260437989956699311733245849609...</td>\n    </tr>\n  </tbody>\n</table>\n</div>"
     },
     "execution_count": 174,
     "metadata": {},
     "output_type": "execute_result"
    }
   ],
   "source": [
    "from scipy.stats import skew\n",
    "\n",
    "numeric_feats = df.dtypes[df.dtypes != \"object\"].index\n",
    "skewed_feats = df[numeric_feats].apply(lambda x: skew(x.dropna()))\\\n",
    "    .sort_values(ascending=False)\n",
    "skewness = pd.DataFrame({'Skewed Features' :skewed_feats})\n",
    "skewness.head()\n"
   ],
   "metadata": {
    "collapsed": false,
    "pycharm": {
     "name": "#%%\n"
    }
   }
  },
  {
   "cell_type": "code",
   "execution_count": 175,
   "outputs": [
    {
     "name": "stdout",
     "output_type": "stream",
     "text": [
      "There are 104 skewed numerical features to Box Cox transform\n"
     ]
    }
   ],
   "source": [
    "skewness = skewness[abs(skewness) > 0.75]\n",
    "print(\"There are {} skewed numerical features to Box Cox transform\".format(skewness.shape[0]))\n",
    "\n",
    "from scipy.special import boxcox1p\n",
    "skewed_features = skewness.index\n",
    "lam = 0.15\n",
    "for feat in skewed_features:\n",
    "    df[feat] = boxcox1p(df[feat], lam)\n",
    "    df[feat] += 1"
   ],
   "metadata": {
    "collapsed": false,
    "pycharm": {
     "name": "#%%\n"
    }
   }
  },
  {
   "cell_type": "code",
   "execution_count": 176,
   "outputs": [],
   "source": [
    "from sklearn.model_selection import train_test_split\n",
    "features =  list(df.drop(columns=['price.mainValue','id','Unnamed: 0.1'],axis=1))\n",
    "X = df[features]\n",
    "y = df['price.mainValue']"
   ],
   "metadata": {
    "collapsed": false,
    "pycharm": {
     "name": "#%%\n"
    }
   }
  },
  {
   "cell_type": "code",
   "execution_count": 177,
   "metadata": {
    "collapsed": true
   },
   "outputs": [],
   "source": [
    "X_train, X_test, y_train, y_test = train_test_split(X, y, test_size=0.2, random_state=0)"
   ]
  },
  {
   "cell_type": "code",
   "execution_count": 178,
   "outputs": [
    {
     "name": "stdout",
     "output_type": "stream",
     "text": [
      "Model Accuracy: -0.43816629302797505\n",
      "$ 0.038971581392239274\n"
     ]
    }
   ],
   "source": [
    "from sklearn.dummy import DummyRegressor\n",
    "from sklearn.metrics import mean_absolute_error\n",
    "from sklearn.metrics import r2_score\n",
    "from sklearn.model_selection import train_test_split\n",
    "dummy_median = DummyRegressor(strategy='mean')\n",
    "dummy_regressor = dummy_median.fit(X_train,y_train)\n",
    "dummy_predicts = dummy_regressor.predict(X_test)\n",
    "print(\"Model Accuracy:\", dummy_regressor.score(X_test,y_test)*100)\n",
    "print('$',mean_absolute_error(y_test,dummy_predicts))"
   ],
   "metadata": {
    "collapsed": false,
    "pycharm": {
     "name": "#%%\n"
    }
   }
  },
  {
   "cell_type": "code",
   "execution_count": 179,
   "outputs": [],
   "source": [
    "from sklearn.tree import DecisionTreeRegressor\n",
    "from sklearn.ensemble import RandomForestRegressor\n",
    "from sklearn.ensemble import GradientBoostingRegressor\n",
    "models = [\n",
    "          DecisionTreeRegressor(criterion='mse',max_depth=11),\n",
    "          GradientBoostingRegressor(n_estimators=200,max_depth=12, verbose=0),\n",
    "            RandomForestRegressor(min_samples_leaf =1, n_estimators=100,criterion='mse',max_depth=20,verbose=0)]\n",
    "learning_mods = pd.DataFrame()\n",
    "temp = {}"
   ],
   "metadata": {
    "collapsed": false,
    "pycharm": {
     "name": "#%%\n"
    }
   }
  },
  {
   "cell_type": "code",
   "execution_count": 180,
   "outputs": [
    {
     "name": "stdout",
     "output_type": "stream",
     "text": [
      "DecisionTreeRegressor(max_depth=11)\n",
      "score on training 0.9478499812470625\n",
      "r2 score 0.6178631713860823 \n",
      "\n",
      "GradientBoostingRegressor(max_depth=12, n_estimators=200)\n",
      "score on training 0.9999165959959918\n",
      "r2 score 0.7551414875192932 \n",
      "\n",
      "RandomForestRegressor(max_depth=20)\n",
      "score on training 0.9721812045751208\n",
      "r2 score 0.7964928344996616 \n",
      "\n"
     ]
    },
    {
     "data": {
      "text/plain": "<Figure size 2160x864 with 1 Axes>",
      "image/png": "[encoded data removed]"
     },
     "metadata": {
      "needs_background": "light"
     },
     "output_type": "display_data"
    }
   ],
   "source": [
    "#run through models\n",
    "for model in models:\n",
    "    print(model)\n",
    "    m = str(model)\n",
    "    temp['Model'] = m[:m.index('(')]\n",
    "    model.fit(X_train, y_train)\n",
    "    temp['R2_Price'] = r2_score(y_test, model.predict(X_test))\n",
    "    print('score on training',model.score(X_train, y_train))\n",
    "    print('r2 score',r2_score(y_test, model.predict(X_test)),'\\n')\n",
    "    learning_mods = learning_mods.append([temp])\n",
    "learning_mods.set_index('Model', inplace=True)\n",
    "\n",
    "fig, axes = plt.subplots(ncols=1, figsize=(30, 12))\n",
    "learning_mods.R2_Price.plot(ax=axes, kind='bar', title='R2_Price')\n",
    "plt.show()"
   ],
   "metadata": {
    "collapsed": false,
    "pycharm": {
     "name": "#%%\n"
    }
   }
  },
  {
   "cell_type": "code",
   "execution_count": 181,
   "outputs": [],
   "source": [
    "regressionTree_imp = model.feature_importances_"
   ],
   "metadata": {
    "collapsed": false,
    "pycharm": {
     "name": "#%%\n"
    }
   }
  },
  {
   "cell_type": "code",
   "execution_count": 182,
   "outputs": [],
   "source": [
    "data_tuples = list(zip(features,regressionTree_imp.tolist()))\n",
    "features_importance = pd.DataFrame(data_tuples, columns=['Feature','Value'])"
   ],
   "metadata": {
    "collapsed": false,
    "pycharm": {
     "name": "#%%\n"
    }
   }
  },
  {
   "cell_type": "code",
   "execution_count": 183,
   "outputs": [
    {
     "name": "stdout",
     "output_type": "stream",
     "text": [
      "101\n",
      "12\n"
     ]
    }
   ],
   "source": [
    "print(len(features_importance))\n",
    "unimportant_features = features_importance[features_importance['Value'] < .01]\n",
    "features_importance = features_importance[features_importance['Value'] > .01]\n",
    "print(len(features_importance))"
   ],
   "metadata": {
    "collapsed": false,
    "pycharm": {
     "name": "#%%\n"
    }
   }
  },
  {
   "cell_type": "code",
   "execution_count": 184,
   "outputs": [
    {
     "data": {
      "text/plain": "                                 Feature  \\\n1           property.netHabitableSurface   \n9                            Living area   \n58     property.location.postalCode_2000   \n4                      Construction year   \n7                           Energy class   \n6   E-level (primary energy consumption)   \n18                       Terrace surface   \n13                      Cadastral income   \n0                  property.bedroomCount   \n10                   Living room surface   \n3                              Bathrooms   \n21                      Number of floors   \n\n                                                Value  \n1  0.606959220550611910915961288992548361420631408...  \n9  0.074736423175951999242627721287135500460863113...  \n58 0.058682190946057879998853934466751525178551673...  \n4  0.030992726077554579033890291839270503260195255...  \n7  0.019330853036271803541135128057248948607593774...  \n6  0.015129845405943686056926544836187531473115086...  \n18 0.014377291048778190196699711123073939234018325...  \n13 0.014210426237124158810321006285448675043880939...  \n0  0.013958133838041071606017595740922843106091022...  \n10 0.012108215733625049895239023101112252334132790...  \n3  0.011464912253401448108403037906555255176499485...  \n21 0.010190193754862415798090324869917822070419788...  ",
      "text/html": "<div>\n<style scoped>\n    .dataframe tbody tr th:only-of-type {\n        vertical-align: middle;\n    }\n\n    .dataframe tbody tr th {\n        vertical-align: top;\n    }\n\n    .dataframe thead th {\n        text-align: right;\n    }\n</style>\n<table border=\"1\" class=\"dataframe\">\n  <thead>\n    <tr style=\"text-align: right;\">\n      <th></th>\n      <th>Feature</th>\n      <th>Value</th>\n    </tr>\n  </thead>\n  <tbody>\n    <tr>\n      <th>1</th>\n      <td>property.netHabitableSurface</td>\n      <td>0.606959220550611910915961288992548361420631408...</td>\n    </tr>\n    <tr>\n      <th>9</th>\n      <td>Living area</td>\n      <td>0.074736423175951999242627721287135500460863113...</td>\n    </tr>\n    <tr>\n      <th>58</th>\n      <td>property.location.postalCode_2000</td>\n      <td>0.058682190946057879998853934466751525178551673...</td>\n    </tr>\n    <tr>\n      <th>4</th>\n      <td>Construction year</td>\n      <td>0.030992726077554579033890291839270503260195255...</td>\n    </tr>\n    <tr>\n      <th>7</th>\n      <td>Energy class</td>\n      <td>0.019330853036271803541135128057248948607593774...</td>\n    </tr>\n    <tr>\n      <th>6</th>\n      <td>E-level (primary energy consumption)</td>\n      <td>0.015129845405943686056926544836187531473115086...</td>\n    </tr>\n    <tr>\n      <th>18</th>\n      <td>Terrace surface</td>\n      <td>0.014377291048778190196699711123073939234018325...</td>\n    </tr>\n    <tr>\n      <th>13</th>\n      <td>Cadastral income</td>\n      <td>0.014210426237124158810321006285448675043880939...</td>\n    </tr>\n    <tr>\n      <th>0</th>\n      <td>property.bedroomCount</td>\n      <td>0.013958133838041071606017595740922843106091022...</td>\n    </tr>\n    <tr>\n      <th>10</th>\n      <td>Living room surface</td>\n      <td>0.012108215733625049895239023101112252334132790...</td>\n    </tr>\n    <tr>\n      <th>3</th>\n      <td>Bathrooms</td>\n      <td>0.011464912253401448108403037906555255176499485...</td>\n    </tr>\n    <tr>\n      <th>21</th>\n      <td>Number of floors</td>\n      <td>0.010190193754862415798090324869917822070419788...</td>\n    </tr>\n  </tbody>\n</table>\n</div>"
     },
     "execution_count": 184,
     "metadata": {},
     "output_type": "execute_result"
    }
   ],
   "source": [
    "features_importance = features_importance.sort_values(by=['Value'], ascending=False)\n",
    "pd.set_option('display.float_format', lambda x: '%.1000f' % x)\n",
    "features_importance"
   ],
   "metadata": {
    "collapsed": false,
    "pycharm": {
     "name": "#%%\n"
    }
   }
  },
  {
   "cell_type": "code",
   "execution_count": 185,
   "outputs": [],
   "source": [
    "data_tuples = list(zip(y_test,model.predict(X_test)))\n",
    "voorspellingen = pd.DataFrame(data_tuples, columns=['Echte Waarde','Voorspelling'])\n",
    "voorspellingen['Voorspelling'] = voorspellingen['Voorspelling'].astype(int)"
   ],
   "metadata": {
    "collapsed": false,
    "pycharm": {
     "name": "#%%\n"
    }
   }
  },
  {
   "cell_type": "code",
   "execution_count": 186,
   "outputs": [
    {
     "data": {
      "text/plain": "     Echte Waarde  Voorspelling\n0               4             4\n1               4             4\n2               4             4\n3               4             4\n4               4             4\n..            ...           ...\n402             4             4\n403             4             4\n404             4             4\n405             4             4\n406             4             4\n\n[407 rows x 2 columns]",
      "text/html": "<div>\n<style scoped>\n    .dataframe tbody tr th:only-of-type {\n        vertical-align: middle;\n    }\n\n    .dataframe tbody tr th {\n        vertical-align: top;\n    }\n\n    .dataframe thead th {\n        text-align: right;\n    }\n</style>\n<table border=\"1\" class=\"dataframe\">\n  <thead>\n    <tr style=\"text-align: right;\">\n      <th></th>\n      <th>Echte Waarde</th>\n      <th>Voorspelling</th>\n    </tr>\n  </thead>\n  <tbody>\n    <tr>\n      <th>0</th>\n      <td>4</td>\n      <td>4</td>\n    </tr>\n    <tr>\n      <th>1</th>\n      <td>4</td>\n      <td>4</td>\n    </tr>\n    <tr>\n      <th>2</th>\n      <td>4</td>\n      <td>4</td>\n    </tr>\n    <tr>\n      <th>3</th>\n      <td>4</td>\n      <td>4</td>\n    </tr>\n    <tr>\n      <th>4</th>\n      <td>4</td>\n      <td>4</td>\n    </tr>\n    <tr>\n      <th>...</th>\n      <td>...</td>\n      <td>...</td>\n    </tr>\n    <tr>\n      <th>402</th>\n      <td>4</td>\n      <td>4</td>\n    </tr>\n    <tr>\n      <th>403</th>\n      <td>4</td>\n      <td>4</td>\n    </tr>\n    <tr>\n      <th>404</th>\n      <td>4</td>\n      <td>4</td>\n    </tr>\n    <tr>\n      <th>405</th>\n      <td>4</td>\n      <td>4</td>\n    </tr>\n    <tr>\n      <th>406</th>\n      <td>4</td>\n      <td>4</td>\n    </tr>\n  </tbody>\n</table>\n<p>407 rows × 2 columns</p>\n</div>"
     },
     "execution_count": 186,
     "metadata": {},
     "output_type": "execute_result"
    }
   ],
   "source": [
    "voorspellingen.astype(int)"
   ],
   "metadata": {
    "collapsed": false,
    "pycharm": {
     "name": "#%%\n"
    }
   }
  },
  {
   "cell_type": "code",
   "execution_count": 187,
   "outputs": [
    {
     "data": {
      "text/plain": "['property.netHabitableSurface',\n 'Living area',\n 'property.location.postalCode_2000',\n 'Construction year',\n 'Energy class',\n 'E-level (primary energy consumption)',\n 'Terrace surface',\n 'Cadastral income',\n 'property.bedroomCount',\n 'Living room surface',\n 'Bathrooms',\n 'Number of floors']"
     },
     "execution_count": 187,
     "metadata": {},
     "output_type": "execute_result"
    }
   ],
   "source": [
    "list(features_importance['Feature'])"
   ],
   "metadata": {
    "collapsed": false,
    "pycharm": {
     "name": "#%%\n"
    }
   }
  },
  {
   "cell_type": "code",
   "execution_count": 188,
   "outputs": [],
   "source": [
    "from sklearn.linear_model import ElasticNet, Lasso,  BayesianRidge, LassoLarsIC\n",
    "from sklearn.ensemble import RandomForestRegressor,  GradientBoostingRegressor\n",
    "from sklearn.kernel_ridge import KernelRidge\n",
    "from sklearn.pipeline import make_pipeline\n",
    "from sklearn.preprocessing import RobustScaler\n",
    "from sklearn.base import BaseEstimator, TransformerMixin, RegressorMixin, clone\n",
    "from sklearn.model_selection import KFold, cross_val_score, train_test_split\n",
    "from sklearn.metrics import mean_squared_error\n",
    "import xgboost as xgb"
   ],
   "metadata": {
    "collapsed": false,
    "pycharm": {
     "name": "#%%\n"
    }
   }
  },
  {
   "cell_type": "code",
   "execution_count": 189,
   "outputs": [],
   "source": [
    "n_folds = 5\n",
    "\n",
    "def rmsle_cv(model):\n",
    "    kf = KFold(n_folds, shuffle=True, random_state=42).get_n_splits(X_train.values)\n",
    "    rmse= np.sqrt(-cross_val_score(model, X_train.values, y_train, scoring=\"neg_mean_squared_error\", cv = kf))\n",
    "    return(rmse)"
   ],
   "metadata": {
    "collapsed": false,
    "pycharm": {
     "name": "#%%\n"
    }
   }
  },
  {
   "cell_type": "code",
   "execution_count": 190,
   "outputs": [],
   "source": [
    "lasso = make_pipeline(RobustScaler(), Lasso(alpha =0.0005, random_state=1))\n",
    "ENet = make_pipeline(RobustScaler(), ElasticNet(alpha=0.0005, l1_ratio=.9, random_state=3))\n",
    "KRR = KernelRidge(alpha=0.6, kernel='polynomial', degree=2, coef0=2.5)\n",
    "GBoost = GradientBoostingRegressor(n_estimators=3000, learning_rate=0.05,\n",
    "                                   max_depth=4, max_features='sqrt',\n",
    "                                   min_samples_leaf=15, min_samples_split=10,\n",
    "                                   loss='huber', random_state =5)\n",
    "model_xgb = xgb.XGBRegressor(colsample_bytree=0.2, gamma=0.0,\n",
    "                             learning_rate=0.05, max_depth=6,\n",
    "                             min_child_weight=1.5, n_estimators=7200,\n",
    "                             reg_alpha=0.9, reg_lambda=0.6,\n",
    "                             subsample=0.2,seed=42, silent=1,\n",
    "                             random_state =7)"
   ],
   "metadata": {
    "collapsed": false,
    "pycharm": {
     "name": "#%%\n"
    }
   }
  },
  {
   "cell_type": "code",
   "execution_count": 191,
   "outputs": [
    {
     "name": "stdout",
     "output_type": "stream",
     "text": [
      "\n",
      "Lasso score: 0.0260 (0.0014)\n",
      "\n",
      "ElasticNet score: 0.0258 (0.0014)\n",
      "\n",
      "Kernel Ridge score: 0.0248 (0.0010)\n",
      "\n",
      "Gradient Boosting score: 0.0230 (0.0012)\n",
      "\n",
      "[00:36:30] WARNING: /Users/runner/miniforge3/conda-bld/xgboost_1593723618214/work/src/learner.cc:480: \n",
      "Parameters: { silent } might not be used.\n",
      "\n",
      "  This may not be accurate due to some parameters are only used in language bindings but\n",
      "  passed down to XGBoost core.  Or some parameters are not used but slip through this\n",
      "  verification. Please open an issue if you find above cases.\n",
      "\n",
      "\n",
      "[00:36:35] WARNING: /Users/runner/miniforge3/conda-bld/xgboost_1593723618214/work/src/learner.cc:480: \n",
      "Parameters: { silent } might not be used.\n",
      "\n",
      "  This may not be accurate due to some parameters are only used in language bindings but\n",
      "  passed down to XGBoost core.  Or some parameters are not used but slip through this\n",
      "  verification. Please open an issue if you find above cases.\n",
      "\n",
      "\n",
      "[00:36:40] WARNING: /Users/runner/miniforge3/conda-bld/xgboost_1593723618214/work/src/learner.cc:480: \n",
      "Parameters: { silent } might not be used.\n",
      "\n",
      "  This may not be accurate due to some parameters are only used in language bindings but\n",
      "  passed down to XGBoost core.  Or some parameters are not used but slip through this\n",
      "  verification. Please open an issue if you find above cases.\n",
      "\n",
      "\n",
      "[00:36:47] WARNING: /Users/runner/miniforge3/conda-bld/xgboost_1593723618214/work/src/learner.cc:480: \n",
      "Parameters: { silent } might not be used.\n",
      "\n",
      "  This may not be accurate due to some parameters are only used in language bindings but\n",
      "  passed down to XGBoost core.  Or some parameters are not used but slip through this\n",
      "  verification. Please open an issue if you find above cases.\n",
      "\n",
      "\n",
      "[00:36:53] WARNING: /Users/runner/miniforge3/conda-bld/xgboost_1593723618214/work/src/learner.cc:480: \n",
      "Parameters: { silent } might not be used.\n",
      "\n",
      "  This may not be accurate due to some parameters are only used in language bindings but\n",
      "  passed down to XGBoost core.  Or some parameters are not used but slip through this\n",
      "  verification. Please open an issue if you find above cases.\n",
      "\n",
      "\n",
      "Xgboost score: 0.0263 (0.0015)\n",
      "\n"
     ]
    }
   ],
   "source": [
    "score = rmsle_cv(lasso)\n",
    "print(\"\\nLasso score: {:.4f} ({:.4f})\\n\".format(score.mean(), score.std()))\n",
    "score = rmsle_cv(ENet)\n",
    "print(\"ElasticNet score: {:.4f} ({:.4f})\\n\".format(score.mean(), score.std()))\n",
    "score = rmsle_cv(KRR)\n",
    "print(\"Kernel Ridge score: {:.4f} ({:.4f})\\n\".format(score.mean(), score.std()))\n",
    "score = rmsle_cv(GBoost)\n",
    "print(\"Gradient Boosting score: {:.4f} ({:.4f})\\n\".format(score.mean(), score.std()))\n",
    "score = rmsle_cv(model_xgb)\n",
    "print(\"Xgboost score: {:.4f} ({:.4f})\\n\".format(score.mean(), score.std()))"
   ],
   "metadata": {
    "collapsed": false,
    "pycharm": {
     "name": "#%%\n"
    }
   }
  },
  {
   "cell_type": "code",
   "execution_count": 192,
   "outputs": [],
   "source": [
    "class AveragingModels(BaseEstimator, RegressorMixin, TransformerMixin):\n",
    "    def __init__(self, models):\n",
    "        self.models = models\n",
    "\n",
    "    # we define clones of the original models to fit the data in\n",
    "    def fit(self, X, y):\n",
    "        self.models_ = [clone(x) for x in self.models]\n",
    "\n",
    "        # Train cloned base models\n",
    "        for model in self.models_:\n",
    "            model.fit(X, y)\n",
    "\n",
    "        return self\n",
    "\n",
    "    #Now we do the predictions for cloned models and average them\n",
    "    def predict(self, X):\n",
    "        predictions = np.column_stack([\n",
    "            model.predict(X) for model in self.models_\n",
    "        ])\n",
    "        return np.mean(predictions, axis=1)"
   ],
   "metadata": {
    "collapsed": false,
    "pycharm": {
     "name": "#%%\n"
    }
   }
  },
  {
   "cell_type": "code",
   "execution_count": 193,
   "outputs": [
    {
     "name": "stdout",
     "output_type": "stream",
     "text": [
      "Averaged base models score: 0.0234 (0.0012)\n",
      "\n"
     ]
    }
   ],
   "source": [
    "averaged_models = AveragingModels(models = (ENet, GBoost, KRR, lasso))\n",
    "\n",
    "score = rmsle_cv(averaged_models)\n",
    "print(\"Averaged base models score: {:.4f} ({:.4f})\\n\".format(score.mean(), score.std()))"
   ],
   "metadata": {
    "collapsed": false,
    "pycharm": {
     "name": "#%%\n"
    }
   }
  },
  {
   "cell_type": "code",
   "execution_count": 194,
   "outputs": [],
   "source": [
    "class StackingAveragedModels(BaseEstimator, RegressorMixin, TransformerMixin):\n",
    "    def __init__(self, base_models, meta_model, n_folds=5):\n",
    "        self.base_models = base_models\n",
    "        self.meta_model = meta_model\n",
    "        self.n_folds = n_folds\n",
    "\n",
    "    # We again fit the data on clones of the original models\n",
    "    def fit(self, X, y):\n",
    "        self.base_models_ = [list() for x in self.base_models]\n",
    "        self.meta_model_ = clone(self.meta_model)\n",
    "        kfold = KFold(n_splits=self.n_folds, shuffle=True)\n",
    "\n",
    "        # Train cloned base models then create out-of-fold predictions\n",
    "        # that are needed to train the cloned meta-model\n",
    "        out_of_fold_predictions = np.zeros((X.shape[0], len(self.base_models)))\n",
    "        for i, clf in enumerate(self.base_models):\n",
    "            for train_index, holdout_index in kfold.split(X, y):\n",
    "                instance = clone(clf)\n",
    "                self.base_models_[i].append(instance)\n",
    "                instance.fit(X[train_index], y[train_index])\n",
    "                y_pred = instance.predict(X[holdout_index])\n",
    "                out_of_fold_predictions[holdout_index, i] = y_pred\n",
    "\n",
    "        # Now train the cloned  meta-model using the out-of-fold predictions\n",
    "        self.meta_model_.fit(out_of_fold_predictions, y)\n",
    "        return self\n",
    "\n",
    "    def predict(self, X):\n",
    "        meta_features = np.column_stack([\n",
    "            np.column_stack([model.predict(X) for model in base_models]).mean(axis=1)\n",
    "            for base_models in self.base_models_ ])\n",
    "        return self.meta_model_.predict(meta_features)"
   ],
   "metadata": {
    "collapsed": false,
    "pycharm": {
     "name": "#%%\n"
    }
   }
  },
  {
   "cell_type": "code",
   "execution_count": 195,
   "outputs": [
    {
     "name": "stdout",
     "output_type": "stream",
     "text": [
      "Stacking Averaged models score: nan (nan)\n"
     ]
    },
    {
     "name": "stderr",
     "output_type": "stream",
     "text": [
      "/Users/inejj/anaconda3/envs/appartementen/lib/python3.7/site-packages/sklearn/model_selection/_validation.py:552: FitFailedWarning: Estimator fit failed. The score on this train-test partition for these parameters will be set to nan. Details: \n",
      "Traceback (most recent call last):\n",
      "  File \"/Users/inejj/anaconda3/envs/appartementen/lib/python3.7/site-packages/sklearn/model_selection/_validation.py\", line 531, in _fit_and_score\n",
      "    estimator.fit(X_train, y_train, **fit_params)\n",
      "  File \"<ipython-input-194-6f2784eddcab>\", line 20, in fit\n",
      "    instance.fit(X[train_index], y[train_index])\n",
      "  File \"/Users/inejj/anaconda3/envs/appartementen/lib/python3.7/site-packages/pandas/core/series.py\", line 910, in __getitem__\n",
      "    return self._get_with(key)\n",
      "  File \"/Users/inejj/anaconda3/envs/appartementen/lib/python3.7/site-packages/pandas/core/series.py\", line 943, in _get_with\n",
      "    return self.loc[key]\n",
      "  File \"/Users/inejj/anaconda3/envs/appartementen/lib/python3.7/site-packages/pandas/core/indexing.py\", line 1768, in __getitem__\n",
      "    return self._getitem_axis(maybe_callable, axis=axis)\n",
      "  File \"/Users/inejj/anaconda3/envs/appartementen/lib/python3.7/site-packages/pandas/core/indexing.py\", line 1954, in _getitem_axis\n",
      "    return self._getitem_iterable(key, axis=axis)\n",
      "  File \"/Users/inejj/anaconda3/envs/appartementen/lib/python3.7/site-packages/pandas/core/indexing.py\", line 1595, in _getitem_iterable\n",
      "    keyarr, indexer = self._get_listlike_indexer(key, axis, raise_missing=False)\n",
      "  File \"/Users/inejj/anaconda3/envs/appartementen/lib/python3.7/site-packages/pandas/core/indexing.py\", line 1553, in _get_listlike_indexer\n",
      "    keyarr, indexer, o._get_axis_number(axis), raise_missing=raise_missing\n",
      "  File \"/Users/inejj/anaconda3/envs/appartementen/lib/python3.7/site-packages/pandas/core/indexing.py\", line 1655, in _validate_read_indexer\n",
      "    \"Passing list-likes to .loc or [] with any missing labels \"\n",
      "KeyError: 'Passing list-likes to .loc or [] with any missing labels is no longer supported, see https://pandas.pydata.org/pandas-docs/stable/user_guide/indexing.html#deprecate-loc-reindex-listlike'\n",
      "\n",
      "  FitFailedWarning)\n"
     ]
    }
   ],
   "source": [
    "stacked_averaged_models = StackingAveragedModels(base_models = (ENet, GBoost, KRR),\n",
    "                                                 meta_model = lasso)\n",
    "\n",
    "score = rmsle_cv(stacked_averaged_models)\n",
    "print(\"Stacking Averaged models score: {:.4f} ({:.4f})\".format(score.mean(), score.std()))"
   ],
   "metadata": {
    "collapsed": false,
    "pycharm": {
     "name": "#%%\n"
    }
   }
  },
  {
   "cell_type": "code",
   "execution_count": 196,
   "outputs": [],
   "source": [
    "def rmsle(y, y_pred):\n",
    "    return np.sqrt(mean_squared_error(y, y_pred))"
   ],
   "metadata": {
    "collapsed": false,
    "pycharm": {
     "name": "#%%\n"
    }
   }
  },
  {
   "cell_type": "code",
   "execution_count": null,
   "outputs": [
    {
     "name": "stdout",
     "output_type": "stream",
     "text": [
      "[00:38:01] WARNING: /Users/runner/miniforge3/conda-bld/xgboost_1593723618214/work/src/learner.cc:480: \n",
      "Parameters: { silent } might not be used.\n",
      "\n",
      "  This may not be accurate due to some parameters are only used in language bindings but\n",
      "  passed down to XGBoost core.  Or some parameters are not used but slip through this\n",
      "  verification. Please open an issue if you find above cases.\n",
      "\n",
      "\n"
     ]
    }
   ],
   "source": [
    "model_xgb.fit(X_train, y_train)\n",
    "xgb_train_pred = model_xgb.predict(X_train)\n",
    "xgb_pred = np.expm1(model_xgb.predict(X_test))\n",
    "print(rmsle(y_train, xgb_train_pred))"
   ],
   "metadata": {
    "collapsed": false,
    "pycharm": {
     "name": "#%%\n",
     "is_executing": true
    }
   }
  },
  {
   "cell_type": "code",
   "execution_count": null,
   "outputs": [],
   "source": [],
   "metadata": {
    "collapsed": false,
    "pycharm": {
     "name": "#%%\n",
     "is_executing": true
    }
   }
  },
  {
   "cell_type": "code",
   "execution_count": null,
   "outputs": [],
   "source": [
    "# Example\n",
    "Stacked = 1/(0.1077)\n",
    "XGBoost = 1/(0.1177)\n",
    "Sum = Stacked + XGBoost\n",
    "Stacked = Stacked/Sum\n",
    "XGBoost = XGBoost/Sum\n",
    "print(Stacked, XGBoost)"
   ],
   "metadata": {
    "collapsed": false,
    "pycharm": {
     "name": "#%%\n",
     "is_executing": true
    }
   }
  },
  {
   "cell_type": "code",
   "execution_count": null,
   "outputs": [],
   "source": [
    "ensemble = Stacked + xgb_pred*XGBoost\n"
   ],
   "metadata": {
    "collapsed": false,
    "pycharm": {
     "name": "#%%\n",
     "is_executing": true
    }
   }
  },
  {
   "cell_type": "code",
   "execution_count": null,
   "outputs": [],
   "source": [
    "sub = pd.DataFrame()\n",
    "sub['SalePrice'] = ensemble\n",
    "sub['True'] = y_test\n",
    "sub.to_csv('submission.csv',index=False)"
   ],
   "metadata": {
    "collapsed": false,
    "pycharm": {
     "name": "#%%\n",
     "is_executing": true
    }
   }
  },
  {
   "cell_type": "code",
   "execution_count": null,
   "outputs": [],
   "source": [
    "len(y_test)"
   ],
   "metadata": {
    "collapsed": false,
    "pycharm": {
     "name": "#%%\n",
     "is_executing": true
    }
   }
  },
  {
   "cell_type": "code",
   "execution_count": null,
   "outputs": [],
   "source": [
    "\n"
   ],
   "metadata": {
    "collapsed": false,
    "pycharm": {
     "name": "#%%\n"
    }
   }
  }
 ],
 "metadata": {
  "kernelspec": {
   "display_name": "Python 3",
   "language": "python",
   "name": "python3"
  },
  "language_info": {
   "codemirror_mode": {
    "name": "ipython",
    "version": 2
   },
   "file_extension": ".py",
   "mimetype": "text/x-python",
   "name": "python",
   "nbconvert_exporter": "python",
   "pygments_lexer": "ipython2",
   "version": "2.7.6"
  }
 },
 "nbformat": 4,
 "nbformat_minor": 0
}