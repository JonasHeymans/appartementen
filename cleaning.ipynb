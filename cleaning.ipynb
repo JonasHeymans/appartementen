{
 "nbformat": 4,
 "nbformat_minor": 0,
 "metadata": {
  "kernelspec": {
   "display_name": "Python 3",
   "language": "python",
   "name": "python3"
  },
  "language_info": {
   "codemirror_mode": {
    "name": "ipython",
    "version": 2
   },
   "file_extension": ".py",
   "mimetype": "text/x-python",
   "name": "python",
   "nbconvert_exporter": "python",
   "pygments_lexer": "ipython2",
   "version": "2.7.6"
  },
  "colab": {
   "name": "appartementen.ipynb",
   "provenance": [],
   "include_colab_link": true
  }
 },
 "cells": [
  {
   "cell_type": "code",
   "metadata": {
    "id": "7Rk4DQhDHO3Y",
    "colab_type": "code",
    "colab": {
     "base_uri": "https://localhost:8080/",
     "height": 71
    },
    "outputId": "fc68b28b-f3be-43c8-f18e-af65eee3c561"
   },
   "source": [
    "import pandas as pd\n",
    "import matplotlib.pyplot as plt\n",
    "import numpy as np"
   ],
   "execution_count": 8,
   "outputs": []
  },
  {
   "cell_type": "code",
   "metadata": {
    "pycharm": {
     "name": "#%%\n"
    },
    "id": "b1_jKVHdHO3e",
    "colab_type": "code",
    "colab": {
     "base_uri": "https://localhost:8080/",
     "height": 71
    },
    "outputId": "7679ae94-36e7-43a0-e5ea-99ae4b6c1dc9"
   },
   "source": [
    "df = pd.read_csv('files/all.csv', index_col='Unnamed: 0')"
   ],
   "execution_count": 9,
   "outputs": [
    {
     "name": "stderr",
     "output_type": "stream",
     "text": [
      "/Users/inejj/anaconda3/envs/appartementen/lib/python3.7/site-packages/IPython/core/interactiveshell.py:3072: DtypeWarning: Columns (29,37,58,92,116,120,136,139,140,141,144,146,150,152,154,162,169,170,172,173,174,175,177,180,181,182,183,184,186,187,188,189,190,191,193,194,195,196,197,198,200,201,203,205,206,207,209,210,211,212,213) have mixed types.Specify dtype option on import or set low_memory=False.\n",
      "  interactivity=interactivity, compiler=compiler, result=result)\n"
     ]
    }
   ]
  },
  {
   "cell_type": "code",
   "execution_count": 10,
   "outputs": [],
   "source": [
    "\n",
    "df = df.drop(columns=['flags.main','customerLogoUrl','customerName','media.pictures',\n",
    "                      'flags.secondary','Price','property.title','publication.size',\n",
    "                      'publication.visualisationOption','External reference',\n",
    "                      'Reference number of the EPC report','Website', 'Available as of',\n",
    "                      'Address'], axis =1)"
   ],
   "metadata": {
    "collapsed": false,
    "pycharm": {
     "name": "#%%\n"
    }
   }
  },
  {
   "cell_type": "code",
   "execution_count": 11,
   "outputs": [],
   "source": [
    "# Removing outliers\n",
    "df = df[df['Floor :'] < 30]\n",
    "\n",
    "# Geen openbare verkopen waar we moeten bieden of verkopen op lijfrente.\n",
    "df = df[df['price.label'] == 'Price']\n",
    "\n",
    "# Geen slaapkamers vermeld is nogal raar.\n",
    "\n",
    "df = df[df['property.bedroomCount'] > 0]\n",
    "\n",
    "binary_cols = ['Double glazing','Armored door','Elevator','Basement',\n",
    "             'Intercom','Planning permission obtained', 'Type of building']\n",
    "df[binary_cols] =df[binary_cols].replace('Yes', 1).replace('No',0)\n",
    "\n",
    "\n",
    "# Striping things like 'm²square meters' from numerical columns and\n",
    "# converting them to float\n",
    "\n",
    "numerical_cols = ['CO² emission', 'Living area','Living room surface',\n",
    "            'Bedroom 1 surface','Bedroom 2 surface','Cadastral income',\n",
    "            'E-level (primary energy consumption)','Terrace surface']\n",
    "\n",
    "strippers = ['kg CO2/m²','kWh/m²kilowatt hour per square meters',\n",
    "            'm²square meters','€']\n",
    "\n",
    "for x in numerical_cols:\n",
    "    for y in strippers:\n",
    "        df[x] = df[x].str.strip(y).replace('Not specified',np.nan)\n",
    "    df[x] = df[x].str.replace('.','').str.replace(',','.').replace('', np.nan)\n",
    "    df[x] = df[x].astype(float)\n",
    "\n",
    "# Dropping columns with duplicate information\n",
    "to_drop = ['Floor','price.shortDisplayPrice','price.accessibilityPrice',\n",
    "           'price.mainDisplayPrice', 'property.location.floor','Bedrooms','bedrooms','bedroom',\n",
    "           'transaction.sale.price','bathroom','m²square meterslivable space']\n",
    "\n",
    "df = df.drop(to_drop, axis=1)"
   ],
   "metadata": {
    "collapsed": false,
    "pycharm": {
     "name": "#%%\n"
    }
   }
  },
  {
   "cell_type": "code",
   "execution_count": 12,
   "outputs": [],
   "source": [
    "for column in df.columns:\n",
    "    if df[column].isnull().sum() > 0.8*len(df):\n",
    "        df = df.drop(column, axis=1)\n",
    "    elif len(df[column].unique()) == 1:\n",
    "        df = df.drop(column, axis=1)"
   ],
   "metadata": {
    "collapsed": false,
    "pycharm": {
     "name": "#%%\n"
    }
   }
  },
  {
   "cell_type": "code",
   "execution_count": 13,
   "outputs": [
    {
     "data": {
      "text/plain": "             id  price.mainValue  property.bedroomCount property.location.box  \\\n1     8745713.0         185000.0                    2.0                   b61   \n2     8745715.0         280000.0                    3.0                   b61   \n4     8744282.0         184000.0                    1.0                    1R   \n5     8664757.0         149000.0                    1.0                   NaN   \n9     8614460.0         175000.0                    2.0                   NaN   \n...         ...              ...                    ...                   ...   \n4158  8289434.0        1644000.0                   10.0                   NaN   \n4160  7861828.0         645000.0                    2.0                   NaN   \n4163  8710769.0         396500.0                    2.0                   NaN   \n4174  8139678.0        1275000.0                   16.0                   NaN   \n4175  8139677.0        1275000.0                   16.0                   NaN   \n\n      property.location.latitude property.location.locality  \\\n1                      51.185615                    Berchem   \n2                      51.185615                    Berchem   \n4                      51.113038                       Niel   \n5                      51.221663                    Antwerp   \n9                      51.305726                  Oostmalle   \n...                          ...                        ...   \n4158                         NaN                    Antwerp   \n4160                         NaN                    Antwerp   \n4163                         NaN                    Antwerp   \n4174                         NaN                    Antwerp   \n4175                         NaN                    Antwerp   \n\n      property.location.longitude property.location.number  \\\n1                        4.441640                      118   \n2                        4.441640                      118   \n4                        4.327348                       64   \n5                        4.398299                   1, 217   \n9                        4.737027                       74   \n...                           ...                      ...   \n4158                          NaN                      NaN   \n4160                          NaN                      NaN   \n4163                          NaN                      NaN   \n4174                          NaN                      NaN   \n4175                          NaN                      NaN   \n\n      property.location.postalCode property.location.street  ...  \\\n1                             2600             Fruithoflaan  ...   \n2                             2600             Fruithoflaan  ...   \n4                             2845     Edward Claessenslaan  ...   \n5                             2000               Kaasstraat  ...   \n9                             2390         Hoogstraatsebaan  ...   \n...                            ...                      ...  ...   \n4158                          2000                      NaN  ...   \n4160                          2000                      NaN  ...   \n4163                          2000                      NaN  ...   \n4174                          2000                      NaN  ...   \n4175                          2000                      NaN  ...   \n\n      As built plan Bedroom 1 surface  Bedroom 2 surface  \\\n1                No               NaN                NaN   \n2                No               NaN                NaN   \n4                No               NaN                NaN   \n5                No               NaN                NaN   \n9               NaN               NaN                NaN   \n...             ...               ...                ...   \n4158             No               NaN                NaN   \n4160            NaN               NaN                NaN   \n4163            NaN               NaN                NaN   \n4174            NaN               NaN                NaN   \n4175            NaN               NaN                NaN   \n\n      Covered parking spaces  Intercom  Terrace surface  Basement  Floor :  \\\n1                        1.0       NaN             10.0       1.0      6.0   \n2                        1.0       NaN             35.0       1.0      6.0   \n4                        1.0       NaN              NaN       NaN      1.0   \n5                        NaN       NaN              NaN       NaN      2.0   \n9                        NaN       NaN              5.0       NaN      1.0   \n...                      ...       ...              ...       ...      ...   \n4158                     NaN       NaN             56.0       NaN      0.0   \n4160                     1.0       NaN             47.0       NaN      0.0   \n4163                     NaN       NaN              NaN       NaN      0.0   \n4174                     NaN       NaN              NaN       NaN      0.0   \n4175                     NaN       NaN              NaN       NaN      0.0   \n\n     Number of floors  Elevator  \n1                 NaN       1.0  \n2                 NaN       1.0  \n4                 2.0       NaN  \n5                 NaN       1.0  \n9                 NaN       NaN  \n...               ...       ...  \n4158              NaN       1.0  \n4160              NaN       1.0  \n4163              NaN       NaN  \n4174              3.0       NaN  \n4175              3.0       NaN  \n\n[2034 rows x 40 columns]",
      "text/html": "<div>\n<style scoped>\n    .dataframe tbody tr th:only-of-type {\n        vertical-align: middle;\n    }\n\n    .dataframe tbody tr th {\n        vertical-align: top;\n    }\n\n    .dataframe thead th {\n        text-align: right;\n    }\n</style>\n<table border=\"1\" class=\"dataframe\">\n  <thead>\n    <tr style=\"text-align: right;\">\n      <th></th>\n      <th>id</th>\n      <th>price.mainValue</th>\n      <th>property.bedroomCount</th>\n      <th>property.location.box</th>\n      <th>property.location.latitude</th>\n      <th>property.location.locality</th>\n      <th>property.location.longitude</th>\n      <th>property.location.number</th>\n      <th>property.location.postalCode</th>\n      <th>property.location.street</th>\n      <th>...</th>\n      <th>As built plan</th>\n      <th>Bedroom 1 surface</th>\n      <th>Bedroom 2 surface</th>\n      <th>Covered parking spaces</th>\n      <th>Intercom</th>\n      <th>Terrace surface</th>\n      <th>Basement</th>\n      <th>Floor :</th>\n      <th>Number of floors</th>\n      <th>Elevator</th>\n    </tr>\n  </thead>\n  <tbody>\n    <tr>\n      <th>1</th>\n      <td>8745713.0</td>\n      <td>185000.0</td>\n      <td>2.0</td>\n      <td>b61</td>\n      <td>51.185615</td>\n      <td>Berchem</td>\n      <td>4.441640</td>\n      <td>118</td>\n      <td>2600</td>\n      <td>Fruithoflaan</td>\n      <td>...</td>\n      <td>No</td>\n      <td>NaN</td>\n      <td>NaN</td>\n      <td>1.0</td>\n      <td>NaN</td>\n      <td>10.0</td>\n      <td>1.0</td>\n      <td>6.0</td>\n      <td>NaN</td>\n      <td>1.0</td>\n    </tr>\n    <tr>\n      <th>2</th>\n      <td>8745715.0</td>\n      <td>280000.0</td>\n      <td>3.0</td>\n      <td>b61</td>\n      <td>51.185615</td>\n      <td>Berchem</td>\n      <td>4.441640</td>\n      <td>118</td>\n      <td>2600</td>\n      <td>Fruithoflaan</td>\n      <td>...</td>\n      <td>No</td>\n      <td>NaN</td>\n      <td>NaN</td>\n      <td>1.0</td>\n      <td>NaN</td>\n      <td>35.0</td>\n      <td>1.0</td>\n      <td>6.0</td>\n      <td>NaN</td>\n      <td>1.0</td>\n    </tr>\n    <tr>\n      <th>4</th>\n      <td>8744282.0</td>\n      <td>184000.0</td>\n      <td>1.0</td>\n      <td>1R</td>\n      <td>51.113038</td>\n      <td>Niel</td>\n      <td>4.327348</td>\n      <td>64</td>\n      <td>2845</td>\n      <td>Edward Claessenslaan</td>\n      <td>...</td>\n      <td>No</td>\n      <td>NaN</td>\n      <td>NaN</td>\n      <td>1.0</td>\n      <td>NaN</td>\n      <td>NaN</td>\n      <td>NaN</td>\n      <td>1.0</td>\n      <td>2.0</td>\n      <td>NaN</td>\n    </tr>\n    <tr>\n      <th>5</th>\n      <td>8664757.0</td>\n      <td>149000.0</td>\n      <td>1.0</td>\n      <td>NaN</td>\n      <td>51.221663</td>\n      <td>Antwerp</td>\n      <td>4.398299</td>\n      <td>1, 217</td>\n      <td>2000</td>\n      <td>Kaasstraat</td>\n      <td>...</td>\n      <td>No</td>\n      <td>NaN</td>\n      <td>NaN</td>\n      <td>NaN</td>\n      <td>NaN</td>\n      <td>NaN</td>\n      <td>NaN</td>\n      <td>2.0</td>\n      <td>NaN</td>\n      <td>1.0</td>\n    </tr>\n    <tr>\n      <th>9</th>\n      <td>8614460.0</td>\n      <td>175000.0</td>\n      <td>2.0</td>\n      <td>NaN</td>\n      <td>51.305726</td>\n      <td>Oostmalle</td>\n      <td>4.737027</td>\n      <td>74</td>\n      <td>2390</td>\n      <td>Hoogstraatsebaan</td>\n      <td>...</td>\n      <td>NaN</td>\n      <td>NaN</td>\n      <td>NaN</td>\n      <td>NaN</td>\n      <td>NaN</td>\n      <td>5.0</td>\n      <td>NaN</td>\n      <td>1.0</td>\n      <td>NaN</td>\n      <td>NaN</td>\n    </tr>\n    <tr>\n      <th>...</th>\n      <td>...</td>\n      <td>...</td>\n      <td>...</td>\n      <td>...</td>\n      <td>...</td>\n      <td>...</td>\n      <td>...</td>\n      <td>...</td>\n      <td>...</td>\n      <td>...</td>\n      <td>...</td>\n      <td>...</td>\n      <td>...</td>\n      <td>...</td>\n      <td>...</td>\n      <td>...</td>\n      <td>...</td>\n      <td>...</td>\n      <td>...</td>\n      <td>...</td>\n      <td>...</td>\n    </tr>\n    <tr>\n      <th>4158</th>\n      <td>8289434.0</td>\n      <td>1644000.0</td>\n      <td>10.0</td>\n      <td>NaN</td>\n      <td>NaN</td>\n      <td>Antwerp</td>\n      <td>NaN</td>\n      <td>NaN</td>\n      <td>2000</td>\n      <td>NaN</td>\n      <td>...</td>\n      <td>No</td>\n      <td>NaN</td>\n      <td>NaN</td>\n      <td>NaN</td>\n      <td>NaN</td>\n      <td>56.0</td>\n      <td>NaN</td>\n      <td>0.0</td>\n      <td>NaN</td>\n      <td>1.0</td>\n    </tr>\n    <tr>\n      <th>4160</th>\n      <td>7861828.0</td>\n      <td>645000.0</td>\n      <td>2.0</td>\n      <td>NaN</td>\n      <td>NaN</td>\n      <td>Antwerp</td>\n      <td>NaN</td>\n      <td>NaN</td>\n      <td>2000</td>\n      <td>NaN</td>\n      <td>...</td>\n      <td>NaN</td>\n      <td>NaN</td>\n      <td>NaN</td>\n      <td>1.0</td>\n      <td>NaN</td>\n      <td>47.0</td>\n      <td>NaN</td>\n      <td>0.0</td>\n      <td>NaN</td>\n      <td>1.0</td>\n    </tr>\n    <tr>\n      <th>4163</th>\n      <td>8710769.0</td>\n      <td>396500.0</td>\n      <td>2.0</td>\n      <td>NaN</td>\n      <td>NaN</td>\n      <td>Antwerp</td>\n      <td>NaN</td>\n      <td>NaN</td>\n      <td>2000</td>\n      <td>NaN</td>\n      <td>...</td>\n      <td>NaN</td>\n      <td>NaN</td>\n      <td>NaN</td>\n      <td>NaN</td>\n      <td>NaN</td>\n      <td>NaN</td>\n      <td>NaN</td>\n      <td>0.0</td>\n      <td>NaN</td>\n      <td>NaN</td>\n    </tr>\n    <tr>\n      <th>4174</th>\n      <td>8139678.0</td>\n      <td>1275000.0</td>\n      <td>16.0</td>\n      <td>NaN</td>\n      <td>NaN</td>\n      <td>Antwerp</td>\n      <td>NaN</td>\n      <td>NaN</td>\n      <td>2000</td>\n      <td>NaN</td>\n      <td>...</td>\n      <td>NaN</td>\n      <td>NaN</td>\n      <td>NaN</td>\n      <td>NaN</td>\n      <td>NaN</td>\n      <td>NaN</td>\n      <td>NaN</td>\n      <td>0.0</td>\n      <td>3.0</td>\n      <td>NaN</td>\n    </tr>\n    <tr>\n      <th>4175</th>\n      <td>8139677.0</td>\n      <td>1275000.0</td>\n      <td>16.0</td>\n      <td>NaN</td>\n      <td>NaN</td>\n      <td>Antwerp</td>\n      <td>NaN</td>\n      <td>NaN</td>\n      <td>2000</td>\n      <td>NaN</td>\n      <td>...</td>\n      <td>NaN</td>\n      <td>NaN</td>\n      <td>NaN</td>\n      <td>NaN</td>\n      <td>NaN</td>\n      <td>NaN</td>\n      <td>NaN</td>\n      <td>0.0</td>\n      <td>3.0</td>\n      <td>NaN</td>\n    </tr>\n  </tbody>\n</table>\n<p>2034 rows × 40 columns</p>\n</div>"
     },
     "execution_count": 13,
     "metadata": {},
     "output_type": "execute_result"
    }
   ],
   "source": [
    "df"
   ],
   "metadata": {
    "collapsed": false,
    "pycharm": {
     "name": "#%%\n"
    }
   }
  },
  {
   "cell_type": "code",
   "execution_count": 14,
   "outputs": [],
   "source": [
    "df.to_pickle('files/cleaned.pkl')\n",
    "df.to_csv('files/cleaned.csv')"
   ],
   "metadata": {
    "collapsed": false,
    "pycharm": {
     "name": "#%%\n"
    }
   }
  },
  {
   "cell_type": "code",
   "execution_count": 14,
   "outputs": [],
   "source": [
    "\n"
   ],
   "metadata": {
    "collapsed": false,
    "pycharm": {
     "name": "#%%\n"
    }
   }
  }
 ]
}