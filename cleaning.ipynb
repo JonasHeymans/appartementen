{
 "nbformat": 4,
 "nbformat_minor": 0,
 "metadata": {
  "kernelspec": {
   "display_name": "Python 3",
   "language": "python",
   "name": "python3"
  },
  "language_info": {
   "codemirror_mode": {
    "name": "ipython",
    "version": 2
   },
   "file_extension": ".py",
   "mimetype": "text/x-python",
   "name": "python",
   "nbconvert_exporter": "python",
   "pygments_lexer": "ipython2",
   "version": "2.7.6"
  },
  "colab": {
   "name": "appartementen.ipynb",
   "provenance": [],
   "include_colab_link": true
  }
 },
 "cells": [
  {
   "cell_type": "code",
   "metadata": {
    "id": "7Rk4DQhDHO3Y",
    "colab_type": "code",
    "colab": {
     "base_uri": "https://localhost:8080/",
     "height": 71
    },
    "outputId": "fc68b28b-f3be-43c8-f18e-af65eee3c561"
   },
   "source": [
    "import pandas as pd\n",
    "import matplotlib.pyplot as plt\n",
    "import numpy as np"
   ],
   "execution_count": 164,
   "outputs": []
  },
  {
   "cell_type": "code",
   "metadata": {
    "pycharm": {
     "name": "#%%\n"
    },
    "id": "b1_jKVHdHO3e",
    "colab_type": "code",
    "colab": {
     "base_uri": "https://localhost:8080/",
     "height": 71
    },
    "outputId": "7679ae94-36e7-43a0-e5ea-99ae4b6c1dc9"
   },
   "source": [
    "df = pd.read_csv('files/all.csv', index_col='Unnamed: 0')"
   ],
   "execution_count": 165,
   "outputs": []
  },
  {
   "cell_type": "code",
   "execution_count": 166,
   "outputs": [],
   "source": [
    "# Dropping street and housenumber for now, but might be intereting later use it, eg via a graph library\n",
    "\n",
    "# df = df.drop(['property.location.box', 'property.location.street',\n",
    "#               'property.location.latitude', 'property.location.longitude',\n",
    "#               'property.location.locality', 'property.location.number',\n",
    "#               'Address',], axis=1)\n",
    "\n",
    "df = df.drop(columns=['flags.main','customerLogoUrl','customerName','media.pictures',\n",
    "                      'flags.secondary','Price','property.title','publication.size',\n",
    "                      'publication.visualisationOption','External reference',\n",
    "                      'Reference number of the EPC report','Website', 'Available as of'], axis =1)"
   ],
   "metadata": {
    "collapsed": false,
    "pycharm": {
     "name": "#%%\n"
    }
   }
  },
  {
   "cell_type": "code",
   "execution_count": 167,
   "outputs": [],
   "source": [
    "# Removing outliers\n",
    "df = df[df['Floor :'] < 30]\n",
    "\n",
    "# Geen openbare verkopen waar we moeten bieden of verkopen op lijfrente.\n",
    "df = df[df['price.label'] == 'Price']\n",
    "\n",
    "# Geen slaapkamers vermeld is nogal raar.\n",
    "\n",
    "df = df[df['property.bedroomCount'] > 0]\n",
    "\n",
    "binary_cols = ['Double glazing','Armored door','Elevator','Basement',\n",
    "             'Intercom','Planning permission obtained', 'Type of building']\n",
    "df[binary_cols] =df[binary_cols].replace('Yes', 1).replace('No',0)\n",
    "\n",
    "\n",
    "# Striping things like 'm²square meters' from numerical columns and\n",
    "# converting them to float\n",
    "\n",
    "numerical_cols = ['CO² emission', 'Living area','Living room surface',\n",
    "            'Bedroom 1 surface','Bedroom 2 surface','Cadastral income',\n",
    "            'E-level (primary energy consumption)','Terrace surface']\n",
    "\n",
    "strippers = ['kg CO2/m²','kWh/m²kilowatt hour per square meters',\n",
    "            'm²square meters','€']\n",
    "\n",
    "for x in numerical_cols:\n",
    "    for y in strippers:\n",
    "        df[x] = df[x].str.strip(y).replace('Not specified',np.nan)\n",
    "    df[x] = df[x].str.replace('.','').str.replace(',','.').replace('', np.nan)\n",
    "    df[x] = df[x].astype(float)\n",
    "\n",
    "# Dropping columns with duplicate information\n",
    "to_drop = ['Floor','price.shortDisplayPrice','price.accessibilityPrice',\n",
    "           'price.mainDisplayPrice', 'property.location.floor','Bedrooms','bedrooms','bedroom',\n",
    "           'transaction.sale.price','bathroom','m²square meterslivable space']\n",
    "\n",
    "df = df.drop(to_drop, axis=1)"
   ],
   "metadata": {
    "collapsed": false,
    "pycharm": {
     "name": "#%%\n"
    }
   }
  },
  {
   "cell_type": "code",
   "execution_count": 168,
   "outputs": [],
   "source": [
    "for column in df.columns:\n",
    "    if df[column].isnull().sum() > 0.8*len(df):\n",
    "        df = df.drop(column, axis=1)\n",
    "    elif len(df[column].unique()) == 1:\n",
    "        df = df.drop(column, axis=1)"
   ],
   "metadata": {
    "collapsed": false,
    "pycharm": {
     "name": "#%%\n"
    }
   }
  },
  {
   "cell_type": "code",
   "execution_count": 168,
   "outputs": [],
   "source": [],
   "metadata": {
    "collapsed": false,
    "pycharm": {
     "name": "#%%\n"
    }
   }
  },
  {
   "cell_type": "code",
   "execution_count": 169,
   "outputs": [],
   "source": [
    "df.to_pickle('files/cleaned.pkl')"
   ],
   "metadata": {
    "collapsed": false,
    "pycharm": {
     "name": "#%%\n"
    }
   }
  },
  {
   "cell_type": "code",
   "execution_count": 169,
   "outputs": [],
   "source": [
    "\n"
   ],
   "metadata": {
    "collapsed": false,
    "pycharm": {
     "name": "#%%\n"
    }
   }
  }
 ]
}