{
 "cells": [
  {
   "cell_type": "code",
   "execution_count": 1,
   "metadata": {
    "collapsed": true
   },
   "outputs": [],
   "source": [
    "import pandas as pd\n",
    "import osmnx as ox\n",
    "import matplotlib.pyplot as plt\n",
    "%matplotlib inline"
   ]
  },
  {
   "cell_type": "code",
   "execution_count": 2,
   "metadata": {
    "pycharm": {
     "name": "#%%\n"
    }
   },
   "outputs": [],
   "source": [
    "df = pd.read_pickle('files/cleaned.pkl')"
   ]
  },
  {
   "cell_type": "code",
   "execution_count": 3,
   "outputs": [
    {
     "data": {
      "text/plain": "Index(['id', 'price.mainValue', 'property.bedroomCount',\n       'property.location.box', 'property.location.latitude',\n       'property.location.locality', 'property.location.longitude',\n       'property.location.number', 'property.location.postalCode',\n       'property.location.street', 'property.netHabitableSurface',\n       'property.subtype', 'Unnamed: 0.1', 'Address', 'Armored door',\n       'Bathrooms', 'Construction year', 'Double glazing',\n       'E-level (primary energy consumption)', 'Energy class', 'Facades',\n       'Flood zone type', 'Heating type', 'Kitchen type', 'Living area',\n       'Living room surface', 'Planning permission obtained', 'Toilets',\n       'Building condition', 'Cadastral income', 'Type of building',\n       'As built plan', 'Bedroom 1 surface', 'Bedroom 2 surface',\n       'Covered parking spaces', 'Intercom', 'Terrace surface', 'Basement',\n       'Floor :', 'Number of floors', 'Elevator'],\n      dtype='object')"
     },
     "execution_count": 3,
     "metadata": {},
     "output_type": "execute_result"
    }
   ],
   "source": [
    "df.columns"
   ],
   "metadata": {
    "collapsed": false,
    "pycharm": {
     "name": "#%%\n"
    }
   }
  },
  {
   "cell_type": "code",
   "execution_count": 4,
   "outputs": [
    {
     "data": {
      "text/plain": "          id  price.mainValue  property.bedroomCount property.location.box  \\\n1  8745713.0         185000.0                    2.0                   b61   \n2  8745715.0         280000.0                    3.0                   b61   \n4  8744282.0         184000.0                    1.0                    1R   \n5  8664757.0         149000.0                    1.0                   NaN   \n9  8614460.0         175000.0                    2.0                   NaN   \n\n   property.location.latitude property.location.locality  \\\n1                   51.185615                    Berchem   \n2                   51.185615                    Berchem   \n4                   51.113038                       Niel   \n5                   51.221663                    Antwerp   \n9                   51.305726                  Oostmalle   \n\n   property.location.longitude property.location.number  \\\n1                     4.441640                      118   \n2                     4.441640                      118   \n4                     4.327348                       64   \n5                     4.398299                   1, 217   \n9                     4.737027                       74   \n\n   property.location.postalCode property.location.street  ...  As built plan  \\\n1                          2600             Fruithoflaan  ...             No   \n2                          2600             Fruithoflaan  ...             No   \n4                          2845     Edward Claessenslaan  ...             No   \n5                          2000               Kaasstraat  ...             No   \n9                          2390         Hoogstraatsebaan  ...            NaN   \n\n  Bedroom 1 surface  Bedroom 2 surface Covered parking spaces  Intercom  \\\n1               NaN                NaN                    1.0       NaN   \n2               NaN                NaN                    1.0       NaN   \n4               NaN                NaN                    1.0       NaN   \n5               NaN                NaN                    NaN       NaN   \n9               NaN                NaN                    NaN       NaN   \n\n   Terrace surface  Basement  Floor :  Number of floors Elevator  \n1             10.0       1.0      6.0               NaN      1.0  \n2             35.0       1.0      6.0               NaN      1.0  \n4              NaN       NaN      1.0               2.0      NaN  \n5              NaN       NaN      2.0               NaN      1.0  \n9              5.0       NaN      1.0               NaN      NaN  \n\n[5 rows x 41 columns]",
      "text/html": "<div>\n<style scoped>\n    .dataframe tbody tr th:only-of-type {\n        vertical-align: middle;\n    }\n\n    .dataframe tbody tr th {\n        vertical-align: top;\n    }\n\n    .dataframe thead th {\n        text-align: right;\n    }\n</style>\n<table border=\"1\" class=\"dataframe\">\n  <thead>\n    <tr style=\"text-align: right;\">\n      <th></th>\n      <th>id</th>\n      <th>price.mainValue</th>\n      <th>property.bedroomCount</th>\n      <th>property.location.box</th>\n      <th>property.location.latitude</th>\n      <th>property.location.locality</th>\n      <th>property.location.longitude</th>\n      <th>property.location.number</th>\n      <th>property.location.postalCode</th>\n      <th>property.location.street</th>\n      <th>...</th>\n      <th>As built plan</th>\n      <th>Bedroom 1 surface</th>\n      <th>Bedroom 2 surface</th>\n      <th>Covered parking spaces</th>\n      <th>Intercom</th>\n      <th>Terrace surface</th>\n      <th>Basement</th>\n      <th>Floor :</th>\n      <th>Number of floors</th>\n      <th>Elevator</th>\n    </tr>\n  </thead>\n  <tbody>\n    <tr>\n      <th>1</th>\n      <td>8745713.0</td>\n      <td>185000.0</td>\n      <td>2.0</td>\n      <td>b61</td>\n      <td>51.185615</td>\n      <td>Berchem</td>\n      <td>4.441640</td>\n      <td>118</td>\n      <td>2600</td>\n      <td>Fruithoflaan</td>\n      <td>...</td>\n      <td>No</td>\n      <td>NaN</td>\n      <td>NaN</td>\n      <td>1.0</td>\n      <td>NaN</td>\n      <td>10.0</td>\n      <td>1.0</td>\n      <td>6.0</td>\n      <td>NaN</td>\n      <td>1.0</td>\n    </tr>\n    <tr>\n      <th>2</th>\n      <td>8745715.0</td>\n      <td>280000.0</td>\n      <td>3.0</td>\n      <td>b61</td>\n      <td>51.185615</td>\n      <td>Berchem</td>\n      <td>4.441640</td>\n      <td>118</td>\n      <td>2600</td>\n      <td>Fruithoflaan</td>\n      <td>...</td>\n      <td>No</td>\n      <td>NaN</td>\n      <td>NaN</td>\n      <td>1.0</td>\n      <td>NaN</td>\n      <td>35.0</td>\n      <td>1.0</td>\n      <td>6.0</td>\n      <td>NaN</td>\n      <td>1.0</td>\n    </tr>\n    <tr>\n      <th>4</th>\n      <td>8744282.0</td>\n      <td>184000.0</td>\n      <td>1.0</td>\n      <td>1R</td>\n      <td>51.113038</td>\n      <td>Niel</td>\n      <td>4.327348</td>\n      <td>64</td>\n      <td>2845</td>\n      <td>Edward Claessenslaan</td>\n      <td>...</td>\n      <td>No</td>\n      <td>NaN</td>\n      <td>NaN</td>\n      <td>1.0</td>\n      <td>NaN</td>\n      <td>NaN</td>\n      <td>NaN</td>\n      <td>1.0</td>\n      <td>2.0</td>\n      <td>NaN</td>\n    </tr>\n    <tr>\n      <th>5</th>\n      <td>8664757.0</td>\n      <td>149000.0</td>\n      <td>1.0</td>\n      <td>NaN</td>\n      <td>51.221663</td>\n      <td>Antwerp</td>\n      <td>4.398299</td>\n      <td>1, 217</td>\n      <td>2000</td>\n      <td>Kaasstraat</td>\n      <td>...</td>\n      <td>No</td>\n      <td>NaN</td>\n      <td>NaN</td>\n      <td>NaN</td>\n      <td>NaN</td>\n      <td>NaN</td>\n      <td>NaN</td>\n      <td>2.0</td>\n      <td>NaN</td>\n      <td>1.0</td>\n    </tr>\n    <tr>\n      <th>9</th>\n      <td>8614460.0</td>\n      <td>175000.0</td>\n      <td>2.0</td>\n      <td>NaN</td>\n      <td>51.305726</td>\n      <td>Oostmalle</td>\n      <td>4.737027</td>\n      <td>74</td>\n      <td>2390</td>\n      <td>Hoogstraatsebaan</td>\n      <td>...</td>\n      <td>NaN</td>\n      <td>NaN</td>\n      <td>NaN</td>\n      <td>NaN</td>\n      <td>NaN</td>\n      <td>5.0</td>\n      <td>NaN</td>\n      <td>1.0</td>\n      <td>NaN</td>\n      <td>NaN</td>\n    </tr>\n  </tbody>\n</table>\n<p>5 rows × 41 columns</p>\n</div>"
     },
     "execution_count": 4,
     "metadata": {},
     "output_type": "execute_result"
    }
   ],
   "source": [
    "df.head()"
   ],
   "metadata": {
    "collapsed": false,
    "pycharm": {
     "name": "#%%\n"
    }
   }
  },
  {
   "cell_type": "code",
   "execution_count": 5,
   "metadata": {
    "pycharm": {
     "name": "#%%\n"
    }
   },
   "outputs": [
    {
     "data": {
      "text/plain": "networkx.classes.multidigraph.MultiDiGraph"
     },
     "execution_count": 5,
     "metadata": {},
     "output_type": "execute_result"
    }
   ],
   "source": [
    "# Specify the name that is used to seach for the data\n",
    "place_name = \"Kamppi, Helsinki, Finland\"\n",
    "\n",
    "# Fetch OSM street network from the location\n",
    "graph = ox.graph_from_place(place_name)\n",
    "type(graph)\n",
    "\n",
    "\n"
   ]
  }
 ],
 "metadata": {
  "kernelspec": {
   "name": "pycharm-8d58dcf1",
   "language": "python",
   "display_name": "PyCharm (appartementen)"
  },
  "language_info": {
   "codemirror_mode": {
    "name": "ipython",
    "version": 3
   },
   "file_extension": ".py",
   "mimetype": "text/x-python",
   "name": "python",
   "nbconvert_exporter": "python",
   "pygments_lexer": "ipython3",
   "version": "3.8.2"
  }
 },
 "nbformat": 4,
 "nbformat_minor": 1
}