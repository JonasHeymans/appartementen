{
 "cells": [
  {
   "cell_type": "code",
   "execution_count": 120,
   "outputs": [],
   "source": [
    "import pandas as pd\n",
    "import osmnx as ox\n",
    "import matplotlib.pyplot as plt\n",
    "%matplotlib inline\n",
    "import geomancer\n"
   ],
   "metadata": {
    "collapsed": false,
    "pycharm": {
     "name": "#%%\n"
    }
   }
  },
  {
   "cell_type": "code",
   "execution_count": 121,
   "outputs": [],
   "source": [
    "def geo_fe(lat, long):\n",
    "    point = (lat,long)\n",
    "    tags = {'Aerialway':True,\n",
    "            'Aeroway':True,\n",
    "            'Amenity':True,\n",
    "            'Barrier':True,\n",
    "            'Boundary':True,\n",
    "            'Building': True,\n",
    "            'Craft':True\n",
    "            }\n",
    "    df = ox.pois_from_point(point = point, tags= tags)\n",
    "\n",
    "\n",
    "    return df"
   ],
   "metadata": {
    "collapsed": false,
    "pycharm": {
     "name": "#%%\n"
    }
   }
  },
  {
   "cell_type": "code",
   "execution_count": 122,
   "outputs": [
    {
     "name": "stderr",
     "output_type": "stream",
     "text": [
      "/Users/inejj/anaconda3/envs/appartementen/lib/python3.7/site-packages/osmnx/pois.py:357: FutureWarning: Assigning CRS to a GeoDataFrame without a geometry column is now deprecated and will not be supported in the future.\n",
      "  gdf_nodes.crs = settings.default_crs\n",
      "/Users/inejj/anaconda3/envs/appartementen/lib/python3.7/site-packages/osmnx/pois.py:360: FutureWarning: Assigning CRS to a GeoDataFrame without a geometry column is now deprecated and will not be supported in the future.\n",
      "  gdf_ways.crs = settings.default_crs\n"
     ]
    }
   ],
   "source": [
    "a = geo_fe(51.2200631, 4.3753211)"
   ],
   "metadata": {
    "collapsed": false,
    "pycharm": {
     "name": "#%%\n"
    }
   }
  },
  {
   "cell_type": "code",
   "execution_count": 123,
   "outputs": [
    {
     "data": {
      "text/plain": "Empty GeoDataFrame\nColumns: []\nIndex: []",
      "text/html": "<div>\n<style scoped>\n    .dataframe tbody tr th:only-of-type {\n        vertical-align: middle;\n    }\n\n    .dataframe tbody tr th {\n        vertical-align: top;\n    }\n\n    .dataframe thead th {\n        text-align: right;\n    }\n</style>\n<table border=\"1\" class=\"dataframe\">\n  <thead>\n    <tr style=\"text-align: right;\">\n      <th></th>\n    </tr>\n  </thead>\n  <tbody>\n  </tbody>\n</table>\n</div>"
     },
     "execution_count": 123,
     "metadata": {},
     "output_type": "execute_result"
    }
   ],
   "source": [
    "a"
   ],
   "metadata": {
    "collapsed": false,
    "pycharm": {
     "name": "#%%\n"
    }
   }
  },
  {
   "cell_type": "code",
   "execution_count": null,
   "outputs": [],
   "source": [
    "tags = {'Aerialway':True,\n",
    "        'Aeroway':True,\n",
    "        'Amenity':True,\n",
    "        'Barrier':True,\n",
    "        'Boundary':True,\n",
    "        'Building': True,\n",
    "        'Craft':True,\n",
    "        'Emergency':True,\n",
    "        'Geological':True,\n",
    "        'Highway':True,\n",
    "        'Historic':True,\n",
    "        'Landuse':True,\n",
    "        'Leisure':True,\n",
    "        'Man_made':True,\n",
    "        'Military':True,\n",
    "        'Natural':True,\n",
    "        'Office':True,\n",
    "        'Place':True,\n",
    "        'Power':True,\n",
    "        'Public Transport':True,\n",
    "        'Railway':True,\n",
    "        'Route':True,\n",
    "        'Shop':True,\n",
    "        'Sport':True,\n",
    "        'Telecom':True,\n",
    "        'Tourism':True,\n",
    "        'Waterway':True\n",
    "        }\n",
    "\n",
    "tags = {k.lower(): v for k, v in tags.items()}\n",
    "\n",
    "gdf = ox.pois_from_place('Antwerp,Antwerp,Antwerp',tags=tags)"
   ],
   "metadata": {
    "collapsed": false,
    "pycharm": {
     "name": "#%%\n",
     "is_executing": true
    }
   }
  },
  {
   "cell_type": "code",
   "execution_count": null,
   "outputs": [],
   "source": [
    "ox.save_graph_xml(gdf, filepath='files/gdf/allpois.shp')\n"
   ],
   "metadata": {
    "collapsed": false,
    "pycharm": {
     "name": "#%%\n",
     "is_executing": true
    }
   }
  },
  {
   "cell_type": "code",
   "execution_count": null,
   "outputs": [],
   "source": [
    "tags = {'aerialway':True,\n",
    "        'aeroway':True,\n",
    "        'amenity':True,\n",
    "        'barrier':True,\n",
    "        'boundary':True,\n",
    "        'building': True,\n",
    "        'craft':True\n",
    "        }\n",
    "\n",
    "pois_from_address()"
   ],
   "metadata": {
    "collapsed": false,
    "pycharm": {
     "name": "#%%\n"
    }
   }
  }
 ],
 "metadata": {
  "kernelspec": {
   "name": "pycharm-8d58dcf1",
   "language": "python",
   "display_name": "PyCharm (appartementen)"
  },
  "language_info": {
   "codemirror_mode": {
    "name": "ipython",
    "version": 3
   },
   "file_extension": ".py",
   "mimetype": "text/x-python",
   "name": "python",
   "nbconvert_exporter": "python",
   "pygments_lexer": "ipython3",
   "version": "3.8.2"
  }
 },
 "nbformat": 4,
 "nbformat_minor": 1
}