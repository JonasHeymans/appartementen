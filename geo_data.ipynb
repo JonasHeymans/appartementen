{
 "cells": [
  {
   "cell_type": "code",
   "execution_count": 1,
   "outputs": [],
   "source": [
    "import pandas as pd\n",
    "import osmnx as ox\n",
    "import matplotlib.pyplot as plt\n",
    "%matplotlib inline\n",
    "import time\n"
   ],
   "metadata": {
    "collapsed": false,
    "pycharm": {
     "name": "#%%\n"
    }
   }
  },
  {
   "cell_type": "code",
   "execution_count": 2,
   "outputs": [],
   "source": [
    "def geo_fe(lat, long):\n",
    "    point = (lat,long)\n",
    "    tags = {'Aerialway':True,\n",
    "            'Aeroway':True,\n",
    "            'Amenity':True,\n",
    "            'Barrier':True,\n",
    "            'Boundary':True,\n",
    "            'Building': True,\n",
    "            'Craft':True\n",
    "            }\n",
    "    df = ox.pois_from_point(point = point, tags= tags)\n",
    "\n",
    "\n",
    "    return df"
   ],
   "metadata": {
    "collapsed": false,
    "pycharm": {
     "name": "#%%\n"
    }
   }
  },
  {
   "cell_type": "code",
   "execution_count": 2,
   "outputs": [],
   "source": [],
   "metadata": {
    "collapsed": false,
    "pycharm": {
     "name": "#%%\n"
    }
   }
  },
  {
   "cell_type": "code",
   "execution_count": 3,
   "outputs": [
    {
     "name": "stderr",
     "output_type": "stream",
     "text": [
      "/Users/inejj/anaconda3/envs/appartementen/lib/python3.7/site-packages/osmnx/pois.py:357: FutureWarning: Assigning CRS to a GeoDataFrame without a geometry column is now deprecated and will not be supported in the future.\n",
      "  gdf_nodes.crs = settings.default_crs\n",
      "/Users/inejj/anaconda3/envs/appartementen/lib/python3.7/site-packages/osmnx/pois.py:357: FutureWarning: Assigning CRS to a GeoDataFrame without a geometry column is now deprecated and will not be supported in the future.\n",
      "  gdf_nodes.crs = settings.default_crs\n",
      "/Users/inejj/anaconda3/envs/appartementen/lib/python3.7/site-packages/osmnx/pois.py:360: FutureWarning: Assigning CRS to a GeoDataFrame without a geometry column is now deprecated and will not be supported in the future.\n",
      "  gdf_ways.crs = settings.default_crs\n",
      "/Users/inejj/anaconda3/envs/appartementen/lib/python3.7/site-packages/osmnx/pois.py:357: FutureWarning: Assigning CRS to a GeoDataFrame without a geometry column is now deprecated and will not be supported in the future.\n",
      "  gdf_nodes.crs = settings.default_crs\n",
      "/Users/inejj/anaconda3/envs/appartementen/lib/python3.7/site-packages/osmnx/pois.py:360: FutureWarning: Assigning CRS to a GeoDataFrame without a geometry column is now deprecated and will not be supported in the future.\n",
      "  gdf_ways.crs = settings.default_crs\n",
      "/Users/inejj/anaconda3/envs/appartementen/lib/python3.7/site-packages/osmnx/pois.py:360: FutureWarning: Assigning CRS to a GeoDataFrame without a geometry column is now deprecated and will not be supported in the future.\n",
      "  gdf_ways.crs = settings.default_crs\n"
     ]
    },
    {
     "name": "stdout",
     "output_type": "stream",
     "text": [
      "Done with aerialway, Took 2.64 seconds\n",
      "Done with aeroway, Took 9.28 seconds\n",
      "Done with amenity, Took 13.64 seconds\n",
      "Done with barrier, Took 12.10 seconds\n",
      "Skipped boundary, Took 20.32 seconds\n",
      "Done with building, Took 478.86 seconds\n",
      "Done with craft, Took 4.53 seconds\n",
      "Done with emergency, Took 3.83 seconds\n",
      "Done with geological, Took 2.71 seconds\n",
      "Skipped highway, Took 146.51 seconds\n",
      "Done with historic, Took 5.45 seconds\n",
      "Done with landuse, Took 22.94 seconds\n",
      "Done with leisure, Took 14.41 seconds\n",
      "Done with man_made, Took 11.09 seconds\n",
      "Done with military, Took 2.86 seconds\n",
      "Done with natural, Took 13.55 seconds\n",
      "Done with office, Took 5.23 seconds\n",
      "Done with place, Took 3.02 seconds\n",
      "Done with power, Took 3.70 seconds\n",
      "Done with public transport, Took 2.25 seconds\n",
      "Done with railway, Took 15.37 seconds\n",
      "Skipped route, Took 339.81 seconds\n",
      "Done with shop, Took 8.05 seconds\n",
      "Done with sport, Took 11.68 seconds\n",
      "Done with telecom, Took 5.59 seconds\n",
      "Done with tourism, Took 5.63 seconds\n",
      "Done with waterway, Took 37.59 seconds\n"
     ]
    }
   ],
   "source": [
    "tags = {'Aerialway':True,\n",
    "        'Aeroway':True,\n",
    "        'Amenity':True,\n",
    "        'Barrier':True,\n",
    "        'Boundary':True,\n",
    "        'Building': True,\n",
    "        'Craft':True,\n",
    "        'Emergency':True,\n",
    "        'Geological':True,\n",
    "        'Highway':True,\n",
    "        'Historic':True,\n",
    "        'Landuse':True,\n",
    "        'Leisure':True,\n",
    "        'Man_made':True,\n",
    "        'Military':True,\n",
    "        'Natural':True,\n",
    "        'Office':True,\n",
    "        'Place':True,\n",
    "        'Power':True,\n",
    "        'Public Transport':True,\n",
    "        'Railway':True,\n",
    "        'Route':True,\n",
    "        'Shop':True,\n",
    "        'Sport':True,\n",
    "        'Telecom':True,\n",
    "        'Tourism':True,\n",
    "        'Waterway':True\n",
    "        }\n",
    "\n",
    "tags = {k.lower(): v for k, v in tags.items()}\n",
    "\n",
    "for x in tags:\n",
    "    start = time.time()\n",
    "    d = {x:True}\n",
    "    try:\n",
    "        gdf = ox.pois_from_place('Antwerp,Antwerp,Antwerp',tags=d)\n",
    "        gdf.to_csv(f'files/pois/{x}.csv')\n",
    "        print(f'Done with {x}, Took {time.time()-start :.2f} seconds')\n",
    "    except:\n",
    "        print(f'Skipped {x}, Took {time.time()-start :.2f} seconds')\n",
    "        continue\n",
    "        "
   ],
   "metadata": {
    "collapsed": false,
    "pycharm": {
     "name": "#%%\n"
    }
   }
  },
  {
   "cell_type": "code",
   "execution_count": 3,
   "outputs": [],
   "source": [
    "\n"
   ],
   "metadata": {
    "collapsed": false,
    "pycharm": {
     "name": "#%%\n"
    }
   }
  }
 ],
 "metadata": {
  "kernelspec": {
   "name": "pycharm-8d58dcf1",
   "language": "python",
   "display_name": "PyCharm (appartementen)"
  },
  "language_info": {
   "codemirror_mode": {
    "name": "ipython",
    "version": 3
   },
   "file_extension": ".py",
   "mimetype": "text/x-python",
   "name": "python",
   "nbconvert_exporter": "python",
   "pygments_lexer": "ipython3",
   "version": "3.8.2"
  }
 },
 "nbformat": 4,
 "nbformat_minor": 1
}