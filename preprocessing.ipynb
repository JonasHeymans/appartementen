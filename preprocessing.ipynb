{
 "nbformat": 4,
 "nbformat_minor": 0,
 "metadata": {
  "kernelspec": {
   "display_name": "Python 3",
   "language": "python",
   "name": "python3"
  },
  "language_info": {
   "codemirror_mode": {
    "name": "ipython",
    "version": 2
   },
   "file_extension": ".py",
   "mimetype": "text/x-python",
   "name": "python",
   "nbconvert_exporter": "python",
   "pygments_lexer": "ipython2",
   "version": "2.7.6"
  },
  "colab": {
   "name": "appartementen.ipynb",
   "provenance": [],
   "include_colab_link": true
  }
 },
 "cells": [
  {
   "cell_type": "code",
   "metadata": {
    "id": "7Rk4DQhDHO3Y",
    "colab_type": "code",
    "colab": {
     "base_uri": "https://localhost:8080/",
     "height": 71
    },
    "outputId": "fc68b28b-f3be-43c8-f18e-af65eee3c561"
   },
   "source": [
    "import pandas as pd\n",
    "import matplotlib.pyplot as plt\n",
    "import seaborn as sns\n",
    "import numpy as np"
   ],
   "execution_count": 422,
   "outputs": []
  },
  {
   "cell_type": "code",
   "execution_count": 423,
   "outputs": [
    {
     "name": "stderr",
     "output_type": "stream",
     "text": [
      "Profile branoss does not have a password on file through keyring. If you are expecting this behavior (PKI or IWA authentication, entering password through run-time prompt, etc.), please ignore this message. If you would like to store your password in the branoss profile, run GIS(profile = 'branoss', password = ...). See the API doc for more details. (http://bit.ly/2CK2wG8)\n"
     ]
    }
   ],
   "source": [],
   "metadata": {
    "collapsed": false,
    "pycharm": {
     "name": "#%%\n"
    }
   }
  },
  {
   "cell_type": "code",
   "metadata": {
    "pycharm": {
     "name": "#%%\n"
    },
    "id": "b1_jKVHdHO3e",
    "colab_type": "code",
    "colab": {
     "base_uri": "https://localhost:8080/",
     "height": 71
    },
    "outputId": "7679ae94-36e7-43a0-e5ea-99ae4b6c1dc9"
   },
   "source": [
    "df = pd.read_csv('files/all.csv', index_col='Unnamed: 0')"
   ],
   "execution_count": 424,
   "outputs": []
  },
  {
   "cell_type": "code",
   "execution_count": 425,
   "outputs": [],
   "source": [],
   "metadata": {
    "collapsed": false,
    "pycharm": {
     "name": "#%%\n"
    }
   }
  },
  {
   "cell_type": "code",
   "execution_count": 428,
   "outputs": [],
   "source": [
    "# Dropping street and housenumber for now, but might be intereting later use it, eg via a graph library\n",
    "\n",
    "df = df.drop(['property.location.box', 'property.location.street',\n",
    "              'property.location.latitude', 'property.location.longitude',\n",
    "              'property.location.locality', 'property.location.number',\n",
    "              'Address',], axis=1)\n",
    "\n",
    "df = df.drop(columns=['flags.main','customerLogoUrl','customerName','media.pictures',\n",
    "                      'flags.secondary','Price','property.title','publication.size',\n",
    "                      'publication.visualisationOption','External reference',\n",
    "                      'Reference number of the EPC report','Website', 'Available as of'\n",
    "\n",
    "\n",
    "                      ], axis =1)\n"
   ],
   "metadata": {
    "collapsed": false,
    "pycharm": {
     "name": "#%%\n"
    }
   }
  },
  {
   "cell_type": "code",
   "execution_count": 454,
   "outputs": [
    {
     "data": {
      "text/plain": "MapView(layout=Layout(height='400px', width='100%'))",
      "application/vnd.jupyter.widget-view+json": {
       "version_major": 2,
       "version_minor": 0,
       "model_id": "d7123f3878ef4f4c822b72217d922bbd"
      }
     },
     "metadata": {},
     "output_type": "display_data"
    },
    {
     "data": {
      "text/plain": "<IPython.core.display.HTML object>",
      "text/html": "<div class=\"map-static-img-preview-b4cdb1a3-db3a-4f77-b4e7-24de637df49c\"><img src=\"\"></img></div>"
     },
     "metadata": {},
     "output_type": "display_data"
    }
   ],
   "source": [
    "\n",
    "pdx_map = gis.map('Antwerp, ANT')\n",
    "pdx_map.basemap='gray'\n",
    "pdx_map"
   ],
   "metadata": {
    "collapsed": false,
    "pycharm": {
     "name": "#%%\n"
    }
   }
  },
  {
   "cell_type": "code",
   "execution_count": null,
   "outputs": [],
   "source": [
    "# Removing outliers\n",
    "df = df[df['Floor :'] < 30]\n",
    "\n",
    "# Geen openbare verkopen waar we moeten bieden of verkopen op lijfrente.\n",
    "df = df[df['price.label'] == 'Price']\n",
    "\n",
    "# Geen slaapkamers vermeld is nogal raar.\n",
    "\n",
    "df = df[df['property.bedroomCount'] > 0]\n",
    "\n",
    "df[['Double glazing','Armored door','Elevator','Basement','Intercom']] =\\\n",
    "    df[['Double glazing','Armored door','Elevator','Basement','Intercom',]]\\\n",
    "        .replace('Yes', 1).replace('No',0)\n",
    "\n",
    "df[['Planning permission obtained', 'Type of building']] = df[['Planning permission obtained','Type of building']].replace('Yes', 1).replace('No',0)\n",
    "\n",
    "df['CO² emission'] = df['CO² emission'].str.strip('kg CO2/m²').replace('Not specified',np.nan)\n",
    "\n",
    "df['E-level (primary energy consumption)'] = df['E-level (primary energy consumption)']\\\n",
    "    .str.strip('kWh/m²kilowatt hour per square meters').replace('Not specified',np.nan)\n",
    "\n",
    "df['Living area'] = df['Living area'].str.strip('m²square meters').replace('Not specified',np.nan)\n",
    "df['Living room surface'] = df['Living room surface'].str.strip('m²square meters').replace('Not specified',np.nan)\n",
    "df['Bedroom 1 surface'] = df['Bedroom 1 surface'].str.strip('m²square meters').replace('Not specified',np.nan)\n",
    "df['Bedroom 2 surface'] = df['Bedroom 2 surface'].str.strip('m²square meters').replace('Not specified',np.nan)\n",
    "df['Terrace surface'] = df['Terrace surface'].str.strip('m²square meters').replace('Not specified',np.nan)\n",
    "\n",
    "df['Cadastral income'] = df['Cadastral income'].str.strip('€')\n",
    "\n",
    "\n",
    "\n",
    "to_drop = ['Floor','price.shortDisplayPrice','price.accessibilityPrice',\n",
    "           'price.mainDisplayPrice', 'property.location.floor','Bedrooms','bedrooms','bedroom',\n",
    "           'transaction.sale.price','bathroom']\n",
    "df = df.drop(to_drop, axis=1)"
   ],
   "metadata": {
    "collapsed": false,
    "pycharm": {
     "name": "#%%\n"
    }
   }
  },
  {
   "cell_type": "code",
   "execution_count": 430,
   "outputs": [
    {
     "name": "stdout",
     "output_type": "stream",
     "text": [
      "Dropping isBookmarked, [0.]\n",
      "Dropping price.label, ['Price']\n",
      "Dropping price.language, ['en']\n",
      "Dropping price.type, ['residential_sale']\n",
      "Dropping property.location.country, ['Belgium']\n",
      "Dropping property.location.district, ['Antwerp']\n",
      "Dropping property.location.province, ['Antwerp']\n",
      "Dropping property.location.region, ['Flanders']\n",
      "Dropping property.location.regionCode, ['FLANDERS']\n",
      "Dropping property.type, ['APARTMENT']\n",
      "Dropping transaction.type, ['FOR_SALE']\n",
      "Dropping Yearly theoretical total energy consumption, ['Not specified']\n"
     ]
    }
   ],
   "source": [
    "for column in df.columns:\n",
    "    if df[column].isnull().sum() > 0.8*len(df):\n",
    "        df = df.drop(column, axis=1)\n",
    "    elif len(df[column].unique()) == 1:\n",
    "        print(f'Dropping {column}, {df[column].unique()}')\n",
    "        df = df.drop(column, axis=1)"
   ],
   "metadata": {
    "collapsed": false,
    "pycharm": {
     "name": "#%%\n"
    }
   }
  },
  {
   "cell_type": "code",
   "execution_count": 431,
   "outputs": [
    {
     "name": "stdout",
     "output_type": "stream",
     "text": [
      "<class 'pandas.core.frame.DataFrame'>\n",
      "Int64Index: 2034 entries, 1 to 4175\n",
      "Data columns (total 35 columns):\n",
      " #   Column                                Non-Null Count  Dtype  \n",
      "---  ------                                --------------  -----  \n",
      " 0   id                                    2034 non-null   float64\n",
      " 1   price.mainValue                       2034 non-null   float64\n",
      " 2   property.bedroomCount                 2034 non-null   float64\n",
      " 3   property.location.postalCode          2034 non-null   int64  \n",
      " 4   property.netHabitableSurface          1897 non-null   float64\n",
      " 5   property.subtype                      2034 non-null   object \n",
      " 6   Unnamed: 0.1                          2034 non-null   int64  \n",
      " 7   Armored door                          638 non-null    float64\n",
      " 8   Bathrooms                             1817 non-null   float64\n",
      " 9   Construction year                     1324 non-null   float64\n",
      " 10  Double glazing                        1401 non-null   float64\n",
      " 11  E-level (primary energy consumption)  1437 non-null   object \n",
      " 12  Energy class                          2034 non-null   object \n",
      " 13  Facades                               1260 non-null   float64\n",
      " 14  Flood zone type                       1238 non-null   object \n",
      " 15  Heating type                          1445 non-null   object \n",
      " 16  Kitchen type                          1354 non-null   object \n",
      " 17  Living area                           1897 non-null   object \n",
      " 18  Living room surface                   852 non-null    object \n",
      " 19  Planning permission obtained          1225 non-null   float64\n",
      " 20  Toilets                               1492 non-null   float64\n",
      " 21  m²square meterslivable space          1897 non-null   float64\n",
      " 22  Building condition                    1438 non-null   object \n",
      " 23  Cadastral income                      828 non-null    object \n",
      " 24  Type of building                      506 non-null    object \n",
      " 25  As built plan                         619 non-null    object \n",
      " 26  Bedroom 1 surface                     874 non-null    object \n",
      " 27  Bedroom 2 surface                     685 non-null    object \n",
      " 28  Covered parking spaces                488 non-null    float64\n",
      " 29  Intercom                              692 non-null    float64\n",
      " 30  Terrace surface                       1091 non-null   object \n",
      " 31  Basement                              518 non-null    float64\n",
      " 32  Floor :                               2034 non-null   float64\n",
      " 33  Number of floors                      1167 non-null   float64\n",
      " 34  Elevator                              1123 non-null   float64\n",
      "dtypes: float64(18), int64(2), object(15)\n",
      "memory usage: 572.1+ KB\n"
     ]
    }
   ],
   "source": [
    "df.info()"
   ],
   "metadata": {
    "collapsed": false,
    "pycharm": {
     "name": "#%%\n"
    }
   }
  },
  {
   "cell_type": "code",
   "execution_count": 432,
   "outputs": [],
   "source": [
    "# df['Available as of'].value_counts(dropna=False,sort=True)\n"
   ],
   "metadata": {
    "collapsed": false,
    "pycharm": {
     "name": "#%%\n"
    }
   }
  },
  {
   "cell_type": "code",
   "execution_count": 433,
   "outputs": [],
   "source": [
    "floats = ['E-level (primary energy consumption)','Terrace surface',\n",
    "          'Bedroom 2 surface','Bedroom 1 surface','Living area','Living room surface',\n",
    "          'Cadastral income']\n",
    "\n",
    "df[floats] = df[floats].apply(lambda x: x.str.replace('.','').str.replace(',','.')\n",
    "                              .str.strip().replace(',','.')).astype(float)"
   ],
   "metadata": {
    "collapsed": false,
    "pycharm": {
     "name": "#%%\n"
    }
   }
  },
  {
   "cell_type": "code",
   "execution_count": 434,
   "outputs": [
    {
     "name": "stdout",
     "output_type": "stream",
     "text": [
      "<class 'pandas.core.frame.DataFrame'>\n",
      "Int64Index: 2034 entries, 1 to 4175\n",
      "Data columns (total 35 columns):\n",
      " #   Column                                Non-Null Count  Dtype  \n",
      "---  ------                                --------------  -----  \n",
      " 0   id                                    2034 non-null   float64\n",
      " 1   price.mainValue                       2034 non-null   float64\n",
      " 2   property.bedroomCount                 2034 non-null   float64\n",
      " 3   property.location.postalCode          2034 non-null   int64  \n",
      " 4   property.netHabitableSurface          1897 non-null   float64\n",
      " 5   property.subtype                      2034 non-null   object \n",
      " 6   Unnamed: 0.1                          2034 non-null   int64  \n",
      " 7   Armored door                          638 non-null    float64\n",
      " 8   Bathrooms                             1817 non-null   float64\n",
      " 9   Construction year                     1324 non-null   float64\n",
      " 10  Double glazing                        1401 non-null   float64\n",
      " 11  E-level (primary energy consumption)  1437 non-null   float64\n",
      " 12  Energy class                          2034 non-null   object \n",
      " 13  Facades                               1260 non-null   float64\n",
      " 14  Flood zone type                       1238 non-null   object \n",
      " 15  Heating type                          1445 non-null   object \n",
      " 16  Kitchen type                          1354 non-null   object \n",
      " 17  Living area                           1897 non-null   float64\n",
      " 18  Living room surface                   852 non-null    float64\n",
      " 19  Planning permission obtained          1225 non-null   float64\n",
      " 20  Toilets                               1492 non-null   float64\n",
      " 21  m²square meterslivable space          1897 non-null   float64\n",
      " 22  Building condition                    1438 non-null   object \n",
      " 23  Cadastral income                      828 non-null    float64\n",
      " 24  Type of building                      506 non-null    object \n",
      " 25  As built plan                         619 non-null    object \n",
      " 26  Bedroom 1 surface                     874 non-null    float64\n",
      " 27  Bedroom 2 surface                     685 non-null    float64\n",
      " 28  Covered parking spaces                488 non-null    float64\n",
      " 29  Intercom                              692 non-null    float64\n",
      " 30  Terrace surface                       1091 non-null   float64\n",
      " 31  Basement                              518 non-null    float64\n",
      " 32  Floor :                               2034 non-null   float64\n",
      " 33  Number of floors                      1167 non-null   float64\n",
      " 34  Elevator                              1123 non-null   float64\n",
      "dtypes: float64(25), int64(2), object(8)\n",
      "memory usage: 572.1+ KB\n"
     ]
    }
   ],
   "source": [
    "df.info()"
   ],
   "metadata": {
    "collapsed": false,
    "pycharm": {
     "name": "#%%\n"
    }
   }
  },
  {
   "cell_type": "code",
   "execution_count": 435,
   "outputs": [],
   "source": [
    "one_hots = ['property.subtype', 'Flood zone type', 'Heating type','Kitchen type',\n",
    "            'Building condition', 'Type of building','As built plan','property.location.postalCode'\n",
    "            ]\n",
    "\n",
    "df = pd.get_dummies(data= df, columns=one_hots)"
   ],
   "metadata": {
    "collapsed": false,
    "pycharm": {
     "name": "#%%\n"
    }
   }
  },
  {
   "cell_type": "code",
   "execution_count": 436,
   "outputs": [],
   "source": [
    "# Ordinal encoding\n",
    "scale_mapper = {'A':1,\n",
    "                'B':2,\n",
    "                'C':3,\n",
    "                'D':4,\n",
    "                'E':5,\n",
    "                'F':6,\n",
    "                'Not specified': np.nan\n",
    "                }\n",
    "\n",
    "df['Energy class'] = df['Energy class'].replace(scale_mapper)"
   ],
   "metadata": {
    "collapsed": false,
    "pycharm": {
     "name": "#%%\n"
    }
   }
  },
  {
   "cell_type": "code",
   "execution_count": 437,
   "outputs": [
    {
     "data": {
      "text/plain": "                                                                                   1  \\\nid                                8745713.000000000000000000000000000000000000000...   \nprice.mainValue                   185000.0000000000000000000000000000000000000000...   \nproperty.bedroomCount             2.000000000000000000000000000000000000000000000...   \nproperty.netHabitableSurface      84.00000000000000000000000000000000000000000000...   \nUnnamed: 0.1                      1.000000000000000000000000000000000000000000000...   \n...                                                                              ...   \nproperty.location.postalCode_2950 0.000000000000000000000000000000000000000000000...   \nproperty.location.postalCode_2960 0.000000000000000000000000000000000000000000000...   \nproperty.location.postalCode_2970 0.000000000000000000000000000000000000000000000...   \nproperty.location.postalCode_2980 0.000000000000000000000000000000000000000000000...   \nproperty.location.postalCode_2990 0.000000000000000000000000000000000000000000000...   \n\n                                                                                   2  \\\nid                                8745715.000000000000000000000000000000000000000...   \nprice.mainValue                   280000.0000000000000000000000000000000000000000...   \nproperty.bedroomCount             3.000000000000000000000000000000000000000000000...   \nproperty.netHabitableSurface      138.0000000000000000000000000000000000000000000...   \nUnnamed: 0.1                      2.000000000000000000000000000000000000000000000...   \n...                                                                              ...   \nproperty.location.postalCode_2950 0.000000000000000000000000000000000000000000000...   \nproperty.location.postalCode_2960 0.000000000000000000000000000000000000000000000...   \nproperty.location.postalCode_2970 0.000000000000000000000000000000000000000000000...   \nproperty.location.postalCode_2980 0.000000000000000000000000000000000000000000000...   \nproperty.location.postalCode_2990 0.000000000000000000000000000000000000000000000...   \n\n                                                                                   4  \\\nid                                8744282.000000000000000000000000000000000000000...   \nprice.mainValue                   184000.0000000000000000000000000000000000000000...   \nproperty.bedroomCount             1.000000000000000000000000000000000000000000000...   \nproperty.netHabitableSurface      68.00000000000000000000000000000000000000000000...   \nUnnamed: 0.1                      4.000000000000000000000000000000000000000000000...   \n...                                                                              ...   \nproperty.location.postalCode_2950 0.000000000000000000000000000000000000000000000...   \nproperty.location.postalCode_2960 0.000000000000000000000000000000000000000000000...   \nproperty.location.postalCode_2970 0.000000000000000000000000000000000000000000000...   \nproperty.location.postalCode_2980 0.000000000000000000000000000000000000000000000...   \nproperty.location.postalCode_2990 0.000000000000000000000000000000000000000000000...   \n\n                                                                                   5  \\\nid                                8664757.000000000000000000000000000000000000000...   \nprice.mainValue                   149000.0000000000000000000000000000000000000000...   \nproperty.bedroomCount             1.000000000000000000000000000000000000000000000...   \nproperty.netHabitableSurface      40.00000000000000000000000000000000000000000000...   \nUnnamed: 0.1                      5.000000000000000000000000000000000000000000000...   \n...                                                                              ...   \nproperty.location.postalCode_2950 0.000000000000000000000000000000000000000000000...   \nproperty.location.postalCode_2960 0.000000000000000000000000000000000000000000000...   \nproperty.location.postalCode_2970 0.000000000000000000000000000000000000000000000...   \nproperty.location.postalCode_2980 0.000000000000000000000000000000000000000000000...   \nproperty.location.postalCode_2990 0.000000000000000000000000000000000000000000000...   \n\n                                                                                   9  \nid                                8614460.000000000000000000000000000000000000000...  \nprice.mainValue                   175000.0000000000000000000000000000000000000000...  \nproperty.bedroomCount             2.000000000000000000000000000000000000000000000...  \nproperty.netHabitableSurface      105.0000000000000000000000000000000000000000000...  \nUnnamed: 0.1                      9.000000000000000000000000000000000000000000000...  \n...                                                                              ...  \nproperty.location.postalCode_2950 0.000000000000000000000000000000000000000000000...  \nproperty.location.postalCode_2960 0.000000000000000000000000000000000000000000000...  \nproperty.location.postalCode_2970 0.000000000000000000000000000000000000000000000...  \nproperty.location.postalCode_2980 0.000000000000000000000000000000000000000000000...  \nproperty.location.postalCode_2990 0.000000000000000000000000000000000000000000000...  \n\n[105 rows x 5 columns]",
      "text/html": "<div>\n<style scoped>\n    .dataframe tbody tr th:only-of-type {\n        vertical-align: middle;\n    }\n\n    .dataframe tbody tr th {\n        vertical-align: top;\n    }\n\n    .dataframe thead th {\n        text-align: right;\n    }\n</style>\n<table border=\"1\" class=\"dataframe\">\n  <thead>\n    <tr style=\"text-align: right;\">\n      <th></th>\n      <th>1</th>\n      <th>2</th>\n      <th>4</th>\n      <th>5</th>\n      <th>9</th>\n    </tr>\n  </thead>\n  <tbody>\n    <tr>\n      <th>id</th>\n      <td>8745713.000000000000000000000000000000000000000...</td>\n      <td>8745715.000000000000000000000000000000000000000...</td>\n      <td>8744282.000000000000000000000000000000000000000...</td>\n      <td>8664757.000000000000000000000000000000000000000...</td>\n      <td>8614460.000000000000000000000000000000000000000...</td>\n    </tr>\n    <tr>\n      <th>price.mainValue</th>\n      <td>185000.0000000000000000000000000000000000000000...</td>\n      <td>280000.0000000000000000000000000000000000000000...</td>\n      <td>184000.0000000000000000000000000000000000000000...</td>\n      <td>149000.0000000000000000000000000000000000000000...</td>\n      <td>175000.0000000000000000000000000000000000000000...</td>\n    </tr>\n    <tr>\n      <th>property.bedroomCount</th>\n      <td>2.000000000000000000000000000000000000000000000...</td>\n      <td>3.000000000000000000000000000000000000000000000...</td>\n      <td>1.000000000000000000000000000000000000000000000...</td>\n      <td>1.000000000000000000000000000000000000000000000...</td>\n      <td>2.000000000000000000000000000000000000000000000...</td>\n    </tr>\n    <tr>\n      <th>property.netHabitableSurface</th>\n      <td>84.00000000000000000000000000000000000000000000...</td>\n      <td>138.0000000000000000000000000000000000000000000...</td>\n      <td>68.00000000000000000000000000000000000000000000...</td>\n      <td>40.00000000000000000000000000000000000000000000...</td>\n      <td>105.0000000000000000000000000000000000000000000...</td>\n    </tr>\n    <tr>\n      <th>Unnamed: 0.1</th>\n      <td>1.000000000000000000000000000000000000000000000...</td>\n      <td>2.000000000000000000000000000000000000000000000...</td>\n      <td>4.000000000000000000000000000000000000000000000...</td>\n      <td>5.000000000000000000000000000000000000000000000...</td>\n      <td>9.000000000000000000000000000000000000000000000...</td>\n    </tr>\n    <tr>\n      <th>...</th>\n      <td>...</td>\n      <td>...</td>\n      <td>...</td>\n      <td>...</td>\n      <td>...</td>\n    </tr>\n    <tr>\n      <th>property.location.postalCode_2950</th>\n      <td>0.000000000000000000000000000000000000000000000...</td>\n      <td>0.000000000000000000000000000000000000000000000...</td>\n      <td>0.000000000000000000000000000000000000000000000...</td>\n      <td>0.000000000000000000000000000000000000000000000...</td>\n      <td>0.000000000000000000000000000000000000000000000...</td>\n    </tr>\n    <tr>\n      <th>property.location.postalCode_2960</th>\n      <td>0.000000000000000000000000000000000000000000000...</td>\n      <td>0.000000000000000000000000000000000000000000000...</td>\n      <td>0.000000000000000000000000000000000000000000000...</td>\n      <td>0.000000000000000000000000000000000000000000000...</td>\n      <td>0.000000000000000000000000000000000000000000000...</td>\n    </tr>\n    <tr>\n      <th>property.location.postalCode_2970</th>\n      <td>0.000000000000000000000000000000000000000000000...</td>\n      <td>0.000000000000000000000000000000000000000000000...</td>\n      <td>0.000000000000000000000000000000000000000000000...</td>\n      <td>0.000000000000000000000000000000000000000000000...</td>\n      <td>0.000000000000000000000000000000000000000000000...</td>\n    </tr>\n    <tr>\n      <th>property.location.postalCode_2980</th>\n      <td>0.000000000000000000000000000000000000000000000...</td>\n      <td>0.000000000000000000000000000000000000000000000...</td>\n      <td>0.000000000000000000000000000000000000000000000...</td>\n      <td>0.000000000000000000000000000000000000000000000...</td>\n      <td>0.000000000000000000000000000000000000000000000...</td>\n    </tr>\n    <tr>\n      <th>property.location.postalCode_2990</th>\n      <td>0.000000000000000000000000000000000000000000000...</td>\n      <td>0.000000000000000000000000000000000000000000000...</td>\n      <td>0.000000000000000000000000000000000000000000000...</td>\n      <td>0.000000000000000000000000000000000000000000000...</td>\n      <td>0.000000000000000000000000000000000000000000000...</td>\n    </tr>\n  </tbody>\n</table>\n<p>105 rows × 5 columns</p>\n</div>"
     },
     "execution_count": 437,
     "metadata": {},
     "output_type": "execute_result"
    }
   ],
   "source": [
    "df.head().T"
   ],
   "metadata": {
    "collapsed": false,
    "pycharm": {
     "name": "#%%\n"
    }
   }
  },
  {
   "cell_type": "code",
   "execution_count": 438,
   "outputs": [],
   "source": [
    "df.to_csv('files/cleaned.csv')\n"
   ],
   "metadata": {
    "collapsed": false,
    "pycharm": {
     "name": "#%%\n"
    }
   }
  },
  {
   "cell_type": "code",
   "execution_count": 439,
   "outputs": [],
   "source": [
    "def remove_outlier(df, col):\n",
    "  q1 = df[col].quantile(0.25)\n",
    "  q3 = df[col].quantile(0.75)\n",
    "  iqr = q3 - q1\n",
    "  lower_bound  = q1 - (1.5  * iqr)\n",
    "  upper_bound = q3 + (1.5 * iqr)\n",
    "  out_df = df.loc[(df[col] > lower_bound) & (df[col] < upper_bound)]\n",
    "  return out_df\n",
    "df = remove_outlier(df,\"price.mainValue\")\n",
    "\n",
    "threshold = len(df) * .75\n",
    "df.dropna(thresh = threshold, axis = 1, inplace = True)"
   ],
   "metadata": {
    "collapsed": false,
    "pycharm": {
     "name": "#%%\n"
    }
   }
  },
  {
   "cell_type": "code",
   "execution_count": 440,
   "outputs": [],
   "source": [
    "df = df.fillna(0)"
   ],
   "metadata": {
    "collapsed": false,
    "pycharm": {
     "name": "#%%\n"
    }
   }
  },
  {
   "cell_type": "code",
   "execution_count": 441,
   "outputs": [
    {
     "data": {
      "text/plain": "id                                   0\nprice.mainValue                      0\nproperty.bedroomCount                0\nproperty.netHabitableSurface         0\nUnnamed: 0.1                         0\n                                    ..\nproperty.location.postalCode_2950    0\nproperty.location.postalCode_2960    0\nproperty.location.postalCode_2970    0\nproperty.location.postalCode_2980    0\nproperty.location.postalCode_2990    0\nLength: 88, dtype: int64"
     },
     "execution_count": 441,
     "metadata": {},
     "output_type": "execute_result"
    }
   ],
   "source": [
    "df.isnull().sum(axis = 0)\n"
   ],
   "metadata": {
    "collapsed": false,
    "pycharm": {
     "name": "#%%\n"
    }
   }
  },
  {
   "cell_type": "code",
   "execution_count": 442,
   "outputs": [],
   "source": [
    "from sklearn.model_selection import train_test_split\n",
    "features =  list(df.drop(columns=['price.mainValue','Unnamed: 0.1','id'],axis=1))\n",
    "X = df[features]\n",
    "y = df['price.mainValue']"
   ],
   "metadata": {
    "collapsed": false,
    "pycharm": {
     "name": "#%%\n"
    }
   }
  },
  {
   "cell_type": "code",
   "execution_count": 443,
   "outputs": [],
   "source": [
    "X_train, X_test, y_train, y_test = train_test_split(X, y, test_size=0.2, random_state=0)"
   ],
   "metadata": {
    "collapsed": false,
    "pycharm": {
     "name": "#%%\n"
    }
   }
  },
  {
   "cell_type": "code",
   "execution_count": 444,
   "outputs": [
    {
     "name": "stdout",
     "output_type": "stream",
     "text": [
      "Model Accuracy: -0.07397157168760327\n",
      "$ 70521.3498170075\n"
     ]
    }
   ],
   "source": [
    "from sklearn.dummy import DummyRegressor\n",
    "from sklearn.metrics import mean_absolute_error\n",
    "from sklearn.metrics import r2_score\n",
    "from sklearn.model_selection import train_test_split\n",
    "dummy_median = DummyRegressor(strategy='mean')\n",
    "dummy_regressor = dummy_median.fit(X_train,y_train)\n",
    "dummy_predicts = dummy_regressor.predict(X_test)\n",
    "print(\"Model Accuracy:\", dummy_regressor.score(X_test,y_test)*100)\n",
    "print('$',mean_absolute_error(y_test,dummy_predicts))"
   ],
   "metadata": {
    "collapsed": false,
    "pycharm": {
     "name": "#%%\n"
    }
   }
  },
  {
   "cell_type": "code",
   "execution_count": 445,
   "outputs": [],
   "source": [
    "from sklearn.tree import DecisionTreeRegressor\n",
    "from sklearn.ensemble import RandomForestRegressor\n",
    "from sklearn.ensemble import GradientBoostingRegressor\n",
    "models = [\n",
    "          DecisionTreeRegressor(criterion='mse',max_depth=11,random_state=100),\n",
    "          GradientBoostingRegressor(n_estimators=200,max_depth=12, verbose=2),\n",
    "            RandomForestRegressor(min_samples_leaf =1, n_estimators=100,criterion='mse',max_depth=20,random_state=100,verbose=2)]\n",
    "learning_mods = pd.DataFrame()\n",
    "temp = {}"
   ],
   "metadata": {
    "collapsed": false,
    "pycharm": {
     "name": "#%%\n"
    }
   }
  },
  {
   "cell_type": "code",
   "execution_count": 446,
   "outputs": [
    {
     "name": "stdout",
     "output_type": "stream",
     "text": [
      "DecisionTreeRegressor(max_depth=11, random_state=100)\n",
      "score on training 0.8785311524345804\n",
      "r2 score 0.558650806507086 \n",
      "\n",
      "GradientBoostingRegressor(max_depth=12, n_estimators=200, verbose=2)\n",
      "      Iter       Train Loss   Remaining Time \n",
      "         1  6560359056.7597            2.07s\n",
      "         2  5467953719.4528            2.33s\n",
      "         3  4588157086.3238            2.66s\n",
      "         4  3860393699.2386            2.65s\n",
      "         5  3235947879.2308            2.64s\n",
      "         6  2718930698.7928            2.54s\n",
      "         7  2294225686.4932            2.48s\n",
      "         8  1947249240.2206            2.43s\n",
      "         9  1654357797.1241            2.50s\n",
      "        10  1413736783.3006            2.51s\n",
      "        11  1216098334.4893            2.58s\n",
      "        12  1049701616.2584            2.56s\n",
      "        13   917370867.1932            2.52s\n",
      "        14   803913046.1280            2.56s\n",
      "        15   710441660.4954            2.59s\n",
      "        16   624345969.2141            2.55s\n",
      "        17   551950269.9565            2.53s\n",
      "        18   498207049.6876            2.49s\n",
      "        19   444485703.7288            2.46s\n",
      "        20   398209765.1386            2.50s\n",
      "        21   362662531.8724            2.48s\n",
      "        22   327448547.8664            2.45s\n",
      "        23   297151897.0864            2.44s\n",
      "        24   274559978.8176            2.47s\n",
      "        25   255012159.1054            2.48s\n",
      "        26   237124032.0089            2.46s\n",
      "        27   221125314.1826            2.42s\n",
      "        28   202371423.5884            2.41s\n",
      "        29   189796764.3040            2.51s\n",
      "        30   180813188.6288            2.50s\n",
      "        31   172259505.3020            2.51s\n",
      "        32   163456446.2465            2.49s\n",
      "        33   155714568.2319            2.45s\n",
      "        34   147249988.8629            2.41s\n",
      "        35   135450912.3647            2.39s\n",
      "        36   128949562.8796            2.38s\n",
      "        37   124290426.7829            2.35s\n",
      "        38   118408335.8074            2.33s\n",
      "        39   112299729.6655            2.31s\n",
      "        40   108946299.8214            2.29s\n",
      "        41   105204650.6583            2.27s\n",
      "        42   101754970.9049            2.25s\n",
      "        43    97377270.4959            2.24s\n",
      "        44    94523592.1455            2.21s\n",
      "        45    92248743.4041            2.19s\n",
      "        46    88877470.6553            2.17s\n",
      "        47    85392595.4806            2.14s\n",
      "        48    81401388.8981            2.11s\n",
      "        49    76095159.9778            2.09s\n",
      "        50    71958792.4070            2.07s\n",
      "        51    70644659.7640            2.05s\n",
      "        52    69018284.8914            2.03s\n",
      "        53    66954263.8936            2.00s\n",
      "        54    66116455.9009            1.98s\n",
      "        55    63340538.9086            1.96s\n",
      "        56    62042117.2613            1.94s\n",
      "        57    60862472.7424            1.91s\n",
      "        58    57966906.5581            1.90s\n",
      "        59    55854926.8205            1.87s\n",
      "        60    53268876.9841            1.86s\n",
      "        61    52657079.1071            1.84s\n",
      "        62    51508551.0496            1.82s\n",
      "        63    50925341.3860            1.80s\n",
      "        64    50436219.1637            1.79s\n",
      "        65    48960765.4765            1.77s\n",
      "        66    47308080.2773            1.75s\n",
      "        67    45138952.5349            1.74s\n",
      "        68    44430247.1745            1.72s\n",
      "        69    43085323.3359            1.71s\n",
      "        70    41936725.6992            1.69s\n",
      "        71    40208199.8142            1.68s\n",
      "        72    39701898.5599            1.66s\n",
      "        73    38537506.0764            1.64s\n",
      "        74    35895024.6430            1.62s\n",
      "        75    34874861.3185            1.61s\n",
      "        76    34456587.3819            1.59s\n",
      "        77    33642195.8818            1.58s\n",
      "        78    32947801.3921            1.57s\n",
      "        79    32334407.7111            1.56s\n",
      "        80    31819212.1130            1.54s\n",
      "        81    31617340.2773            1.53s\n",
      "        82    31170882.2612            1.52s\n",
      "        83    30169768.5748            1.51s\n",
      "        84    29964444.3615            1.50s\n",
      "        85    29511906.5112            1.49s\n",
      "        86    28365823.8520            1.48s\n",
      "        87    27457877.5330            1.46s\n",
      "        88    27353873.9758            1.44s\n",
      "        89    27094348.5405            1.43s\n",
      "        90    26322239.5221            1.41s\n",
      "        91    25892326.8530            1.39s\n",
      "        92    25051116.7603            1.38s\n",
      "        93    24554860.9716            1.36s\n",
      "        94    24229562.2319            1.34s\n",
      "        95    23472650.7318            1.33s\n",
      "        96    22617223.1820            1.31s\n",
      "        97    22316369.7790            1.30s\n",
      "        98    22125808.4830            1.29s\n",
      "        99    21886914.4598            1.27s\n",
      "       100    21713297.9821            1.26s\n",
      "       101    21135128.1656            1.24s\n",
      "       102    19949054.3880            1.23s\n",
      "       103    19421896.3770            1.21s\n",
      "       104    19384264.0521            1.20s\n",
      "       105    19056499.0687            1.18s\n",
      "       106    18787910.5012            1.17s\n",
      "       107    18332861.5954            1.15s\n",
      "       108    18188337.8040            1.14s\n",
      "       109    17952993.8782            1.13s\n",
      "       110    17684630.7627            1.11s\n",
      "       111    17431128.4098            1.10s\n",
      "       112    16951910.3779            1.08s\n",
      "       113    16717636.2312            1.07s\n",
      "       114    15961888.0501            1.05s\n",
      "       115    14716925.0521            1.04s\n",
      "       116    14306013.8207            1.03s\n",
      "       117    13725441.0127            1.02s\n",
      "       118    13457412.0139            1.00s\n",
      "       119    12649191.9262            0.99s\n",
      "       120    12575271.5232            0.98s\n",
      "       121    12192325.1388            0.97s\n",
      "       122    12003991.6881            0.95s\n",
      "       123    11775097.6215            0.94s\n",
      "       124    11135998.1691            0.93s\n",
      "       125    10575224.5280            0.91s\n",
      "       126    10378011.7028            0.90s\n",
      "       127    10217874.1728            0.88s\n",
      "       128     9875400.5114            0.87s\n",
      "       129     9803907.0052            0.86s\n",
      "       130     9387589.6741            0.85s\n",
      "       131     9239032.8424            0.84s\n",
      "       132     8922198.1573            0.83s\n",
      "       133     8832438.8939            0.82s\n",
      "       134     8736470.9878            0.80s\n",
      "       135     8608351.8424            0.79s\n",
      "       136     8493548.8464            0.78s\n",
      "       137     8222735.1405            0.77s\n",
      "       138     7969035.2973            0.75s\n",
      "       139     7935846.6356            0.74s\n",
      "       140     7857279.5387            0.73s\n",
      "       141     7459494.8948            0.72s\n",
      "       142     7340426.3475            0.70s\n",
      "       143     7057480.7236            0.69s\n",
      "       144     7010266.1445            0.68s\n",
      "       145     6836992.1302            0.66s\n",
      "       146     6688966.8750            0.65s\n",
      "       147     6635880.9965            0.64s\n",
      "       148     6560572.3165            0.62s\n",
      "       149     6417397.9731            0.61s\n",
      "       150     6059463.9793            0.60s\n",
      "       151     5987815.1369            0.58s\n",
      "       152     5953494.8820            0.57s\n",
      "       153     5655400.4663            0.56s\n",
      "       154     5314430.5301            0.54s\n",
      "       155     5268433.7011            0.53s\n",
      "       156     5117053.0936            0.52s\n",
      "       157     5071181.4318            0.51s\n",
      "       158     5055928.1907            0.49s\n",
      "       159     4978550.2400            0.48s\n",
      "       160     4909235.6889            0.47s\n",
      "       161     4887539.8352            0.46s\n",
      "       162     4839899.1191            0.45s\n",
      "       163     4751404.1113            0.43s\n",
      "       164     4657796.6007            0.42s\n",
      "       165     4386091.2858            0.41s\n",
      "       166     4224843.0260            0.40s\n",
      "       167     4109908.4550            0.39s\n",
      "       168     3953599.9840            0.38s\n",
      "       169     3942904.7943            0.37s\n",
      "       170     3817550.9500            0.36s\n",
      "       171     3752883.0103            0.35s\n",
      "       172     3665273.5880            0.33s\n",
      "       173     3627233.0971            0.32s\n",
      "       174     3524661.1284            0.31s\n",
      "       175     3464423.5969            0.30s\n",
      "       176     3365775.6408            0.29s\n",
      "       177     3336748.6113            0.27s\n",
      "       178     3243044.3019            0.26s\n",
      "       179     3237801.7109            0.25s\n",
      "       180     3230006.5473            0.24s\n",
      "       181     3139469.3132            0.23s\n",
      "       182     3016732.6334            0.21s\n",
      "       183     3000297.9524            0.20s\n",
      "       184     2994279.0041            0.19s\n",
      "       185     2981926.4921            0.18s\n",
      "       186     2967107.2668            0.17s\n",
      "       187     2959204.8843            0.15s\n",
      "       188     2949331.6526            0.14s\n",
      "       189     2944679.2604            0.13s\n",
      "       190     2923938.3203            0.12s\n",
      "       191     2896962.5152            0.11s\n",
      "       192     2775434.1254            0.09s\n",
      "       193     2706888.1769            0.08s\n",
      "       194     2693017.8505            0.07s\n",
      "       195     2679412.1557            0.06s\n",
      "       196     2656712.3807            0.05s\n",
      "       197     2640004.3045            0.04s\n",
      "       198     2622448.7484            0.02s\n",
      "       199     2576492.6470            0.01s\n",
      "       200     2555099.6868            0.00s\n",
      "score on training 0.9996768492403808\n",
      "r2 score 0.6643145926661886 \n",
      "\n",
      "RandomForestRegressor(max_depth=20, random_state=100, verbose=2)\n",
      "building tree 1 of 100\n",
      "building tree 2 of 100\n",
      "building tree 3 of 100\n",
      "building tree 4 of 100\n",
      "building tree 5 of 100\n",
      "building tree 6 of 100\n",
      "building tree 7 of 100\n",
      "building tree 8 of 100\n",
      "building tree 9 of 100\n",
      "building tree 10 of 100\n",
      "building tree 11 of 100\n",
      "building tree 12 of 100\n",
      "building tree 13 of 100\n",
      "building tree 14 of 100\n",
      "building tree 15 of 100\n",
      "building tree 16 of 100\n",
      "building tree 17 of 100\n",
      "building tree 18 of 100\n",
      "building tree 19 of 100\n",
      "building tree 20 of 100\n",
      "building tree 21 of 100\n",
      "building tree 22 of 100\n",
      "building tree 23 of 100\n",
      "building tree 24 of 100\n",
      "building tree 25 of 100\n",
      "building tree 26 of 100\n",
      "building tree 27 of 100\n",
      "building tree 28 of 100\n",
      "building tree 29 of 100\n",
      "building tree 30 of 100\n",
      "building tree 31 of 100\n",
      "building tree 32 of 100\n",
      "building tree 33 of 100\n",
      "building tree 34 of 100\n",
      "building tree 35 of 100\n",
      "building tree 36 of 100\n",
      "building tree 37 of 100\n",
      "building tree 38 of 100\n",
      "building tree 39 of 100\n",
      "building tree 40 of 100\n",
      "building tree 41 of 100\n",
      "building tree 42 of 100\n",
      "building tree 43 of 100\n",
      "building tree 44 of 100\n",
      "building tree 45 of 100\n",
      "building tree 46 of 100\n",
      "building tree 47 of 100\n",
      "building tree 48 of 100\n",
      "building tree 49 of 100\n",
      "building tree 50 of 100\n",
      "building tree 51 of 100\n",
      "building tree 52 of 100\n",
      "building tree 53 of 100\n",
      "building tree 54 of 100\n",
      "building tree 55 of 100\n",
      "building tree 56 of 100\n",
      "building tree 57 of 100\n",
      "building tree 58 of 100\n",
      "building tree 59 of 100\n",
      "building tree 60 of 100\n",
      "building tree 61 of 100\n",
      "building tree 62 of 100\n",
      "building tree 63 of 100\n",
      "building tree 64 of 100\n",
      "building tree 65 of 100\n",
      "building tree 66 of 100\n",
      "building tree 67 of 100\n",
      "building tree 68 of 100\n",
      "building tree 69 of 100\n",
      "building tree 70 of 100\n",
      "building tree 71 of 100\n",
      "building tree 72 of 100\n",
      "building tree 73 of 100\n",
      "building tree 74 of 100\n",
      "building tree 75 of 100\n",
      "building tree 76 of 100\n",
      "building tree 77 of 100\n",
      "building tree 78 of 100\n",
      "building tree 79 of 100\n",
      "building tree 80 of 100\n",
      "building tree 81 of 100\n",
      "building tree 82 of 100\n",
      "building tree 83 of 100\n",
      "building tree 84 of 100\n",
      "building tree 85 of 100\n",
      "building tree 86 of 100\n",
      "building tree 87 of 100\n",
      "building tree 88 of 100\n",
      "building tree 89 of 100\n",
      "building tree 90 of 100\n",
      "building tree 91 of 100\n",
      "building tree 92 of 100\n",
      "building tree 93 of 100\n",
      "building tree 94 of 100\n",
      "building tree 95 of 100\n",
      "building tree 96 of 100\n",
      "building tree 97 of 100\n",
      "building tree 98 of 100\n",
      "building tree 99 of 100\n",
      "building tree 100 of 100\n",
      "score on training 0.9494060865221001\n",
      "r2 score 0.7412407966418946 \n",
      "\n"
     ]
    },
    {
     "name": "stderr",
     "output_type": "stream",
     "text": [
      "[Parallel(n_jobs=1)]: Using backend SequentialBackend with 1 concurrent workers.\n",
      "[Parallel(n_jobs=1)]: Done   1 out of   1 | elapsed:    0.0s remaining:    0.0s\n",
      "[Parallel(n_jobs=1)]: Done 100 out of 100 | elapsed:    1.7s finished\n",
      "[Parallel(n_jobs=1)]: Using backend SequentialBackend with 1 concurrent workers.\n",
      "[Parallel(n_jobs=1)]: Done   1 out of   1 | elapsed:    0.0s remaining:    0.0s\n",
      "[Parallel(n_jobs=1)]: Done 100 out of 100 | elapsed:    0.0s finished\n",
      "[Parallel(n_jobs=1)]: Using backend SequentialBackend with 1 concurrent workers.\n",
      "[Parallel(n_jobs=1)]: Done   1 out of   1 | elapsed:    0.0s remaining:    0.0s\n",
      "[Parallel(n_jobs=1)]: Done 100 out of 100 | elapsed:    0.0s finished\n",
      "[Parallel(n_jobs=1)]: Using backend SequentialBackend with 1 concurrent workers.\n",
      "[Parallel(n_jobs=1)]: Done   1 out of   1 | elapsed:    0.0s remaining:    0.0s\n",
      "[Parallel(n_jobs=1)]: Done 100 out of 100 | elapsed:    0.0s finished\n"
     ]
    },
    {
     "data": {
      "text/plain": "<Figure size 2160x864 with 1 Axes>",
      "image/png": "[encoded data removed]"
     },
     "metadata": {
      "needs_background": "light"
     },
     "output_type": "display_data"
    }
   ],
   "source": [
    "#run through models\n",
    "for model in models:\n",
    "    print(model)\n",
    "    m = str(model)\n",
    "    temp['Model'] = m[:m.index('(')]\n",
    "    model.fit(X_train, y_train)\n",
    "    temp['R2_Price'] = r2_score(y_test, model.predict(X_test))\n",
    "    print('score on training',model.score(X_train, y_train))\n",
    "    print('r2 score',r2_score(y_test, model.predict(X_test)),'\\n')\n",
    "    learning_mods = learning_mods.append([temp])\n",
    "learning_mods.set_index('Model', inplace=True)\n",
    "\n",
    "fig, axes = plt.subplots(ncols=1, figsize=(30, 12))\n",
    "learning_mods.R2_Price.plot(ax=axes, kind='bar', title='R2_Price')\n",
    "plt.show()"
   ],
   "metadata": {
    "collapsed": false,
    "pycharm": {
     "name": "#%%\n"
    }
   }
  },
  {
   "cell_type": "code",
   "execution_count": 447,
   "outputs": [],
   "source": [
    "regressionTree_imp = model.feature_importances_\n",
    "# plt.figure(figsize=(16,6))\n",
    "# plt.yscale('log',nonposy='clip')\n",
    "# plt.bar(range(len(regressionTree_imp)),regressionTree_imp,align='center')\n",
    "# plt.xticks(range(len(regressionTree_imp)),features,rotation='vertical')\n",
    "# plt.title('Feature Importance')\n",
    "# plt.ylabel('Importance')\n",
    "# plt.show()"
   ],
   "metadata": {
    "collapsed": false,
    "pycharm": {
     "name": "#%%\n"
    }
   }
  },
  {
   "cell_type": "code",
   "execution_count": 448,
   "outputs": [],
   "source": [
    "data_tuples = list(zip(features,regressionTree_imp.tolist()))\n",
    "features_importance = pd.DataFrame(data_tuples, columns=['Feature','Value'])"
   ],
   "metadata": {
    "collapsed": false,
    "pycharm": {
     "name": "#%%\n"
    }
   }
  },
  {
   "cell_type": "code",
   "execution_count": 449,
   "outputs": [
    {
     "name": "stdout",
     "output_type": "stream",
     "text": [
      "85\n",
      "58\n"
     ]
    }
   ],
   "source": [
    "print(len(features_importance))\n",
    "unimportant_features = features_importance[features_importance['Value'] < .001]\n",
    "features_importance = features_importance[features_importance['Value'] > .001]\n",
    "print(len(features_importance))"
   ],
   "metadata": {
    "collapsed": false,
    "pycharm": {
     "name": "#%%\n"
    }
   }
  },
  {
   "cell_type": "code",
   "execution_count": 450,
   "outputs": [
    {
     "data": {
      "text/plain": "                                  Feature  \\\n1            property.netHabitableSurface   \n3                             Living area   \n5            m²square meterslivable space   \n42      property.location.postalCode_2000   \n0                   property.bedroomCount   \n2                               Bathrooms   \n6                                 Floor :   \n43      property.location.postalCode_2018   \n4                                 Toilets   \n34                Building condition_Good   \n36       Building condition_To be done up   \n11                   property.subtype_KOT   \n26            Kitchen type_Hyper equipped   \n33              Building condition_As new   \n12                  property.subtype_LOFT   \n27                 Kitchen type_Installed   \n39              Type of building_All kind   \n82      property.location.postalCode_2970   \n17         Flood zone type_Non flood zone   \n50      property.location.postalCode_2100   \n24                       Heating type_Gas   \n40                       As built plan_No   \n52      property.location.postalCode_2140   \n7              property.subtype_APARTMENT   \n48      property.location.postalCode_2060   \n64      property.location.postalCode_2550   \n75      property.location.postalCode_2850   \n55      property.location.postalCode_2170   \n69      property.location.postalCode_2630   \n37         Building condition_To renovate   \n30        Kitchen type_USA hyper equipped   \n78      property.location.postalCode_2930   \n61      property.location.postalCode_2530   \n35      Building condition_Just renovated   \n56      property.location.postalCode_2180   \n13             property.subtype_PENTHOUSE   \n66      property.location.postalCode_2610   \n65      property.location.postalCode_2600   \n72      property.location.postalCode_2660   \n29             Kitchen type_Semi equipped   \n84      property.location.postalCode_2990   \n41             As built plan_Yes, conform   \n23                  Heating type_Fuel oil   \n62      property.location.postalCode_2540   \n14          property.subtype_SERVICE_FLAT   \n71      property.location.postalCode_2650   \n74      property.location.postalCode_2845   \n10          property.subtype_GROUND_FLOOR   \n80      property.location.postalCode_2950   \n44      property.location.postalCode_2020   \n22                  Heating type_Electric   \n67      property.location.postalCode_2620   \n20  Flood zone type_Recognized flood zone   \n28             Kitchen type_Not installed   \n8                 property.subtype_DUPLEX   \n59      property.location.postalCode_2390   \n47      property.location.postalCode_2050   \n60      property.location.postalCode_2520   \n\n                                                Value  \n1  0.166010015020733425750165679346537217497825622...  \n3  0.162951574624261102952615942740521859377622604...  \n5  0.130193039527704779168004733946872875094413757...  \n42 0.102471781749267770722511272651900071650743484...  \n0  0.054808452888914983847090667268275865353643894...  \n2  0.044236856247085377946692830164465704001486301...  \n6  0.037919315377762705110420426990458508953452110...  \n43 0.032165423857018073106051048171138972975313663...  \n4  0.028038850334653257073691534628778754267841577...  \n34 0.018322770979149208270264637121726991608738899...  \n36 0.014125449512011809677369811311109515372663736...  \n11 0.010344570588695469956497241525994468247517943...  \n26 0.009725253750248226067287582452536298660561442...  \n33 0.009636106393950922416324900154904753435403108...  \n12 0.009142444356110189518371811345787136815488338...  \n27 0.008679866856852626669227568356745905475690960...  \n39 0.008372133951319651878897332153428578749299049...  \n82 0.008164306180850976202290070204981020651757717...  \n17 0.007528475470962976701105873189590056426823139...  \n50 0.007392526997148730731612698008348161238245666...  \n24 0.007283100064621418276433750804699229774996638...  \n40 0.007025180934906654489635613458631269168108701...  \n52 0.006005773033604750767155966428845204063691198...  \n7  0.005429707826198476583456908883817959576845169...  \n48 0.004901586667585919147860362699020697618834674...  \n64 0.004894650367931757499462275262658295105211436...  \n75 0.004764531154482795280435958318321354454383254...  \n55 0.004446337714999143084226851385665213456377387...  \n69 0.004311565602791033076368609755490979296155273...  \n37 0.004226627601094374089840677299889648566022515...  \n30 0.004181860488987054758069916715612635016441345...  \n78 0.004013173302347916755750123485313451965339481...  \n61 0.003910376263645510067079591465244448045268654...  \n35 0.003763267871201512234508035348312660062219947...  \n56 0.003626512783074573205432944433823649887926876...  \n13 0.003259818407634772988862303932933173200581222...  \n66 0.003130861263409729332296560500026316731236875...  \n65 0.003122746351078281926150204128589393803849816...  \n72 0.003044101150270624080856896043201231805142015...  \n29 0.002891470230634883738229934380115082603879272...  \n84 0.002878310020120231679102706934259003901388496...  \n41 0.002785630683101219130098913367987734091002494...  \n23 0.002781829951946687261993274020710487093310803...  \n62 0.002645277101688344074947867312630478409118950...  \n14 0.002260639198845682158733882971546336193569004...  \n71 0.002180589819690234229532244114579953020438551...  \n74 0.002145634273495472359172264731341783772222697...  \n10 0.002086325109784285380259971631744519982021301...  \n80 0.002083416427126292495147774630481762869749218...  \n44 0.001674934862616698008630500282833963865414261...  \n22 0.001570038091138728454307371684706140513299033...  \n67 0.001542634369035700194622284797674183209892362...  \n20 0.001418699134668927530275595039199743041535839...  \n28 0.001378111857375785825191583100490788638126105...  \n8  0.001332820200731872281596501750300376443192362...  \n59 0.001233964250763322587772785610127357358578592...  \n47 0.001059728223260833664121083330655892495997250...  \n60 0.001054362384599408838242728947420800977852195...  ",
      "text/html": "<div>\n<style scoped>\n    .dataframe tbody tr th:only-of-type {\n        vertical-align: middle;\n    }\n\n    .dataframe tbody tr th {\n        vertical-align: top;\n    }\n\n    .dataframe thead th {\n        text-align: right;\n    }\n</style>\n<table border=\"1\" class=\"dataframe\">\n  <thead>\n    <tr style=\"text-align: right;\">\n      <th></th>\n      <th>Feature</th>\n      <th>Value</th>\n    </tr>\n  </thead>\n  <tbody>\n    <tr>\n      <th>1</th>\n      <td>property.netHabitableSurface</td>\n      <td>0.166010015020733425750165679346537217497825622...</td>\n    </tr>\n    <tr>\n      <th>3</th>\n      <td>Living area</td>\n      <td>0.162951574624261102952615942740521859377622604...</td>\n    </tr>\n    <tr>\n      <th>5</th>\n      <td>m²square meterslivable space</td>\n      <td>0.130193039527704779168004733946872875094413757...</td>\n    </tr>\n    <tr>\n      <th>42</th>\n      <td>property.location.postalCode_2000</td>\n      <td>0.102471781749267770722511272651900071650743484...</td>\n    </tr>\n    <tr>\n      <th>0</th>\n      <td>property.bedroomCount</td>\n      <td>0.054808452888914983847090667268275865353643894...</td>\n    </tr>\n    <tr>\n      <th>2</th>\n      <td>Bathrooms</td>\n      <td>0.044236856247085377946692830164465704001486301...</td>\n    </tr>\n    <tr>\n      <th>6</th>\n      <td>Floor :</td>\n      <td>0.037919315377762705110420426990458508953452110...</td>\n    </tr>\n    <tr>\n      <th>43</th>\n      <td>property.location.postalCode_2018</td>\n      <td>0.032165423857018073106051048171138972975313663...</td>\n    </tr>\n    <tr>\n      <th>4</th>\n      <td>Toilets</td>\n      <td>0.028038850334653257073691534628778754267841577...</td>\n    </tr>\n    <tr>\n      <th>34</th>\n      <td>Building condition_Good</td>\n      <td>0.018322770979149208270264637121726991608738899...</td>\n    </tr>\n    <tr>\n      <th>36</th>\n      <td>Building condition_To be done up</td>\n      <td>0.014125449512011809677369811311109515372663736...</td>\n    </tr>\n    <tr>\n      <th>11</th>\n      <td>property.subtype_KOT</td>\n      <td>0.010344570588695469956497241525994468247517943...</td>\n    </tr>\n    <tr>\n      <th>26</th>\n      <td>Kitchen type_Hyper equipped</td>\n      <td>0.009725253750248226067287582452536298660561442...</td>\n    </tr>\n    <tr>\n      <th>33</th>\n      <td>Building condition_As new</td>\n      <td>0.009636106393950922416324900154904753435403108...</td>\n    </tr>\n    <tr>\n      <th>12</th>\n      <td>property.subtype_LOFT</td>\n      <td>0.009142444356110189518371811345787136815488338...</td>\n    </tr>\n    <tr>\n      <th>27</th>\n      <td>Kitchen type_Installed</td>\n      <td>0.008679866856852626669227568356745905475690960...</td>\n    </tr>\n    <tr>\n      <th>39</th>\n      <td>Type of building_All kind</td>\n      <td>0.008372133951319651878897332153428578749299049...</td>\n    </tr>\n    <tr>\n      <th>82</th>\n      <td>property.location.postalCode_2970</td>\n      <td>0.008164306180850976202290070204981020651757717...</td>\n    </tr>\n    <tr>\n      <th>17</th>\n      <td>Flood zone type_Non flood zone</td>\n      <td>0.007528475470962976701105873189590056426823139...</td>\n    </tr>\n    <tr>\n      <th>50</th>\n      <td>property.location.postalCode_2100</td>\n      <td>0.007392526997148730731612698008348161238245666...</td>\n    </tr>\n    <tr>\n      <th>24</th>\n      <td>Heating type_Gas</td>\n      <td>0.007283100064621418276433750804699229774996638...</td>\n    </tr>\n    <tr>\n      <th>40</th>\n      <td>As built plan_No</td>\n      <td>0.007025180934906654489635613458631269168108701...</td>\n    </tr>\n    <tr>\n      <th>52</th>\n      <td>property.location.postalCode_2140</td>\n      <td>0.006005773033604750767155966428845204063691198...</td>\n    </tr>\n    <tr>\n      <th>7</th>\n      <td>property.subtype_APARTMENT</td>\n      <td>0.005429707826198476583456908883817959576845169...</td>\n    </tr>\n    <tr>\n      <th>48</th>\n      <td>property.location.postalCode_2060</td>\n      <td>0.004901586667585919147860362699020697618834674...</td>\n    </tr>\n    <tr>\n      <th>64</th>\n      <td>property.location.postalCode_2550</td>\n      <td>0.004894650367931757499462275262658295105211436...</td>\n    </tr>\n    <tr>\n      <th>75</th>\n      <td>property.location.postalCode_2850</td>\n      <td>0.004764531154482795280435958318321354454383254...</td>\n    </tr>\n    <tr>\n      <th>55</th>\n      <td>property.location.postalCode_2170</td>\n      <td>0.004446337714999143084226851385665213456377387...</td>\n    </tr>\n    <tr>\n      <th>69</th>\n      <td>property.location.postalCode_2630</td>\n      <td>0.004311565602791033076368609755490979296155273...</td>\n    </tr>\n    <tr>\n      <th>37</th>\n      <td>Building condition_To renovate</td>\n      <td>0.004226627601094374089840677299889648566022515...</td>\n    </tr>\n    <tr>\n      <th>30</th>\n      <td>Kitchen type_USA hyper equipped</td>\n      <td>0.004181860488987054758069916715612635016441345...</td>\n    </tr>\n    <tr>\n      <th>78</th>\n      <td>property.location.postalCode_2930</td>\n      <td>0.004013173302347916755750123485313451965339481...</td>\n    </tr>\n    <tr>\n      <th>61</th>\n      <td>property.location.postalCode_2530</td>\n      <td>0.003910376263645510067079591465244448045268654...</td>\n    </tr>\n    <tr>\n      <th>35</th>\n      <td>Building condition_Just renovated</td>\n      <td>0.003763267871201512234508035348312660062219947...</td>\n    </tr>\n    <tr>\n      <th>56</th>\n      <td>property.location.postalCode_2180</td>\n      <td>0.003626512783074573205432944433823649887926876...</td>\n    </tr>\n    <tr>\n      <th>13</th>\n      <td>property.subtype_PENTHOUSE</td>\n      <td>0.003259818407634772988862303932933173200581222...</td>\n    </tr>\n    <tr>\n      <th>66</th>\n      <td>property.location.postalCode_2610</td>\n      <td>0.003130861263409729332296560500026316731236875...</td>\n    </tr>\n    <tr>\n      <th>65</th>\n      <td>property.location.postalCode_2600</td>\n      <td>0.003122746351078281926150204128589393803849816...</td>\n    </tr>\n    <tr>\n      <th>72</th>\n      <td>property.location.postalCode_2660</td>\n      <td>0.003044101150270624080856896043201231805142015...</td>\n    </tr>\n    <tr>\n      <th>29</th>\n      <td>Kitchen type_Semi equipped</td>\n      <td>0.002891470230634883738229934380115082603879272...</td>\n    </tr>\n    <tr>\n      <th>84</th>\n      <td>property.location.postalCode_2990</td>\n      <td>0.002878310020120231679102706934259003901388496...</td>\n    </tr>\n    <tr>\n      <th>41</th>\n      <td>As built plan_Yes, conform</td>\n      <td>0.002785630683101219130098913367987734091002494...</td>\n    </tr>\n    <tr>\n      <th>23</th>\n      <td>Heating type_Fuel oil</td>\n      <td>0.002781829951946687261993274020710487093310803...</td>\n    </tr>\n    <tr>\n      <th>62</th>\n      <td>property.location.postalCode_2540</td>\n      <td>0.002645277101688344074947867312630478409118950...</td>\n    </tr>\n    <tr>\n      <th>14</th>\n      <td>property.subtype_SERVICE_FLAT</td>\n      <td>0.002260639198845682158733882971546336193569004...</td>\n    </tr>\n    <tr>\n      <th>71</th>\n      <td>property.location.postalCode_2650</td>\n      <td>0.002180589819690234229532244114579953020438551...</td>\n    </tr>\n    <tr>\n      <th>74</th>\n      <td>property.location.postalCode_2845</td>\n      <td>0.002145634273495472359172264731341783772222697...</td>\n    </tr>\n    <tr>\n      <th>10</th>\n      <td>property.subtype_GROUND_FLOOR</td>\n      <td>0.002086325109784285380259971631744519982021301...</td>\n    </tr>\n    <tr>\n      <th>80</th>\n      <td>property.location.postalCode_2950</td>\n      <td>0.002083416427126292495147774630481762869749218...</td>\n    </tr>\n    <tr>\n      <th>44</th>\n      <td>property.location.postalCode_2020</td>\n      <td>0.001674934862616698008630500282833963865414261...</td>\n    </tr>\n    <tr>\n      <th>22</th>\n      <td>Heating type_Electric</td>\n      <td>0.001570038091138728454307371684706140513299033...</td>\n    </tr>\n    <tr>\n      <th>67</th>\n      <td>property.location.postalCode_2620</td>\n      <td>0.001542634369035700194622284797674183209892362...</td>\n    </tr>\n    <tr>\n      <th>20</th>\n      <td>Flood zone type_Recognized flood zone</td>\n      <td>0.001418699134668927530275595039199743041535839...</td>\n    </tr>\n    <tr>\n      <th>28</th>\n      <td>Kitchen type_Not installed</td>\n      <td>0.001378111857375785825191583100490788638126105...</td>\n    </tr>\n    <tr>\n      <th>8</th>\n      <td>property.subtype_DUPLEX</td>\n      <td>0.001332820200731872281596501750300376443192362...</td>\n    </tr>\n    <tr>\n      <th>59</th>\n      <td>property.location.postalCode_2390</td>\n      <td>0.001233964250763322587772785610127357358578592...</td>\n    </tr>\n    <tr>\n      <th>47</th>\n      <td>property.location.postalCode_2050</td>\n      <td>0.001059728223260833664121083330655892495997250...</td>\n    </tr>\n    <tr>\n      <th>60</th>\n      <td>property.location.postalCode_2520</td>\n      <td>0.001054362384599408838242728947420800977852195...</td>\n    </tr>\n  </tbody>\n</table>\n</div>"
     },
     "execution_count": 450,
     "metadata": {},
     "output_type": "execute_result"
    }
   ],
   "source": [
    "features_importance = features_importance.sort_values(by=['Value'], ascending=False)\n",
    "pd.set_option('display.float_format', lambda x: '%.1000f' % x)\n",
    "features_importance"
   ],
   "metadata": {
    "collapsed": false,
    "pycharm": {
     "name": "#%%\n"
    }
   }
  },
  {
   "cell_type": "code",
   "execution_count": 451,
   "outputs": [
    {
     "name": "stderr",
     "output_type": "stream",
     "text": [
      "[Parallel(n_jobs=1)]: Using backend SequentialBackend with 1 concurrent workers.\n",
      "[Parallel(n_jobs=1)]: Done   1 out of   1 | elapsed:    0.0s remaining:    0.0s\n",
      "[Parallel(n_jobs=1)]: Done 100 out of 100 | elapsed:    0.0s finished\n"
     ]
    }
   ],
   "source": [
    "data_tuples = list(zip(y_test,model.predict(X_test)))\n",
    "features_importance = pd.DataFrame(data_tuples, columns=['Echte Waarde','Voorspelling'])\n",
    "features_importance['Voorspelling'] = features_importance['Voorspelling'].astype(float)"
   ],
   "metadata": {
    "collapsed": false,
    "pycharm": {
     "name": "#%%\n"
    }
   }
  },
  {
   "cell_type": "code",
   "execution_count": 452,
   "outputs": [
    {
     "data": {
      "text/plain": "     Echte Waarde  Voorspelling\n0          360000        339543\n1          370000        323228\n2          215000        208012\n3          275000        328216\n4          139000        181697\n..            ...           ...\n368        365000        356613\n369        179000        170825\n370        225000        242138\n371        209000        191987\n372        224900        238409\n\n[373 rows x 2 columns]",
      "text/html": "<div>\n<style scoped>\n    .dataframe tbody tr th:only-of-type {\n        vertical-align: middle;\n    }\n\n    .dataframe tbody tr th {\n        vertical-align: top;\n    }\n\n    .dataframe thead th {\n        text-align: right;\n    }\n</style>\n<table border=\"1\" class=\"dataframe\">\n  <thead>\n    <tr style=\"text-align: right;\">\n      <th></th>\n      <th>Echte Waarde</th>\n      <th>Voorspelling</th>\n    </tr>\n  </thead>\n  <tbody>\n    <tr>\n      <th>0</th>\n      <td>360000</td>\n      <td>339543</td>\n    </tr>\n    <tr>\n      <th>1</th>\n      <td>370000</td>\n      <td>323228</td>\n    </tr>\n    <tr>\n      <th>2</th>\n      <td>215000</td>\n      <td>208012</td>\n    </tr>\n    <tr>\n      <th>3</th>\n      <td>275000</td>\n      <td>328216</td>\n    </tr>\n    <tr>\n      <th>4</th>\n      <td>139000</td>\n      <td>181697</td>\n    </tr>\n    <tr>\n      <th>...</th>\n      <td>...</td>\n      <td>...</td>\n    </tr>\n    <tr>\n      <th>368</th>\n      <td>365000</td>\n      <td>356613</td>\n    </tr>\n    <tr>\n      <th>369</th>\n      <td>179000</td>\n      <td>170825</td>\n    </tr>\n    <tr>\n      <th>370</th>\n      <td>225000</td>\n      <td>242138</td>\n    </tr>\n    <tr>\n      <th>371</th>\n      <td>209000</td>\n      <td>191987</td>\n    </tr>\n    <tr>\n      <th>372</th>\n      <td>224900</td>\n      <td>238409</td>\n    </tr>\n  </tbody>\n</table>\n<p>373 rows × 2 columns</p>\n</div>"
     },
     "execution_count": 452,
     "metadata": {},
     "output_type": "execute_result"
    }
   ],
   "source": [
    "features_importance.astype(int)"
   ],
   "metadata": {
    "collapsed": false,
    "pycharm": {
     "name": "#%%\n"
    }
   }
  },
  {
   "cell_type": "code",
   "execution_count": 452,
   "outputs": [],
   "source": [],
   "metadata": {
    "collapsed": false,
    "pycharm": {
     "name": "#%%\n"
    }
   }
  }
 ]
}