{
  "nbformat": 4,
  "nbformat_minor": 0,
  "metadata": {
    "kernelspec": {
      "display_name": "Python 3",
      "language": "python",
      "name": "python3"
    },
    "language_info": {
      "codemirror_mode": {
        "name": "ipython",
        "version": 2
      },
      "file_extension": ".py",
      "mimetype": "text/x-python",
      "name": "python",
      "nbconvert_exporter": "python",
      "pygments_lexer": "ipython2",
      "version": "2.7.6"
    },
    "colab": {
      "name": "appartementen.ipynb",
      "provenance": [],
      "include_colab_link": true
    }
  },
  "cells": [
    {
      "cell_type": "markdown",
      "metadata": {
        "id": "view-in-github",
        "colab_type": "text"
      },
      "source": [
        "<a href=\"https://colab.research.google.com/github/JonasHeymans/appartementen/blob/master/preprocessing.ipynb\" target=\"_parent\"><img src=\"https://colab.research.google.com/assets/colab-badge.svg\" alt=\"Open In Colab\"/></a>"
      ]
    },
    {
      "cell_type": "code",
      "metadata": {
        "id": "7Rk4DQhDHO3Y",
        "colab_type": "code",
        "colab": {}
      },
      "source": [
        "import pandas as pd\n",
        "import matplotlib.pyplot as plt\n",
        "import numpy as np"
      ],
      "execution_count": 1,
      "outputs": []
    },
    {
      "cell_type": "code",
      "metadata": {
        "pycharm": {
          "name": "#%%\n"
        },
        "id": "b1_jKVHdHO3e",
        "colab_type": "code",
        "colab": {
          "base_uri": "https://localhost:8080/",
          "height": 71
        },
        "outputId": "44701016-355b-487b-fd78-696892427ca8"
      },
      "source": [
        "df = pd.read_csv('all.csv', index_col='Unnamed: 0')"
      ],
      "execution_count": 2,
      "outputs": [
        {
          "output_type": "stream",
          "text": [
            "/usr/local/lib/python3.6/dist-packages/IPython/core/interactiveshell.py:2718: DtypeWarning: Columns (29,37,58,92,116,120,136,139,140,141,144,146,150,152,154,162,169,170,172,173,174,175,177,180,181,182,183,184,186,187,188,189,190,191,193,194,195,196,197,198,200,201,203,205,206,207,209,210,211,212,213) have mixed types.Specify dtype option on import or set low_memory=False.\n",
            "  interactivity=interactivity, compiler=compiler, result=result)\n"
          ],
          "name": "stderr"
        }
      ]
    },
    {
      "cell_type": "code",
      "metadata": {
        "pycharm": {
          "name": "#%%\n"
        },
        "id": "cTHGXeyECq5w",
        "colab_type": "code",
        "colab": {}
      },
      "source": [
        "# Dropping street and housenumber for now, but might be intereting later use it, eg via a graph library\n",
        "\n",
        "df = df.drop(['property.location.box', 'property.location.street',\n",
        "              'property.location.latitude', 'property.location.longitude',\n",
        "              'property.location.locality', 'property.location.number',\n",
        "              'Address',], axis=1)\n",
        "\n",
        "df = df.drop(columns=['flags.main','customerLogoUrl','customerName','media.pictures',\n",
        "                      'flags.secondary','Price','property.title','publication.size',\n",
        "                      'publication.visualisationOption','External reference',\n",
        "                      'Reference number of the EPC report','Website', 'Available as of'], axis =1)"
      ],
      "execution_count": 3,
      "outputs": []
    },
    {
      "cell_type": "code",
      "metadata": {
        "pycharm": {
          "name": "#%%\n"
        },
        "id": "AKf1FRFHCq51",
        "colab_type": "code",
        "colab": {}
      },
      "source": [
        "# Removing outliers\n",
        "df = df[df['Floor :'] < 30]\n",
        "\n",
        "# Geen openbare verkopen waar we moeten bieden of verkopen op lijfrente.\n",
        "df = df[df['price.label'] == 'Price']\n",
        "\n",
        "# Geen slaapkamers vermeld is nogal raar.\n",
        "\n",
        "df = df[df['property.bedroomCount'] > 0]\n",
        "\n",
        "binary_cols = ['Double glazing','Armored door','Elevator','Basement',\n",
        "             'Intercom','Planning permission obtained', 'Type of building']\n",
        "df[binary_cols] =df[binary_cols].replace('Yes', 1).replace('No',0)\n",
        "\n",
        "\n",
        "# Striping things like 'm²square meters' from numerical columns and\n",
        "# converting them to float\n",
        "\n",
        "numerical_cols = ['CO² emission', 'Living area','Living room surface',\n",
        "            'Bedroom 1 surface','Bedroom 2 surface','Cadastral income',\n",
        "            'E-level (primary energy consumption)','Terrace surface']\n",
        "\n",
        "strippers = ['kg CO2/m²','kWh/m²kilowatt hour per square meters',\n",
        "            'm²square meters','€']\n",
        "\n",
        "for x in numerical_cols:\n",
        "    for y in strippers:\n",
        "        df[x] = df[x].str.strip(y).replace('Not specified',np.nan)\n",
        "    df[x] = df[x].str.replace('.','').str.replace(',','.').replace('', np.nan)\n",
        "    df[x] = df[x].astype(float)\n",
        "\n",
        "# Dropping columns with duplicate information\n",
        "to_drop = ['Floor','price.shortDisplayPrice','price.accessibilityPrice',\n",
        "           'price.mainDisplayPrice', 'property.location.floor','Bedrooms','bedrooms','bedroom',\n",
        "           'transaction.sale.price','bathroom']\n",
        "\n",
        "df = df.drop(to_drop, axis=1)"
      ],
      "execution_count": 4,
      "outputs": []
    },
    {
      "cell_type": "code",
      "metadata": {
        "pycharm": {
          "name": "#%%\n"
        },
        "id": "boZ1d2WFCq54",
        "colab_type": "code",
        "colab": {}
      },
      "source": [
        "for column in df.columns:\n",
        "    if df[column].isnull().sum() > 0.8*len(df):\n",
        "        df = df.drop(column, axis=1)\n",
        "    elif len(df[column].unique()) == 1:\n",
        "        df = df.drop(column, axis=1)"
      ],
      "execution_count": 5,
      "outputs": []
    },
    {
      "cell_type": "code",
      "metadata": {
        "pycharm": {
          "name": "#%%\n"
        },
        "id": "WJmWyDqfCq58",
        "colab_type": "code",
        "colab": {}
      },
      "source": [
        "nominal_cols = ['property.subtype', 'Flood zone type', 'Heating type','Kitchen type',\n",
        "            'Building condition', 'Type of building','As built plan','property.location.postalCode'\n",
        "            ]\n",
        "\n",
        "df = pd.get_dummies(data= df, columns=nominal_cols)"
      ],
      "execution_count": 6,
      "outputs": []
    },
    {
      "cell_type": "code",
      "metadata": {
        "pycharm": {
          "name": "#%%\n"
        },
        "id": "wsRWCPRJCq6A",
        "colab_type": "code",
        "colab": {}
      },
      "source": [
        "# Ordinal encoding\n",
        "ordinal_cols= ['Energy class']\n",
        "scale_mapper = {'A':1,\n",
        "                'B':2,\n",
        "                'C':3,\n",
        "                'D':4,\n",
        "                'E':5,\n",
        "                'F':6,\n",
        "                'Not specified': np.nan\n",
        "                }\n",
        "\n",
        "df[ordinal_cols] = df[ordinal_cols].replace(scale_mapper)\n"
      ],
      "execution_count": 7,
      "outputs": []
    },
    {
      "cell_type": "code",
      "metadata": {
        "pycharm": {
          "name": "#%%\n"
        },
        "id": "xqzJ72srCq6E",
        "colab_type": "code",
        "colab": {}
      },
      "source": [
        "# def remove_outlier(df, col):\n",
        "#   q1 = df[col].quantile(0.25)\n",
        "#   q3 = df[col].quantile(0.75)\n",
        "#   iqr = q3 - q1\n",
        "#   lower_bound  = q1 - (1.5  * iqr)\n",
        "#   upper_bound = q3 + (1.5 * iqr)\n",
        "#   out_df = df.loc[(df[col] > lower_bound) & (df[col] < upper_bound)]\n",
        "#   return out_df\n",
        "# df = remove_outlier(df,\"price.mainValue\")\n",
        "#\n",
        "# threshold = len(df) * .75\n",
        "# df.dropna(thresh = threshold, axis = 1, inplace = True)\n",
        "#"
      ],
      "execution_count": 8,
      "outputs": []
    },
    {
      "cell_type": "code",
      "metadata": {
        "pycharm": {
          "name": "#%%\n"
        },
        "id": "8np_zIH7Cq6H",
        "colab_type": "code",
        "colab": {
          "base_uri": "https://localhost:8080/",
          "height": 391
        },
        "outputId": "790ec3b4-e0a1-4cb2-881d-2a9e9964df37"
      },
      "source": [
        "# Making a dict of all cols with missing values\n",
        "missing = {col: df[col].isnull().sum() for col in df.columns if df[col].isnull().sum()  != 0}\n",
        "missing"
      ],
      "execution_count": 9,
      "outputs": [
        {
          "output_type": "execute_result",
          "data": {
            "text/plain": [
              "{'Armored door': 1396,\n",
              " 'Basement': 1516,\n",
              " 'Bathrooms': 217,\n",
              " 'Bedroom 1 surface': 1173,\n",
              " 'Bedroom 2 surface': 1351,\n",
              " 'Cadastral income': 1206,\n",
              " 'Construction year': 710,\n",
              " 'Covered parking spaces': 1546,\n",
              " 'Double glazing': 633,\n",
              " 'E-level (primary energy consumption)': 607,\n",
              " 'Elevator': 911,\n",
              " 'Energy class': 699,\n",
              " 'Facades': 774,\n",
              " 'Intercom': 1342,\n",
              " 'Living area': 157,\n",
              " 'Living room surface': 1197,\n",
              " 'Number of floors': 867,\n",
              " 'Planning permission obtained': 809,\n",
              " 'Terrace surface': 996,\n",
              " 'Toilets': 542,\n",
              " 'm²square meterslivable space': 137,\n",
              " 'property.netHabitableSurface': 137}"
            ]
          },
          "metadata": {
            "tags": []
          },
          "execution_count": 9
        }
      ]
    },
    {
      "cell_type": "code",
      "metadata": {
        "pycharm": {
          "name": "#%%\n"
        },
        "id": "O3VvdCx0Cq6M",
        "colab_type": "code",
        "colab": {}
      },
      "source": [
        "from sklearn.impute import  MissingIndicator\n",
        "missing_bin = [x for x in missing.keys() if x in binary_cols]\n",
        "imp = MissingIndicator()\n",
        "df[missing_bin]= imp.fit_transform(df[missing_bin])\n",
        "\n",
        "from sklearn.impute import SimpleImputer\n",
        "missing_ord= [x for x in missing.keys() if x in ordinal_cols]\n",
        "imp = SimpleImputer(strategy='median')\n",
        "df[missing_ord]= imp.fit_transform(df[missing_ord])\n",
        "\n",
        "missing_num = [x for x in missing.keys() if df[x].isnull().sum() != 0]\n",
        "\n",
        "from sklearn.impute import KNNImputer\n",
        "imputer = KNNImputer(n_neighbors=2)\n",
        "df[missing_num] = imputer.fit_transform(df[missing_num])\n",
        "\n"
      ],
      "execution_count": 10,
      "outputs": []
    },
    {
      "cell_type": "code",
      "metadata": {
        "pycharm": {
          "name": "#%%\n"
        },
        "id": "SUoFcn8ZCq6P",
        "colab_type": "code",
        "colab": {}
      },
      "source": [
        "from sklearn.model_selection import train_test_split\n",
        "features =  list(df.drop(columns=['price.mainValue','id'],axis=1))\n",
        "X = df[features]\n",
        "y = df['price.mainValue']"
      ],
      "execution_count": 11,
      "outputs": []
    },
    {
      "cell_type": "code",
      "metadata": {
        "pycharm": {
          "name": "#%%\n"
        },
        "id": "z78EsEbQCq6S",
        "colab_type": "code",
        "colab": {}
      },
      "source": [
        "X_train, X_test, y_train, y_test = train_test_split(X, y, test_size=0.2, random_state=0)"
      ],
      "execution_count": 12,
      "outputs": []
    },
    {
      "cell_type": "code",
      "metadata": {
        "pycharm": {
          "name": "#%%\n"
        },
        "id": "P7-Eh7sgCq6V",
        "colab_type": "code",
        "colab": {
          "base_uri": "https://localhost:8080/",
          "height": 51
        },
        "outputId": "330264b6-9cd8-4a22-b290-7f2225bca23b"
      },
      "source": [
        "from sklearn.dummy import DummyRegressor\n",
        "from sklearn.metrics import mean_absolute_error\n",
        "from sklearn.metrics import r2_score\n",
        "from sklearn.model_selection import train_test_split\n",
        "dummy_median = DummyRegressor(strategy='mean')\n",
        "dummy_regressor = dummy_median.fit(X_train,y_train)\n",
        "dummy_predicts = dummy_regressor.predict(X_test)\n",
        "print(\"Model Accuracy:\", dummy_regressor.score(X_test,y_test)*100)\n",
        "print('$',mean_absolute_error(y_test,dummy_predicts))"
      ],
      "execution_count": 13,
      "outputs": [
        {
          "output_type": "stream",
          "text": [
            "Model Accuracy: -0.594864354995539\n",
            "$ 129701.84278189455\n"
          ],
          "name": "stdout"
        }
      ]
    },
    {
      "cell_type": "code",
      "metadata": {
        "pycharm": {
          "name": "#%%\n"
        },
        "id": "NSoaqu2FCq6Y",
        "colab_type": "code",
        "colab": {}
      },
      "source": [
        "from sklearn.tree import DecisionTreeRegressor\n",
        "from sklearn.ensemble import RandomForestRegressor\n",
        "from sklearn.ensemble import GradientBoostingRegressor\n",
        "models = [\n",
        "          DecisionTreeRegressor(criterion='mse',max_depth=11,random_state=100),\n",
        "          GradientBoostingRegressor(n_estimators=200,max_depth=12, verbose=2),\n",
        "            RandomForestRegressor(min_samples_leaf =1, n_estimators=100,criterion='mse',max_depth=20,random_state=100,verbose=2)]\n",
        "learning_mods = pd.DataFrame()\n",
        "temp = {}"
      ],
      "execution_count": 14,
      "outputs": []
    },
    {
      "cell_type": "code",
      "metadata": {
        "pycharm": {
          "name": "#%%\n"
        },
        "id": "jAMohMYGCq6c",
        "colab_type": "code",
        "colab": {
          "base_uri": "https://localhost:8080/",
          "height": 1000
        },
        "outputId": "acac72b3-5a9e-4514-a361-8a33a1cd9764"
      },
      "source": [
        "#run through models\n",
        "for model in models:\n",
        "    print(model)\n",
        "    m = str(model)\n",
        "    temp['Model'] = m[:m.index('(')]\n",
        "    model.fit(X_train, y_train)\n",
        "    temp['R2_Price'] = r2_score(y_test, model.predict(X_test))\n",
        "    print('score on training',model.score(X_train, y_train))\n",
        "    print('r2 score',r2_score(y_test, model.predict(X_test)),'\\n')\n",
        "    learning_mods = learning_mods.append([temp])\n",
        "learning_mods.set_index('Model', inplace=True)\n",
        "\n",
        "fig, axes = plt.subplots(ncols=1, figsize=(30, 12))\n",
        "learning_mods.R2_Price.plot(ax=axes, kind='bar', title='R2_Price')\n",
        "plt.show()"
      ],
      "execution_count": 15,
      "outputs": [
        {
          "output_type": "stream",
          "text": [
            "DecisionTreeRegressor(ccp_alpha=0.0, criterion='mse', max_depth=11,\n",
            "                      max_features=None, max_leaf_nodes=None,\n",
            "                      min_impurity_decrease=0.0, min_impurity_split=None,\n",
            "                      min_samples_leaf=1, min_samples_split=2,\n",
            "                      min_weight_fraction_leaf=0.0, presort='deprecated',\n",
            "                      random_state=100, splitter='best')\n",
            "score on training 0.9785767302263569\n",
            "r2 score 0.7315195704251398 \n",
            "\n",
            "GradientBoostingRegressor(alpha=0.9, ccp_alpha=0.0, criterion='friedman_mse',\n",
            "                          init=None, learning_rate=0.1, loss='ls', max_depth=12,\n",
            "                          max_features=None, max_leaf_nodes=None,\n",
            "                          min_impurity_decrease=0.0, min_impurity_split=None,\n",
            "                          min_samples_leaf=1, min_samples_split=2,\n",
            "                          min_weight_fraction_leaf=0.0, n_estimators=200,\n",
            "                          n_iter_no_change=None, presort='deprecated',\n",
            "                          random_state=None, subsample=1.0, tol=0.0001,\n",
            "                          validation_fraction=0.1, verbose=2, warm_start=False)\n",
            "      Iter       Train Loss   Remaining Time \n",
            "         1 55705938246.9341            4.89s\n",
            "         2 45320428137.0770            4.92s\n",
            "         3 36896771933.3001            4.89s\n",
            "         4 30070346344.0928            4.90s\n",
            "         5 24516069017.6569            4.95s\n",
            "         6 19975893343.3262            5.03s\n",
            "         7 16295505212.9300            4.99s\n",
            "         8 13287418864.9660            4.95s\n",
            "         9 10842784776.3182            4.91s\n",
            "        10  8862774529.6989            4.88s\n",
            "        11  7251421196.6489            4.84s\n",
            "        12  5943460894.6596            4.83s\n",
            "        13  4874132526.2920            4.80s\n",
            "        14  4007623603.4273            4.78s\n",
            "        15  3299237877.1127            4.76s\n",
            "        16  2721402933.5704            4.74s\n",
            "        17  2242707437.4284            4.71s\n",
            "        18  1851644240.6445            4.69s\n",
            "        19  1541202653.2119            4.67s\n",
            "        20  1280712046.5741            4.65s\n",
            "        21  1069482410.7685            4.63s\n",
            "        22   899634862.4015            4.62s\n",
            "        23   760029657.7507            4.59s\n",
            "        24   647008637.3935            4.59s\n",
            "        25   550932762.2164            4.56s\n",
            "        26   467598272.2333            4.52s\n",
            "        27   403736739.1962            4.49s\n",
            "        28   351208723.2594            4.48s\n",
            "        29   306007463.6862            4.46s\n",
            "        30   268204098.0821            4.46s\n",
            "        31   238794982.0863            4.45s\n",
            "        32   211878421.8309            4.42s\n",
            "        33   191852434.3849            4.40s\n",
            "        34   168954905.8234            4.36s\n",
            "        35   152938556.0783            4.33s\n",
            "        36   139499891.4058            4.32s\n",
            "        37   122818612.0776            4.30s\n",
            "        38   112417253.8100            4.27s\n",
            "        39   104303416.9269            4.24s\n",
            "        40    93586062.0627            4.21s\n",
            "        41    85865507.1834            4.17s\n",
            "        42    78838828.5057            4.14s\n",
            "        43    75301896.5201            4.11s\n",
            "        44    70640786.3842            4.08s\n",
            "        45    65392606.8119            4.06s\n",
            "        46    60641100.9102            4.02s\n",
            "        47    57316461.8725            4.00s\n",
            "        48    53179685.7151            3.97s\n",
            "        49    51616568.5962            3.94s\n",
            "        50    48241988.8313            3.91s\n",
            "        51    44930025.7080            3.88s\n",
            "        52    43435373.7554            3.85s\n",
            "        53    39615421.1562            3.83s\n",
            "        54    38359935.0059            3.80s\n",
            "        55    36142982.5266            3.77s\n",
            "        56    34645644.5396            3.75s\n",
            "        57    32883683.3690            3.72s\n",
            "        58    30728005.3064            3.70s\n",
            "        59    29538722.8796            3.67s\n",
            "        60    27989367.8774            3.64s\n",
            "        61    27141211.9419            3.61s\n",
            "        62    26238965.5287            3.58s\n",
            "        63    24640987.9959            3.57s\n",
            "        64    22649691.0267            3.55s\n",
            "        65    20769960.8257            3.52s\n",
            "        66    19621419.2004            3.49s\n",
            "        67    18294493.5985            3.46s\n",
            "        68    17109965.5170            3.44s\n",
            "        69    16122767.1046            3.41s\n",
            "        70    15054557.3326            3.38s\n",
            "        71    14314048.3937            3.36s\n",
            "        72    14030306.9941            3.33s\n",
            "        73    13677102.6682            3.30s\n",
            "        74    13135541.0745            3.27s\n",
            "        75    12242822.7164            3.25s\n",
            "        76    11693139.9685            3.22s\n",
            "        77    10835015.3729            3.20s\n",
            "        78    10760572.0883            3.17s\n",
            "        79    10459613.0436            3.14s\n",
            "        80    10054986.4460            3.12s\n",
            "        81     9361274.0839            3.09s\n",
            "        82     9245498.2781            3.06s\n",
            "        83     8899123.8964            3.03s\n",
            "        84     8627593.3647            3.00s\n",
            "        85     8318853.5065            2.98s\n",
            "        86     8130627.8650            2.95s\n",
            "        87     7790504.4255            2.92s\n",
            "        88     7214151.8789            2.90s\n",
            "        89     6760650.6951            2.87s\n",
            "        90     6589587.6547            2.84s\n",
            "        91     6419330.2554            2.82s\n",
            "        92     6248512.5451            2.80s\n",
            "        93     5893692.3364            2.78s\n",
            "        94     5792208.5689            2.75s\n",
            "        95     5622952.8575            2.72s\n",
            "        96     5351442.4170            2.70s\n",
            "        97     4791138.6905            2.67s\n",
            "        98     4648141.9043            2.64s\n",
            "        99     4406851.6141            2.62s\n",
            "       100     4276571.1238            2.59s\n",
            "       101     4178637.2638            2.57s\n",
            "       102     4036122.6950            2.54s\n",
            "       103     3756473.7357            2.52s\n",
            "       104     3696761.3887            2.49s\n",
            "       105     3558886.0364            2.47s\n",
            "       106     3467779.8732            2.44s\n",
            "       107     3241204.6283            2.41s\n",
            "       108     3068328.6173            2.39s\n",
            "       109     2994642.6273            2.36s\n",
            "       110     2946427.0291            2.34s\n",
            "       111     2780325.2296            2.31s\n",
            "       112     2718656.7022            2.28s\n",
            "       113     2679616.6955            2.26s\n",
            "       114     2606445.2910            2.23s\n",
            "       115     2541156.9924            2.20s\n",
            "       116     2440252.2159            2.18s\n",
            "       117     2312332.9415            2.15s\n",
            "       118     2272006.9163            2.13s\n",
            "       119     2254943.7762            2.10s\n",
            "       120     2217331.7838            2.07s\n",
            "       121     2092311.7230            2.05s\n",
            "       122     2075124.9933            2.02s\n",
            "       123     2042742.4660            2.00s\n",
            "       124     1970365.9965            1.97s\n",
            "       125     1909101.3543            1.94s\n",
            "       126     1895562.9437            1.92s\n",
            "       127     1689665.9943            1.89s\n",
            "       128     1628526.2390            1.87s\n",
            "       129     1562126.1791            1.84s\n",
            "       130     1504637.1484            1.81s\n",
            "       131     1481707.5665            1.79s\n",
            "       132     1429099.0783            1.76s\n",
            "       133     1388967.6619            1.73s\n",
            "       134     1293953.3385            1.71s\n",
            "       135     1262109.6490            1.68s\n",
            "       136     1222015.3712            1.66s\n",
            "       137     1177642.5352            1.63s\n",
            "       138     1167752.1526            1.61s\n",
            "       139     1123027.5059            1.58s\n",
            "       140     1079744.1293            1.55s\n",
            "       141     1067106.8111            1.53s\n",
            "       142     1029387.9946            1.50s\n",
            "       143     1013527.2571            1.48s\n",
            "       144      985622.1363            1.45s\n",
            "       145      929538.7070            1.42s\n",
            "       146      918460.3816            1.40s\n",
            "       147      854982.2655            1.37s\n",
            "       148      815861.5470            1.35s\n",
            "       149      802522.3579            1.32s\n",
            "       150      775201.8341            1.29s\n",
            "       151      762171.8340            1.27s\n",
            "       152      745970.8835            1.24s\n",
            "       153      731206.2177            1.22s\n",
            "       154      666648.9091            1.19s\n",
            "       155      651089.3517            1.17s\n",
            "       156      629364.2680            1.14s\n",
            "       157      606796.5349            1.11s\n",
            "       158      599782.0271            1.09s\n",
            "       159      548279.9825            1.06s\n",
            "       160      505615.8490            1.04s\n",
            "       161      484720.4917            1.01s\n",
            "       162      476849.4104            0.98s\n",
            "       163      454958.0950            0.96s\n",
            "       164      435443.8159            0.93s\n",
            "       165      426084.1782            0.91s\n",
            "       166      412961.4768            0.88s\n",
            "       167      394025.8832            0.86s\n",
            "       168      370724.2336            0.83s\n",
            "       169      342966.6385            0.80s\n",
            "       170      328356.8630            0.78s\n",
            "       171      311881.4104            0.75s\n",
            "       172      306396.9672            0.72s\n",
            "       173      292872.1965            0.70s\n",
            "       174      282279.4468            0.67s\n",
            "       175      261350.8250            0.65s\n",
            "       176      256438.7404            0.62s\n",
            "       177      249451.1982            0.60s\n",
            "       178      244278.4307            0.57s\n",
            "       179      236121.8815            0.54s\n",
            "       180      225691.1568            0.52s\n",
            "       181      215380.9750            0.49s\n",
            "       182      209542.9522            0.47s\n",
            "       183      194767.1734            0.44s\n",
            "       184      192244.6845            0.41s\n",
            "       185      177460.0317            0.39s\n",
            "       186      167306.6374            0.36s\n",
            "       187      163958.8053            0.34s\n",
            "       188      151152.0318            0.31s\n",
            "       189      144491.1765            0.29s\n",
            "       190      138183.6891            0.26s\n",
            "       191      128332.8655            0.23s\n",
            "       192      123073.8805            0.21s\n",
            "       193      116979.8397            0.18s\n",
            "       194      114571.1931            0.16s\n",
            "       195      110647.4693            0.13s\n",
            "       196      107953.5316            0.10s\n",
            "       197      105243.3541            0.08s\n",
            "       198      101162.3651            0.05s\n",
            "       199       94608.1230            0.03s\n",
            "       200       92612.3591            0.00s\n",
            "score on training 0.9999986485477148\n",
            "r2 score 0.7860271047872172 \n",
            "\n",
            "RandomForestRegressor(bootstrap=True, ccp_alpha=0.0, criterion='mse',\n",
            "                      max_depth=20, max_features='auto', max_leaf_nodes=None,\n",
            "                      max_samples=None, min_impurity_decrease=0.0,\n",
            "                      min_impurity_split=None, min_samples_leaf=1,\n",
            "                      min_samples_split=2, min_weight_fraction_leaf=0.0,\n",
            "                      n_estimators=100, n_jobs=None, oob_score=False,\n",
            "                      random_state=100, verbose=2, warm_start=False)\n",
            "building tree 1 of 100\n",
            "building tree 2 of 100\n",
            "building tree 3 of 100\n",
            "building tree 4 of 100\n",
            "building tree 5 of 100\n"
          ],
          "name": "stdout"
        },
        {
          "output_type": "stream",
          "text": [
            "[Parallel(n_jobs=1)]: Using backend SequentialBackend with 1 concurrent workers.\n",
            "[Parallel(n_jobs=1)]: Done   1 out of   1 | elapsed:    0.0s remaining:    0.0s\n"
          ],
          "name": "stderr"
        },
        {
          "output_type": "stream",
          "text": [
            "building tree 6 of 100\n",
            "building tree 7 of 100\n",
            "building tree 8 of 100\n",
            "building tree 9 of 100\n",
            "building tree 10 of 100\n",
            "building tree 11 of 100\n",
            "building tree 12 of 100\n",
            "building tree 13 of 100\n",
            "building tree 14 of 100\n",
            "building tree 15 of 100\n",
            "building tree 16 of 100\n",
            "building tree 17 of 100\n",
            "building tree 18 of 100\n",
            "building tree 19 of 100\n",
            "building tree 20 of 100\n",
            "building tree 21 of 100\n",
            "building tree 22 of 100\n",
            "building tree 23 of 100\n",
            "building tree 24 of 100\n",
            "building tree 25 of 100\n",
            "building tree 26 of 100\n",
            "building tree 27 of 100\n",
            "building tree 28 of 100\n",
            "building tree 29 of 100\n",
            "building tree 30 of 100\n",
            "building tree 31 of 100\n",
            "building tree 32 of 100\n",
            "building tree 33 of 100\n",
            "building tree 34 of 100\n",
            "building tree 35 of 100\n",
            "building tree 36 of 100\n",
            "building tree 37 of 100\n",
            "building tree 38 of 100\n",
            "building tree 39 of 100\n",
            "building tree 40 of 100\n",
            "building tree 41 of 100\n",
            "building tree 42 of 100\n",
            "building tree 43 of 100\n",
            "building tree 44 of 100\n",
            "building tree 45 of 100\n",
            "building tree 46 of 100\n",
            "building tree 47 of 100\n",
            "building tree 48 of 100\n",
            "building tree 49 of 100\n",
            "building tree 50 of 100\n",
            "building tree 51 of 100\n",
            "building tree 52 of 100\n",
            "building tree 53 of 100\n",
            "building tree 54 of 100\n",
            "building tree 55 of 100\n",
            "building tree 56 of 100\n",
            "building tree 57 of 100\n",
            "building tree 58 of 100\n",
            "building tree 59 of 100\n",
            "building tree 60 of 100\n",
            "building tree 61 of 100\n",
            "building tree 62 of 100\n",
            "building tree 63 of 100\n",
            "building tree 64 of 100\n",
            "building tree 65 of 100\n",
            "building tree 66 of 100\n",
            "building tree 67 of 100\n",
            "building tree 68 of 100\n",
            "building tree 69 of 100\n",
            "building tree 70 of 100\n",
            "building tree 71 of 100\n",
            "building tree 72 of 100\n",
            "building tree 73 of 100\n",
            "building tree 74 of 100\n",
            "building tree 75 of 100\n",
            "building tree 76 of 100\n",
            "building tree 77 of 100\n",
            "building tree 78 of 100\n",
            "building tree 79 of 100\n",
            "building tree 80 of 100\n",
            "building tree 81 of 100\n",
            "building tree 82 of 100\n",
            "building tree 83 of 100\n",
            "building tree 84 of 100\n",
            "building tree 85 of 100\n",
            "building tree 86 of 100\n",
            "building tree 87 of 100\n",
            "building tree 88 of 100\n",
            "building tree 89 of 100\n",
            "building tree 90 of 100\n",
            "building tree 91 of 100\n",
            "building tree 92 of 100\n",
            "building tree 93 of 100\n",
            "building tree 94 of 100\n",
            "building tree 95 of 100\n",
            "building tree 96 of 100\n",
            "building tree 97 of 100\n",
            "building tree 98 of 100\n",
            "building tree 99 of 100\n",
            "building tree 100 of 100\n",
            "score on training 0.965044636502287\n"
          ],
          "name": "stdout"
        },
        {
          "output_type": "stream",
          "text": [
            "[Parallel(n_jobs=1)]: Done 100 out of 100 | elapsed:    2.4s finished\n",
            "[Parallel(n_jobs=1)]: Using backend SequentialBackend with 1 concurrent workers.\n",
            "[Parallel(n_jobs=1)]: Done   1 out of   1 | elapsed:    0.0s remaining:    0.0s\n",
            "[Parallel(n_jobs=1)]: Done 100 out of 100 | elapsed:    0.0s finished\n",
            "[Parallel(n_jobs=1)]: Using backend SequentialBackend with 1 concurrent workers.\n",
            "[Parallel(n_jobs=1)]: Done   1 out of   1 | elapsed:    0.0s remaining:    0.0s\n",
            "[Parallel(n_jobs=1)]: Done 100 out of 100 | elapsed:    0.0s finished\n",
            "[Parallel(n_jobs=1)]: Using backend SequentialBackend with 1 concurrent workers.\n",
            "[Parallel(n_jobs=1)]: Done   1 out of   1 | elapsed:    0.0s remaining:    0.0s\n",
            "[Parallel(n_jobs=1)]: Done 100 out of 100 | elapsed:    0.0s finished\n"
          ],
          "name": "stderr"
        },
        {
          "output_type": "stream",
          "text": [
            "r2 score 0.7772379931008161 \n",
            "\n"
          ],
          "name": "stdout"
        },
        {
          "output_type": "display_data",
          "data": {
            "image/png": "[encoded data removed]",
            "text/plain": [
              "<Figure size 2160x864 with 1 Axes>"
            ]
          },
          "metadata": {
            "tags": [],
            "needs_background": "light"
          }
        }
      ]
    },
    {
      "cell_type": "code",
      "metadata": {
        "pycharm": {
          "name": "#%%\n"
        },
        "id": "v1aS20OfCq6g",
        "colab_type": "code",
        "colab": {}
      },
      "source": [
        "regressionTree_imp = model.feature_importances_\n",
        "# plt.figure(figsize=(16,6))\n",
        "# plt.yscale('log',nonposy='clip')\n",
        "# plt.bar(range(len(regressionTree_imp)),regressionTree_imp,align='center')\n",
        "# plt.xticks(range(len(regressionTree_imp)),features,rotation='vertical')\n",
        "# plt.title('Feature Importance')\n",
        "# plt.ylabel('Importance')\n",
        "# plt.show()"
      ],
      "execution_count": 16,
      "outputs": []
    },
    {
      "cell_type": "code",
      "metadata": {
        "pycharm": {
          "name": "#%%\n"
        },
        "id": "26SCH1BGCq6j",
        "colab_type": "code",
        "colab": {}
      },
      "source": [
        "data_tuples = list(zip(features,regressionTree_imp.tolist()))\n",
        "features_importance = pd.DataFrame(data_tuples, columns=['Feature','Value'])"
      ],
      "execution_count": 17,
      "outputs": []
    },
    {
      "cell_type": "code",
      "metadata": {
        "pycharm": {
          "name": "#%%\n"
        },
        "id": "pwuUQuXZCq6l",
        "colab_type": "code",
        "colab": {
          "base_uri": "https://localhost:8080/",
          "height": 51
        },
        "outputId": "e0e4a00b-5b09-4219-888b-0213d75a88e6"
      },
      "source": [
        "print(len(features_importance))\n",
        "unimportant_features = features_importance[features_importance['Value'] < .001]\n",
        "features_importance = features_importance[features_importance['Value'] > .001]\n",
        "print(len(features_importance))"
      ],
      "execution_count": 18,
      "outputs": [
        {
          "output_type": "stream",
          "text": [
            "103\n",
            "36\n"
          ],
          "name": "stdout"
        }
      ]
    },
    {
      "cell_type": "code",
      "metadata": {
        "pycharm": {
          "name": "#%%\n"
        },
        "id": "rqAxwwZ-Cq6p",
        "colab_type": "code",
        "colab": {
          "base_uri": "https://localhost:8080/",
          "height": 1000
        },
        "outputId": "0eca76b9-7e8e-4677-c31c-ddd805537cee"
      },
      "source": [
        "features_importance = features_importance.sort_values(by=['Value'], ascending=False)\n",
        "pd.set_option('display.float_format', lambda x: '%.1000f' % x)\n",
        "features_importance"
      ],
      "execution_count": 19,
      "outputs": [
        {
          "output_type": "execute_result",
          "data": {
            "text/html": [
              "<div>\n",
              "<style scoped>\n",
              "    .dataframe tbody tr th:only-of-type {\n",
              "        vertical-align: middle;\n",
              "    }\n",
              "\n",
              "    .dataframe tbody tr th {\n",
              "        vertical-align: top;\n",
              "    }\n",
              "\n",
              "    .dataframe thead th {\n",
              "        text-align: right;\n",
              "    }\n",
              "</style>\n",
              "<table border=\"1\" class=\"dataframe\">\n",
              "  <thead>\n",
              "    <tr style=\"text-align: right;\">\n",
              "      <th></th>\n",
              "      <th>Feature</th>\n",
              "      <th>Value</th>\n",
              "    </tr>\n",
              "  </thead>\n",
              "  <tbody>\n",
              "    <tr>\n",
              "      <th>14</th>\n",
              "      <td>m²square meterslivable space</td>\n",
              "      <td>0.343512974691015438022390071637346409261226654...</td>\n",
              "    </tr>\n",
              "    <tr>\n",
              "      <th>1</th>\n",
              "      <td>property.netHabitableSurface</td>\n",
              "      <td>0.307328348484664559681078799258102662861347198...</td>\n",
              "    </tr>\n",
              "    <tr>\n",
              "      <th>10</th>\n",
              "      <td>Living area</td>\n",
              "      <td>0.080119250345213555153378592876833863556385040...</td>\n",
              "    </tr>\n",
              "    <tr>\n",
              "      <th>60</th>\n",
              "      <td>property.location.postalCode_2000</td>\n",
              "      <td>0.034726997245879610842766993528130115009844303...</td>\n",
              "    </tr>\n",
              "    <tr>\n",
              "      <th>5</th>\n",
              "      <td>Construction year</td>\n",
              "      <td>0.026203550374481621859645841254859988112002611...</td>\n",
              "    </tr>\n",
              "    <tr>\n",
              "      <th>11</th>\n",
              "      <td>Living room surface</td>\n",
              "      <td>0.018057210766997545958734150417512864805757999...</td>\n",
              "    </tr>\n",
              "    <tr>\n",
              "      <th>4</th>\n",
              "      <td>Bathrooms</td>\n",
              "      <td>0.015004680232628469713218599679294129600748419...</td>\n",
              "    </tr>\n",
              "    <tr>\n",
              "      <th>20</th>\n",
              "      <td>Terrace surface</td>\n",
              "      <td>0.013038720665918188817977707572026702109724283...</td>\n",
              "    </tr>\n",
              "    <tr>\n",
              "      <th>15</th>\n",
              "      <td>Cadastral income</td>\n",
              "      <td>0.012988897002688877882481399694825086044147610...</td>\n",
              "    </tr>\n",
              "    <tr>\n",
              "      <th>2</th>\n",
              "      <td>Unnamed: 0.1</td>\n",
              "      <td>0.011619739245460685220234786640958191128447651...</td>\n",
              "    </tr>\n",
              "    <tr>\n",
              "      <th>7</th>\n",
              "      <td>E-level (primary energy consumption)</td>\n",
              "      <td>0.010936723613273519398192412666048767277970910...</td>\n",
              "    </tr>\n",
              "    <tr>\n",
              "      <th>0</th>\n",
              "      <td>property.bedroomCount</td>\n",
              "      <td>0.010588231665063957062655752849877899279817938...</td>\n",
              "    </tr>\n",
              "    <tr>\n",
              "      <th>16</th>\n",
              "      <td>Bedroom 1 surface</td>\n",
              "      <td>0.010280716514565529581815006565648218384012579...</td>\n",
              "    </tr>\n",
              "    <tr>\n",
              "      <th>24</th>\n",
              "      <td>Elevator</td>\n",
              "      <td>0.009830300455455871083687569011999585200101137...</td>\n",
              "    </tr>\n",
              "    <tr>\n",
              "      <th>13</th>\n",
              "      <td>Toilets</td>\n",
              "      <td>0.008701959100298386345917478479350393172353506...</td>\n",
              "    </tr>\n",
              "    <tr>\n",
              "      <th>38</th>\n",
              "      <td>Flood zone type_Recognized flood zone</td>\n",
              "      <td>0.008223392195825405745490677134057477815076708...</td>\n",
              "    </tr>\n",
              "    <tr>\n",
              "      <th>8</th>\n",
              "      <td>Energy class</td>\n",
              "      <td>0.007305805784464233440522740181677363580092787...</td>\n",
              "    </tr>\n",
              "    <tr>\n",
              "      <th>3</th>\n",
              "      <td>Armored door</td>\n",
              "      <td>0.007294720471422327587318612529543315758928656...</td>\n",
              "    </tr>\n",
              "    <tr>\n",
              "      <th>23</th>\n",
              "      <td>Number of floors</td>\n",
              "      <td>0.006662565721918410968638291080878843786194920...</td>\n",
              "    </tr>\n",
              "    <tr>\n",
              "      <th>17</th>\n",
              "      <td>Bedroom 2 surface</td>\n",
              "      <td>0.005708874545904821413977447974730239366181194...</td>\n",
              "    </tr>\n",
              "    <tr>\n",
              "      <th>22</th>\n",
              "      <td>Floor :</td>\n",
              "      <td>0.005543583911432538313679430075353593565523624...</td>\n",
              "    </tr>\n",
              "    <tr>\n",
              "      <th>31</th>\n",
              "      <td>property.subtype_PENTHOUSE</td>\n",
              "      <td>0.005316917147254600871375540549479410401545464...</td>\n",
              "    </tr>\n",
              "    <tr>\n",
              "      <th>18</th>\n",
              "      <td>Covered parking spaces</td>\n",
              "      <td>0.004197608891479657697298755181236629141494631...</td>\n",
              "    </tr>\n",
              "    <tr>\n",
              "      <th>35</th>\n",
              "      <td>Flood zone type_Non flood zone</td>\n",
              "      <td>0.003069625586922745518608790504799799236934632...</td>\n",
              "    </tr>\n",
              "    <tr>\n",
              "      <th>94</th>\n",
              "      <td>property.location.postalCode_2900</td>\n",
              "      <td>0.002675949195272348587332222891177480050828307...</td>\n",
              "    </tr>\n",
              "    <tr>\n",
              "      <th>61</th>\n",
              "      <td>property.location.postalCode_2018</td>\n",
              "      <td>0.002392291544851524523473962346997723216190934...</td>\n",
              "    </tr>\n",
              "    <tr>\n",
              "      <th>42</th>\n",
              "      <td>Heating type_Gas</td>\n",
              "      <td>0.002356471505952919057169658856309979455545544...</td>\n",
              "    </tr>\n",
              "    <tr>\n",
              "      <th>9</th>\n",
              "      <td>Facades</td>\n",
              "      <td>0.002222315175628247069239407096574723254889249...</td>\n",
              "    </tr>\n",
              "    <tr>\n",
              "      <th>52</th>\n",
              "      <td>Building condition_Good</td>\n",
              "      <td>0.001583648599334846725564251990192587982164695...</td>\n",
              "    </tr>\n",
              "    <tr>\n",
              "      <th>19</th>\n",
              "      <td>Intercom</td>\n",
              "      <td>0.001482394288099223673624282859861978067783638...</td>\n",
              "    </tr>\n",
              "    <tr>\n",
              "      <th>51</th>\n",
              "      <td>Building condition_As new</td>\n",
              "      <td>0.001479114156525116125298624503159317100653424...</td>\n",
              "    </tr>\n",
              "    <tr>\n",
              "      <th>30</th>\n",
              "      <td>property.subtype_LOFT</td>\n",
              "      <td>0.001474550557803042290239137201979247038252651...</td>\n",
              "    </tr>\n",
              "    <tr>\n",
              "      <th>44</th>\n",
              "      <td>Kitchen type_Hyper equipped</td>\n",
              "      <td>0.001392534247938161063792850136167089658556506...</td>\n",
              "    </tr>\n",
              "    <tr>\n",
              "      <th>12</th>\n",
              "      <td>Planning permission obtained</td>\n",
              "      <td>0.001294146556722997705099476029033667145995423...</td>\n",
              "    </tr>\n",
              "    <tr>\n",
              "      <th>58</th>\n",
              "      <td>As built plan_No</td>\n",
              "      <td>0.001131579163432684014337081812584528961451724...</td>\n",
              "    </tr>\n",
              "    <tr>\n",
              "      <th>45</th>\n",
              "      <td>Kitchen type_Installed</td>\n",
              "      <td>0.001030614927702353748190100546366920752916485...</td>\n",
              "    </tr>\n",
              "  </tbody>\n",
              "</table>\n",
              "</div>"
            ],
            "text/plain": [
              "                                  Feature                                              Value\n",
              "14           m²square meterslivable space 0.343512974691015438022390071637346409261226654...\n",
              "1            property.netHabitableSurface 0.307328348484664559681078799258102662861347198...\n",
              "10                            Living area 0.080119250345213555153378592876833863556385040...\n",
              "60      property.location.postalCode_2000 0.034726997245879610842766993528130115009844303...\n",
              "5                       Construction year 0.026203550374481621859645841254859988112002611...\n",
              "11                    Living room surface 0.018057210766997545958734150417512864805757999...\n",
              "4                               Bathrooms 0.015004680232628469713218599679294129600748419...\n",
              "20                        Terrace surface 0.013038720665918188817977707572026702109724283...\n",
              "15                       Cadastral income 0.012988897002688877882481399694825086044147610...\n",
              "2                            Unnamed: 0.1 0.011619739245460685220234786640958191128447651...\n",
              "7    E-level (primary energy consumption) 0.010936723613273519398192412666048767277970910...\n",
              "0                   property.bedroomCount 0.010588231665063957062655752849877899279817938...\n",
              "16                      Bedroom 1 surface 0.010280716514565529581815006565648218384012579...\n",
              "24                               Elevator 0.009830300455455871083687569011999585200101137...\n",
              "13                                Toilets 0.008701959100298386345917478479350393172353506...\n",
              "38  Flood zone type_Recognized flood zone 0.008223392195825405745490677134057477815076708...\n",
              "8                            Energy class 0.007305805784464233440522740181677363580092787...\n",
              "3                            Armored door 0.007294720471422327587318612529543315758928656...\n",
              "23                       Number of floors 0.006662565721918410968638291080878843786194920...\n",
              "17                      Bedroom 2 surface 0.005708874545904821413977447974730239366181194...\n",
              "22                                Floor : 0.005543583911432538313679430075353593565523624...\n",
              "31             property.subtype_PENTHOUSE 0.005316917147254600871375540549479410401545464...\n",
              "18                 Covered parking spaces 0.004197608891479657697298755181236629141494631...\n",
              "35         Flood zone type_Non flood zone 0.003069625586922745518608790504799799236934632...\n",
              "94      property.location.postalCode_2900 0.002675949195272348587332222891177480050828307...\n",
              "61      property.location.postalCode_2018 0.002392291544851524523473962346997723216190934...\n",
              "42                       Heating type_Gas 0.002356471505952919057169658856309979455545544...\n",
              "9                                 Facades 0.002222315175628247069239407096574723254889249...\n",
              "52                Building condition_Good 0.001583648599334846725564251990192587982164695...\n",
              "19                               Intercom 0.001482394288099223673624282859861978067783638...\n",
              "51              Building condition_As new 0.001479114156525116125298624503159317100653424...\n",
              "30                  property.subtype_LOFT 0.001474550557803042290239137201979247038252651...\n",
              "44            Kitchen type_Hyper equipped 0.001392534247938161063792850136167089658556506...\n",
              "12           Planning permission obtained 0.001294146556722997705099476029033667145995423...\n",
              "58                       As built plan_No 0.001131579163432684014337081812584528961451724...\n",
              "45                 Kitchen type_Installed 0.001030614927702353748190100546366920752916485..."
            ]
          },
          "metadata": {
            "tags": []
          },
          "execution_count": 19
        }
      ]
    },
    {
      "cell_type": "code",
      "metadata": {
        "pycharm": {
          "name": "#%%\n"
        },
        "id": "2dENW5S4Cq6w",
        "colab_type": "code",
        "colab": {
          "base_uri": "https://localhost:8080/",
          "height": 68
        },
        "outputId": "fca9f58d-c3dd-43a1-9795-ddfa97634606"
      },
      "source": [
        "data_tuples = list(zip(y_test,model.predict(X_test)))\n",
        "features_importance = pd.DataFrame(data_tuples, columns=['Echte Waarde','Voorspelling'])\n",
        "features_importance['Voorspelling'] = features_importance['Voorspelling'].astype(float)"
      ],
      "execution_count": 20,
      "outputs": [
        {
          "output_type": "stream",
          "text": [
            "[Parallel(n_jobs=1)]: Using backend SequentialBackend with 1 concurrent workers.\n",
            "[Parallel(n_jobs=1)]: Done   1 out of   1 | elapsed:    0.0s remaining:    0.0s\n",
            "[Parallel(n_jobs=1)]: Done 100 out of 100 | elapsed:    0.0s finished\n"
          ],
          "name": "stderr"
        }
      ]
    },
    {
      "cell_type": "code",
      "metadata": {
        "pycharm": {
          "name": "#%%\n"
        },
        "id": "AtblpEsGCq60",
        "colab_type": "code",
        "colab": {
          "base_uri": "https://localhost:8080/",
          "height": 419
        },
        "outputId": "782118ff-9223-4c73-8bff-5096c6218292"
      },
      "source": [
        "features_importance.astype(int)"
      ],
      "execution_count": 21,
      "outputs": [
        {
          "output_type": "execute_result",
          "data": {
            "text/html": [
              "<div>\n",
              "<style scoped>\n",
              "    .dataframe tbody tr th:only-of-type {\n",
              "        vertical-align: middle;\n",
              "    }\n",
              "\n",
              "    .dataframe tbody tr th {\n",
              "        vertical-align: top;\n",
              "    }\n",
              "\n",
              "    .dataframe thead th {\n",
              "        text-align: right;\n",
              "    }\n",
              "</style>\n",
              "<table border=\"1\" class=\"dataframe\">\n",
              "  <thead>\n",
              "    <tr style=\"text-align: right;\">\n",
              "      <th></th>\n",
              "      <th>Echte Waarde</th>\n",
              "      <th>Voorspelling</th>\n",
              "    </tr>\n",
              "  </thead>\n",
              "  <tbody>\n",
              "    <tr>\n",
              "      <th>0</th>\n",
              "      <td>149000</td>\n",
              "      <td>189024</td>\n",
              "    </tr>\n",
              "    <tr>\n",
              "      <th>1</th>\n",
              "      <td>150000</td>\n",
              "      <td>199890</td>\n",
              "    </tr>\n",
              "    <tr>\n",
              "      <th>2</th>\n",
              "      <td>379000</td>\n",
              "      <td>509292</td>\n",
              "    </tr>\n",
              "    <tr>\n",
              "      <th>3</th>\n",
              "      <td>165000</td>\n",
              "      <td>212689</td>\n",
              "    </tr>\n",
              "    <tr>\n",
              "      <th>4</th>\n",
              "      <td>279000</td>\n",
              "      <td>195849</td>\n",
              "    </tr>\n",
              "    <tr>\n",
              "      <th>...</th>\n",
              "      <td>...</td>\n",
              "      <td>...</td>\n",
              "    </tr>\n",
              "    <tr>\n",
              "      <th>402</th>\n",
              "      <td>199900</td>\n",
              "      <td>194270</td>\n",
              "    </tr>\n",
              "    <tr>\n",
              "      <th>403</th>\n",
              "      <td>230000</td>\n",
              "      <td>722390</td>\n",
              "    </tr>\n",
              "    <tr>\n",
              "      <th>404</th>\n",
              "      <td>150000</td>\n",
              "      <td>275399</td>\n",
              "    </tr>\n",
              "    <tr>\n",
              "      <th>405</th>\n",
              "      <td>285500</td>\n",
              "      <td>879011</td>\n",
              "    </tr>\n",
              "    <tr>\n",
              "      <th>406</th>\n",
              "      <td>130000</td>\n",
              "      <td>129897</td>\n",
              "    </tr>\n",
              "  </tbody>\n",
              "</table>\n",
              "<p>407 rows × 2 columns</p>\n",
              "</div>"
            ],
            "text/plain": [
              "     Echte Waarde  Voorspelling\n",
              "0          149000        189024\n",
              "1          150000        199890\n",
              "2          379000        509292\n",
              "3          165000        212689\n",
              "4          279000        195849\n",
              "..            ...           ...\n",
              "402        199900        194270\n",
              "403        230000        722390\n",
              "404        150000        275399\n",
              "405        285500        879011\n",
              "406        130000        129897\n",
              "\n",
              "[407 rows x 2 columns]"
            ]
          },
          "metadata": {
            "tags": []
          },
          "execution_count": 21
        }
      ]
    },
    {
      "cell_type": "code",
      "metadata": {
        "pycharm": {
          "name": "#%%\n"
        },
        "id": "RLmQR-bsCq63",
        "colab_type": "code",
        "colab": {
          "base_uri": "https://localhost:8080/",
          "height": 357
        },
        "outputId": "2b579657-55ac-4e7b-e1d7-7d900fd5f189"
      },
      "source": [
        "from sklearn.model_selection import GridSearchCV\n",
        "param_grid = {\n",
        "    'bootstrap': [True],\n",
        "    'max_depth': range(1,100,10),\n",
        "    'max_features': range(1,30,5),\n",
        "    'min_samples_leaf': range(1,25,5),\n",
        "    'min_samples_split': range(1,20,5),\n",
        "    'n_estimators': range(100,1500,250)\n",
        "}\n",
        "rf = RandomForestRegressor()\n",
        "grid_search = GridSearchCV(estimator = rf, param_grid = param_grid,\n",
        "                          cv = 3, n_jobs = -1, verbose = 2)\n",
        "grid_search.fit(X, y)"
      ],
      "execution_count": null,
      "outputs": [
        {
          "output_type": "stream",
          "text": [
            "Fitting 3 folds for each of 7200 candidates, totalling 21600 fits\n"
          ],
          "name": "stdout"
        },
        {
          "output_type": "stream",
          "text": [
            "[Parallel(n_jobs=-1)]: Using backend LokyBackend with 2 concurrent workers.\n",
            "[Parallel(n_jobs=-1)]: Done  37 tasks      | elapsed:   19.1s\n",
            "[Parallel(n_jobs=-1)]: Done 158 tasks      | elapsed:  1.6min\n",
            "[Parallel(n_jobs=-1)]: Done 361 tasks      | elapsed:  3.8min\n",
            "[Parallel(n_jobs=-1)]: Done 644 tasks      | elapsed:  6.9min\n",
            "[Parallel(n_jobs=-1)]: Done 1009 tasks      | elapsed: 11.1min\n",
            "[Parallel(n_jobs=-1)]: Done 1454 tasks      | elapsed: 16.2min\n",
            "[Parallel(n_jobs=-1)]: Done 1981 tasks      | elapsed: 22.6min\n",
            "[Parallel(n_jobs=-1)]: Done 2588 tasks      | elapsed: 30.1min\n",
            "[Parallel(n_jobs=-1)]: Done 3277 tasks      | elapsed: 41.6min\n",
            "[Parallel(n_jobs=-1)]: Done 4046 tasks      | elapsed: 59.7min\n",
            "[Parallel(n_jobs=-1)]: Done 4897 tasks      | elapsed: 74.9min\n",
            "[Parallel(n_jobs=-1)]: Done 5828 tasks      | elapsed: 94.2min\n",
            "[Parallel(n_jobs=-1)]: Done 6841 tasks      | elapsed: 115.9min\n",
            "[Parallel(n_jobs=-1)]: Done 7934 tasks      | elapsed: 136.8min\n",
            "[Parallel(n_jobs=-1)]: Done 9109 tasks      | elapsed: 162.5min\n",
            "[Parallel(n_jobs=-1)]: Done 10364 tasks      | elapsed: 189.1min\n",
            "[Parallel(n_jobs=-1)]: Done 11701 tasks      | elapsed: 214.9min\n",
            "[Parallel(n_jobs=-1)]: Done 13118 tasks      | elapsed: 248.0min\n"
          ],
          "name": "stderr"
        }
      ]
    },
    {
      "cell_type": "code",
      "metadata": {
        "pycharm": {
          "name": "#%%\n"
        },
        "id": "5Rtm_YwBCq65",
        "colab_type": "code",
        "colab": {}
      },
      "source": [
        "\n",
        "print(\"-grid.best_score_ {}\".format(grid_search.best_score_))\n",
        "print(\"grid.best_params_ {}\".format(grid_search.best_params_))\n",
        "print(\"grid.best_estimator_ {}\".format(grid_search.best_estimator_))  "
      ],
      "execution_count": null,
      "outputs": []
    }
  ]
}