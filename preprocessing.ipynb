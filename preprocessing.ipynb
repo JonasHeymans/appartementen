{
 "nbformat": 4,
 "nbformat_minor": 0,
 "metadata": {
  "kernelspec": {
   "display_name": "Python 3",
   "language": "python",
   "name": "python3"
  },
  "language_info": {
   "codemirror_mode": {
    "name": "ipython",
    "version": 2
   },
   "file_extension": ".py",
   "mimetype": "text/x-python",
   "name": "python",
   "nbconvert_exporter": "python",
   "pygments_lexer": "ipython2",
   "version": "2.7.6"
  },
  "colab": {
   "name": "appartementen.ipynb",
   "provenance": [],
   "include_colab_link": true
  }
 },
 "cells": [
  {
   "cell_type": "code",
   "metadata": {
    "id": "7Rk4DQhDHO3Y",
    "colab_type": "code",
    "colab": {
     "base_uri": "https://localhost:8080/",
     "height": 71
    },
    "outputId": "fc68b28b-f3be-43c8-f18e-af65eee3c561"
   },
   "source": [
    "import pandas as pd\n",
    "import matplotlib.pyplot as plt\n",
    "import numpy as np"
   ],
   "execution_count": 25,
   "outputs": []
  },
  {
   "cell_type": "code",
   "metadata": {
    "pycharm": {
     "name": "#%%\n"
    },
    "id": "b1_jKVHdHO3e",
    "colab_type": "code",
    "colab": {
     "base_uri": "https://localhost:8080/",
     "height": 71
    },
    "outputId": "7679ae94-36e7-43a0-e5ea-99ae4b6c1dc9"
   },
   "source": [
    "df = pd.read_csv('files/all.csv', index_col='Unnamed: 0')"
   ],
   "execution_count": 26,
   "outputs": [
    {
     "name": "stderr",
     "output_type": "stream",
     "text": [
      "/Users/inejj/PycharmProjects/Projectjes/appartementen/venv/lib/python3.7/site-packages/IPython/core/interactiveshell.py:3063: DtypeWarning: Columns (29,37,58,92,116,120,136,139,140,141,144,146,150,152,154,162,169,170,172,173,174,175,177,180,181,182,183,184,186,187,188,189,190,191,193,194,195,196,197,198,200,201,203,205,206,207,209,210,211,212,213) have mixed types.Specify dtype option on import or set low_memory=False.\n",
      "  interactivity=interactivity, compiler=compiler, result=result)\n"
     ]
    }
   ]
  },
  {
   "cell_type": "code",
   "execution_count": 27,
   "outputs": [],
   "source": [
    "# Dropping street and housenumber for now, but might be intereting later use it, eg via a graph library\n",
    "\n",
    "df = df.drop(['property.location.box', 'property.location.street',\n",
    "              'property.location.latitude', 'property.location.longitude',\n",
    "              'property.location.locality', 'property.location.number',\n",
    "              'Address',], axis=1)\n",
    "\n",
    "df = df.drop(columns=['flags.main','customerLogoUrl','customerName','media.pictures',\n",
    "                      'flags.secondary','Price','property.title','publication.size',\n",
    "                      'publication.visualisationOption','External reference',\n",
    "                      'Reference number of the EPC report','Website', 'Available as of'], axis =1)"
   ],
   "metadata": {
    "collapsed": false,
    "pycharm": {
     "name": "#%%\n"
    }
   }
  },
  {
   "cell_type": "code",
   "execution_count": 28,
   "outputs": [],
   "source": [
    "# Removing outliers\n",
    "df = df[df['Floor :'] < 30]\n",
    "\n",
    "# Geen openbare verkopen waar we moeten bieden of verkopen op lijfrente.\n",
    "df = df[df['price.label'] == 'Price']\n",
    "\n",
    "# Geen slaapkamers vermeld is nogal raar.\n",
    "\n",
    "df = df[df['property.bedroomCount'] > 0]\n",
    "\n",
    "binary_cols = ['Double glazing','Armored door','Elevator','Basement',\n",
    "             'Intercom','Planning permission obtained', 'Type of building']\n",
    "df[binary_cols] =df[binary_cols].replace('Yes', 1).replace('No',0)\n",
    "\n",
    "\n",
    "# Striping things like 'm²square meters' from numerical columns and\n",
    "# converting them to float\n",
    "\n",
    "numerical_cols = ['CO² emission', 'Living area','Living room surface',\n",
    "            'Bedroom 1 surface','Bedroom 2 surface','Cadastral income',\n",
    "            'E-level (primary energy consumption)','Terrace surface']\n",
    "\n",
    "strippers = ['kg CO2/m²','kWh/m²kilowatt hour per square meters',\n",
    "            'm²square meters','€']\n",
    "\n",
    "for x in numerical_cols:\n",
    "    for y in strippers:\n",
    "        df[x] = df[x].str.strip(y).replace('Not specified',np.nan)\n",
    "    df[x] = df[x].str.replace('.','').str.replace(',','.').replace('', np.nan)\n",
    "    df[x] = df[x].astype(float)\n",
    "\n",
    "# Dropping columns with duplicate information\n",
    "to_drop = ['Floor','price.shortDisplayPrice','price.accessibilityPrice',\n",
    "           'price.mainDisplayPrice', 'property.location.floor','Bedrooms','bedrooms','bedroom',\n",
    "           'transaction.sale.price','bathroom']\n",
    "\n",
    "df = df.drop(to_drop, axis=1)"
   ],
   "metadata": {
    "collapsed": false,
    "pycharm": {
     "name": "#%%\n"
    }
   }
  },
  {
   "cell_type": "code",
   "execution_count": 29,
   "outputs": [],
   "source": [
    "for column in df.columns:\n",
    "    if df[column].isnull().sum() > 0.8*len(df):\n",
    "        df = df.drop(column, axis=1)\n",
    "    elif len(df[column].unique()) == 1:\n",
    "        df = df.drop(column, axis=1)"
   ],
   "metadata": {
    "collapsed": false,
    "pycharm": {
     "name": "#%%\n"
    }
   }
  },
  {
   "cell_type": "code",
   "execution_count": 30,
   "outputs": [],
   "source": [
    "nominal_cols = ['property.subtype', 'Flood zone type', 'Heating type','Kitchen type',\n",
    "            'Building condition', 'Type of building','As built plan','property.location.postalCode'\n",
    "            ]\n",
    "\n",
    "df = pd.get_dummies(data= df, columns=nominal_cols)"
   ],
   "metadata": {
    "collapsed": false,
    "pycharm": {
     "name": "#%%\n"
    }
   }
  },
  {
   "cell_type": "code",
   "execution_count": 31,
   "outputs": [],
   "source": [
    "# Ordinal encoding\n",
    "ordinal_cols= ['Energy class']\n",
    "scale_mapper = {'A':1,\n",
    "                'B':2,\n",
    "                'C':3,\n",
    "                'D':4,\n",
    "                'E':5,\n",
    "                'F':6,\n",
    "                'Not specified': np.nan\n",
    "                }\n",
    "\n",
    "df[ordinal_cols] = df[ordinal_cols].replace(scale_mapper)\n"
   ],
   "metadata": {
    "collapsed": false,
    "pycharm": {
     "name": "#%%\n"
    }
   }
  },
  {
   "cell_type": "code",
   "execution_count": 32,
   "outputs": [],
   "source": [
    "# def remove_outlier(df, col):\n",
    "#   q1 = df[col].quantile(0.25)\n",
    "#   q3 = df[col].quantile(0.75)\n",
    "#   iqr = q3 - q1\n",
    "#   lower_bound  = q1 - (1.5  * iqr)\n",
    "#   upper_bound = q3 + (1.5 * iqr)\n",
    "#   out_df = df.loc[(df[col] > lower_bound) & (df[col] < upper_bound)]\n",
    "#   return out_df\n",
    "# df = remove_outlier(df,\"price.mainValue\")\n",
    "#\n",
    "# threshold = len(df) * .75\n",
    "# df.dropna(thresh = threshold, axis = 1, inplace = True)\n",
    "#"
   ],
   "metadata": {
    "collapsed": false,
    "pycharm": {
     "name": "#%%\n"
    }
   }
  },
  {
   "cell_type": "code",
   "execution_count": 33,
   "outputs": [
    {
     "data": {
      "text/plain": "{'property.netHabitableSurface': 137,\n 'Armored door': 1396,\n 'Bathrooms': 217,\n 'Construction year': 710,\n 'Double glazing': 633,\n 'E-level (primary energy consumption)': 607,\n 'Energy class': 699,\n 'Facades': 774,\n 'Living area': 157,\n 'Living room surface': 1197,\n 'Planning permission obtained': 809,\n 'Toilets': 542,\n 'm²square meterslivable space': 137,\n 'Cadastral income': 1206,\n 'Bedroom 1 surface': 1173,\n 'Bedroom 2 surface': 1351,\n 'Covered parking spaces': 1546,\n 'Intercom': 1342,\n 'Terrace surface': 996,\n 'Basement': 1516,\n 'Number of floors': 867,\n 'Elevator': 911}"
     },
     "execution_count": 33,
     "metadata": {},
     "output_type": "execute_result"
    }
   ],
   "source": [
    "# Making a dict of all cols with missing values\n",
    "missing = {col: df[col].isnull().sum() for col in df.columns if df[col].isnull().sum()  != 0}\n",
    "missing"
   ],
   "metadata": {
    "collapsed": false,
    "pycharm": {
     "name": "#%%\n"
    }
   }
  },
  {
   "cell_type": "code",
   "execution_count": 34,
   "outputs": [],
   "source": [
    "from sklearn.impute import  MissingIndicator\n",
    "missing_bin = [x for x in missing.keys() if x in binary_cols]\n",
    "imp = MissingIndicator()\n",
    "df[missing_bin]= imp.fit_transform(df[missing_bin])\n",
    "\n",
    "from sklearn.impute import SimpleImputer\n",
    "missing_ord= [x for x in missing.keys() if x in ordinal_cols]\n",
    "imp = SimpleImputer(strategy='median')\n",
    "df[missing_ord]= imp.fit_transform(df[missing_ord])\n",
    "\n",
    "missing_num = [x for x in missing.keys() if df[x].isnull().sum() != 0]\n",
    "\n",
    "from sklearn.impute import KNNImputer\n",
    "imputer = KNNImputer(n_neighbors=2)\n",
    "df[missing_num] = imputer.fit_transform(df[missing_num])\n",
    "\n"
   ],
   "metadata": {
    "collapsed": false,
    "pycharm": {
     "name": "#%%\n"
    }
   }
  },
  {
   "cell_type": "code",
   "execution_count": 35,
   "outputs": [],
   "source": [
    "from sklearn.model_selection import train_test_split\n",
    "features =  list(df.drop(columns=['price.mainValue','id'],axis=1))\n",
    "X = df[features]\n",
    "y = df['price.mainValue']"
   ],
   "metadata": {
    "collapsed": false,
    "pycharm": {
     "name": "#%%\n"
    }
   }
  },
  {
   "cell_type": "code",
   "execution_count": 36,
   "outputs": [],
   "source": [
    "X_train, X_test, y_train, y_test = train_test_split(X, y, test_size=0.2, random_state=0)"
   ],
   "metadata": {
    "collapsed": false,
    "pycharm": {
     "name": "#%%\n"
    }
   }
  },
  {
   "cell_type": "code",
   "execution_count": 37,
   "outputs": [
    {
     "name": "stdout",
     "output_type": "stream",
     "text": [
      "Model Accuracy: -0.594864354995539\n",
      "$ 129701.84278189455\n"
     ]
    }
   ],
   "source": [
    "from sklearn.dummy import DummyRegressor\n",
    "from sklearn.metrics import mean_absolute_error\n",
    "from sklearn.metrics import r2_score\n",
    "from sklearn.model_selection import train_test_split\n",
    "dummy_median = DummyRegressor(strategy='mean')\n",
    "dummy_regressor = dummy_median.fit(X_train,y_train)\n",
    "dummy_predicts = dummy_regressor.predict(X_test)\n",
    "print(\"Model Accuracy:\", dummy_regressor.score(X_test,y_test)*100)\n",
    "print('$',mean_absolute_error(y_test,dummy_predicts))"
   ],
   "metadata": {
    "collapsed": false,
    "pycharm": {
     "name": "#%%\n"
    }
   }
  },
  {
   "cell_type": "code",
   "execution_count": 38,
   "outputs": [],
   "source": [
    "from sklearn.tree import DecisionTreeRegressor\n",
    "from sklearn.ensemble import RandomForestRegressor\n",
    "from sklearn.ensemble import GradientBoostingRegressor\n",
    "models = [\n",
    "          DecisionTreeRegressor(criterion='mse',max_depth=11,random_state=100),\n",
    "          GradientBoostingRegressor(n_estimators=200,max_depth=12, verbose=2),\n",
    "            RandomForestRegressor(min_samples_leaf =1, n_estimators=100,criterion='mse',max_depth=20,random_state=100,verbose=2)]\n",
    "learning_mods = pd.DataFrame()\n",
    "temp = {}"
   ],
   "metadata": {
    "collapsed": false,
    "pycharm": {
     "name": "#%%\n"
    }
   }
  },
  {
   "cell_type": "code",
   "execution_count": 39,
   "outputs": [
    {
     "name": "stdout",
     "output_type": "stream",
     "text": [
      "DecisionTreeRegressor(max_depth=11, random_state=100)\n",
      "score on training 0.9785767302263569\n",
      "r2 score 0.7315195704251398 \n",
      "\n",
      "GradientBoostingRegressor(max_depth=12, n_estimators=200, verbose=2)\n",
      "      Iter       Train Loss   Remaining Time \n",
      "         1 55705938246.9341            3.76s\n",
      "         2 45320428137.0770            3.75s\n",
      "         3 36896771933.3001            3.73s\n",
      "         4 30070346344.0928            3.85s\n",
      "         5 24516069017.6569            3.84s\n",
      "         6 19975893343.3262            3.81s\n",
      "         7 16295505212.9300            4.09s\n",
      "         8 13287418864.9660            4.35s\n",
      "         9 10842784776.3182            4.45s\n",
      "        10  8862580359.2282            4.53s\n",
      "        11  7251159441.9489            4.62s\n",
      "        12  5943242053.0631            4.58s\n",
      "        13  4873950238.4158            4.50s\n",
      "        14  4007462039.0014            4.41s\n",
      "        15  3299105409.2353            4.40s\n",
      "        16  2721297033.3840            4.44s\n",
      "        17  2242619841.0062            4.40s\n",
      "        18  1851571292.9693            4.46s\n",
      "        19  1541141541.9078            4.48s\n",
      "        20  1280667342.8583            4.45s\n",
      "        21  1069440874.0638            4.38s\n",
      "        22   899599639.3095            4.32s\n",
      "        23   760003945.5205            4.25s\n",
      "        24   646989315.0844            4.29s\n",
      "        25   550917259.8622            4.29s\n",
      "        26   467585754.9279            4.28s\n",
      "        27   403726695.3344            4.25s\n",
      "        28   351200668.4729            4.25s\n",
      "        29   306000564.5834            4.22s\n",
      "        30   268199080.9753            4.17s\n",
      "        31   238791681.3240            4.13s\n",
      "        32   211877050.6363            4.09s\n",
      "        33   191827817.6486            4.06s\n",
      "        34   170296970.9694            4.04s\n",
      "        35   152534836.5025            4.03s\n",
      "        36   135919125.5442            4.00s\n",
      "        37   123256029.1667            3.97s\n",
      "        38   111112666.6430            3.93s\n",
      "        39   102204582.6472            3.90s\n",
      "        40    91258789.8479            3.85s\n",
      "        41    83918140.7915            3.80s\n",
      "        42    78249798.6795            3.79s\n",
      "        43    72435117.6670            3.76s\n",
      "        44    68300947.7992            3.76s\n",
      "        45    62647268.2771            3.73s\n",
      "        46    58278859.3729            3.71s\n",
      "        47    56486659.9262            3.71s\n",
      "        48    52364949.0283            3.68s\n",
      "        49    48015707.5109            3.65s\n",
      "        50    43475169.6765            3.63s\n",
      "        51    40686399.9741            3.63s\n",
      "        52    39727895.8931            3.59s\n",
      "        53    35851969.9319            3.60s\n",
      "        54    33417416.7209            3.57s\n",
      "        55    31008157.8935            3.56s\n",
      "        56    28755253.6638            3.52s\n",
      "        57    28019787.7871            3.49s\n",
      "        58    27382923.3634            3.45s\n",
      "        59    25435102.1149            3.43s\n",
      "        60    25081460.2762            3.41s\n",
      "        61    23417051.4840            3.40s\n",
      "        62    22399976.2833            3.41s\n",
      "        63    21411688.0060            3.40s\n",
      "        64    20128041.6843            3.38s\n",
      "        65    19511666.7994            3.35s\n",
      "        66    18728825.6482            3.32s\n",
      "        67    17475534.8609            3.31s\n",
      "        68    16483941.0340            3.29s\n",
      "        69    15938010.2234            3.28s\n",
      "        70    15283148.3722            3.27s\n",
      "        71    14060760.2955            3.24s\n",
      "        72    13602149.3997            3.21s\n",
      "        73    13241914.5641            3.18s\n",
      "        74    12637255.5549            3.14s\n",
      "        75    12242154.1588            3.11s\n",
      "        76    12050840.9483            3.09s\n",
      "        77    11725436.4435            3.07s\n",
      "        78    11180940.8177            3.05s\n",
      "        79    10912793.5374            3.03s\n",
      "        80    10501423.7121            3.00s\n",
      "        81     9923895.2966            2.99s\n",
      "        82     9429014.2529            2.97s\n",
      "        83     8959334.8858            2.96s\n",
      "        84     8839127.6910            2.94s\n",
      "        85     8741786.6364            2.91s\n",
      "        86     8085345.3428            2.90s\n",
      "        87     7590712.3820            2.89s\n",
      "        88     7146568.1419            2.86s\n",
      "        89     6740555.5720            2.84s\n",
      "        90     6699731.9202            2.81s\n",
      "        91     6234045.8925            2.80s\n",
      "        92     6152293.0290            2.78s\n",
      "        93     5825050.1393            2.75s\n",
      "        94     5621105.0729            2.74s\n",
      "        95     5308049.8182            2.73s\n",
      "        96     4975326.8162            2.71s\n",
      "        97     4826566.1236            2.68s\n",
      "        98     4731670.2564            2.66s\n",
      "        99     4687708.3870            2.64s\n",
      "       100     4644605.8429            2.61s\n",
      "       101     4550895.0787            2.59s\n",
      "       102     4377603.0241            2.55s\n",
      "       103     4054320.0500            2.52s\n",
      "       104     3994780.7135            2.49s\n",
      "       105     3921452.1390            2.46s\n",
      "       106     3877228.0434            2.43s\n",
      "       107     3822809.9978            2.41s\n",
      "       108     3606234.8062            2.39s\n",
      "       109     3547697.7775            2.36s\n",
      "       110     3393150.0405            2.33s\n",
      "       111     3174693.5084            2.31s\n",
      "       112     2924215.7194            2.30s\n",
      "       113     2832547.0849            2.27s\n",
      "       114     2805893.6097            2.25s\n",
      "       115     2663684.6623            2.24s\n",
      "       116     2620263.2950            2.21s\n",
      "       117     2589188.0557            2.20s\n",
      "       118     2500934.1497            2.18s\n",
      "       119     2366869.4590            2.16s\n",
      "       120     2295459.4584            2.13s\n",
      "       121     2112149.1749            2.11s\n",
      "       122     2047976.6574            2.09s\n",
      "       123     1994696.9109            2.06s\n",
      "       124     1945693.4829            2.03s\n",
      "       125     1862069.2362            2.00s\n",
      "       126     1833033.8924            1.97s\n",
      "       127     1729699.2388            1.94s\n",
      "       128     1602856.5606            1.91s\n",
      "       129     1529245.8086            1.88s\n",
      "       130     1498236.8596            1.85s\n",
      "       131     1460184.0752            1.82s\n",
      "       132     1397776.1511            1.79s\n",
      "       133     1360608.1602            1.77s\n",
      "       134     1299580.3399            1.74s\n",
      "       135     1263344.2019            1.71s\n",
      "       136     1216444.5165            1.68s\n",
      "       137     1135270.7781            1.65s\n",
      "       138     1085465.1291            1.62s\n",
      "       139     1046487.9749            1.60s\n",
      "       140     1025707.2763            1.57s\n",
      "       141      999075.5513            1.55s\n",
      "       142      965662.6098            1.52s\n",
      "       143      940610.0716            1.49s\n",
      "       144      906772.3704            1.46s\n",
      "       145      855293.6657            1.43s\n",
      "       146      809139.8337            1.41s\n",
      "       147      777268.5797            1.38s\n",
      "       148      747367.3088            1.35s\n",
      "       149      736679.7056            1.33s\n",
      "       150      710966.5334            1.30s\n",
      "       151      693683.3778            1.27s\n",
      "       152      651578.2647            1.25s\n",
      "       153      612003.1273            1.22s\n",
      "       154      591084.9542            1.19s\n",
      "       155      553584.1353            1.17s\n",
      "       156      534710.1441            1.14s\n",
      "       157      512652.1916            1.11s\n",
      "       158      487853.9515            1.09s\n",
      "       159      460338.7114            1.06s\n",
      "       160      447628.3834            1.04s\n",
      "       161      436607.8234            1.01s\n",
      "       162      408939.0883            0.98s\n",
      "       163      372918.7547            0.96s\n",
      "       164      363644.0938            0.93s\n",
      "       165      341858.8728            0.91s\n",
      "       166      306828.0224            0.88s\n",
      "       167      299735.2294            0.85s\n",
      "       168      287708.8856            0.83s\n",
      "       169      280205.9291            0.80s\n",
      "       170      273390.8793            0.77s\n",
      "       171      264886.4378            0.75s\n",
      "       172      260325.5269            0.72s\n",
      "       173      256885.9992            0.69s\n",
      "       174      244627.5792            0.67s\n",
      "       175      234156.7120            0.64s\n",
      "       176      214741.9133            0.62s\n",
      "       177      212015.6207            0.59s\n",
      "       178      209318.8034            0.56s\n",
      "       179      206228.4263            0.54s\n",
      "       180      186000.6987            0.51s\n",
      "       181      178802.0623            0.49s\n",
      "       182      175667.2336            0.46s\n",
      "       183      172358.2169            0.43s\n",
      "       184      157657.3811            0.41s\n",
      "       185      151536.8245            0.38s\n",
      "       186      144786.6522            0.36s\n",
      "       187      138482.6424            0.33s\n",
      "       188      126806.6580            0.31s\n",
      "       189      122832.4555            0.28s\n",
      "       190      121680.7939            0.25s\n",
      "       191      117581.1066            0.23s\n",
      "       192      114336.3194            0.20s\n",
      "       193      105150.1298            0.18s\n",
      "       194       99345.6547            0.15s\n",
      "       195       96846.8995            0.13s\n",
      "       196       88817.2919            0.10s\n",
      "       197       83045.4818            0.08s\n",
      "       198       74311.4588            0.05s\n",
      "       199       69981.5976            0.03s\n",
      "       200       67838.2297            0.00s\n",
      "score on training 0.999999010065919\n",
      "r2 score 0.7804899755910198 \n",
      "\n",
      "RandomForestRegressor(max_depth=20, random_state=100, verbose=2)\n",
      "building tree 1 of 100\n",
      "building tree 2 of 100\n",
      "building tree 3 of 100\n",
      "building tree 4 of 100\n",
      "building tree 5 of 100\n",
      "building tree 6 of 100\n",
      "building tree 7 of 100\n",
      "building tree 8 of 100\n",
      "building tree 9 of 100\n",
      "building tree 10 of 100\n",
      "building tree 11 of 100\n",
      "building tree 12 of 100\n",
      "building tree 13 of 100\n",
      "building tree 14 of 100\n",
      "building tree 15 of 100\n",
      "building tree 16 of 100\n",
      "building tree 17 of 100\n",
      "building tree 18 of 100\n",
      "building tree 19 of 100\n",
      "building tree 20 of 100\n",
      "building tree 21 of 100\n",
      "building tree 22 of 100\n",
      "building tree 23 of 100\n",
      "building tree 24 of 100\n",
      "building tree 25 of 100\n",
      "building tree 26 of 100\n",
      "building tree 27 of 100\n",
      "building tree 28 of 100\n",
      "building tree 29 of 100\n",
      "building tree 30 of 100\n",
      "building tree 31 of 100\n",
      "building tree 32 of 100\n",
      "building tree 33 of 100\n",
      "building tree 34 of 100\n",
      "building tree 35 of 100\n",
      "building tree 36 of 100\n",
      "building tree 37 of 100\n",
      "building tree 38 of 100\n",
      "building tree 39 of 100\n",
      "building tree 40 of 100\n",
      "building tree 41 of 100\n",
      "building tree 42 of 100\n",
      "building tree 43 of 100\n",
      "building tree 44 of 100\n",
      "building tree 45 of 100\n",
      "building tree 46 of 100\n",
      "building tree 47 of 100\n",
      "building tree 48 of 100\n",
      "building tree 49 of 100\n",
      "building tree 50 of 100\n",
      "building tree 51 of 100\n",
      "building tree 52 of 100\n",
      "building tree 53 of 100\n",
      "building tree 54 of 100\n",
      "building tree 55 of 100\n",
      "building tree 56 of 100\n",
      "building tree 57 of 100\n",
      "building tree 58 of 100\n",
      "building tree 59 of 100\n",
      "building tree 60 of 100\n",
      "building tree 61 of 100\n",
      "building tree 62 of 100\n",
      "building tree 63 of 100\n",
      "building tree 64 of 100\n",
      "building tree 65 of 100\n",
      "building tree 66 of 100\n",
      "building tree 67 of 100\n",
      "building tree 68 of 100\n",
      "building tree 69 of 100\n",
      "building tree 70 of 100\n",
      "building tree 71 of 100\n",
      "building tree 72 of 100\n",
      "building tree 73 of 100\n",
      "building tree 74 of 100\n",
      "building tree 75 of 100\n",
      "building tree 76 of 100\n",
      "building tree 77 of 100\n",
      "building tree 78 of 100\n",
      "building tree 79 of 100\n",
      "building tree 80 of 100\n",
      "building tree 81 of 100\n",
      "building tree 82 of 100\n",
      "building tree 83 of 100\n",
      "building tree 84 of 100\n",
      "building tree 85 of 100\n",
      "building tree 86 of 100\n",
      "building tree 87 of 100\n",
      "building tree 88 of 100\n",
      "building tree 89 of 100\n",
      "building tree 90 of 100\n",
      "building tree 91 of 100\n",
      "building tree 92 of 100\n",
      "building tree 93 of 100\n",
      "building tree 94 of 100\n",
      "building tree 95 of 100\n",
      "building tree 96 of 100\n",
      "building tree 97 of 100\n",
      "building tree 98 of 100\n",
      "building tree 99 of 100\n",
      "building tree 100 of 100\n",
      "score on training 0.965044636502287\n",
      "r2 score 0.7772379931008161 \n",
      "\n"
     ]
    },
    {
     "name": "stderr",
     "output_type": "stream",
     "text": [
      "[Parallel(n_jobs=1)]: Using backend SequentialBackend with 1 concurrent workers.\n",
      "[Parallel(n_jobs=1)]: Done   1 out of   1 | elapsed:    0.0s remaining:    0.0s\n",
      "[Parallel(n_jobs=1)]: Done 100 out of 100 | elapsed:    2.6s finished\n",
      "[Parallel(n_jobs=1)]: Using backend SequentialBackend with 1 concurrent workers.\n",
      "[Parallel(n_jobs=1)]: Done   1 out of   1 | elapsed:    0.0s remaining:    0.0s\n",
      "[Parallel(n_jobs=1)]: Done 100 out of 100 | elapsed:    0.0s finished\n",
      "[Parallel(n_jobs=1)]: Using backend SequentialBackend with 1 concurrent workers.\n",
      "[Parallel(n_jobs=1)]: Done   1 out of   1 | elapsed:    0.0s remaining:    0.0s\n",
      "[Parallel(n_jobs=1)]: Done 100 out of 100 | elapsed:    0.1s finished\n",
      "[Parallel(n_jobs=1)]: Using backend SequentialBackend with 1 concurrent workers.\n",
      "[Parallel(n_jobs=1)]: Done   1 out of   1 | elapsed:    0.0s remaining:    0.0s\n",
      "[Parallel(n_jobs=1)]: Done 100 out of 100 | elapsed:    0.0s finished\n"
     ]
    },
    {
     "data": {
      "text/plain": "<Figure size 2160x864 with 1 Axes>",
      "image/png": "[encoded data removed]"
     },
     "metadata": {
      "needs_background": "light"
     },
     "output_type": "display_data"
    }
   ],
   "source": [
    "#run through models\n",
    "for model in models:\n",
    "    print(model)\n",
    "    m = str(model)\n",
    "    temp['Model'] = m[:m.index('(')]\n",
    "    model.fit(X_train, y_train)\n",
    "    temp['R2_Price'] = r2_score(y_test, model.predict(X_test))\n",
    "    print('score on training',model.score(X_train, y_train))\n",
    "    print('r2 score',r2_score(y_test, model.predict(X_test)),'\\n')\n",
    "    learning_mods = learning_mods.append([temp])\n",
    "learning_mods.set_index('Model', inplace=True)\n",
    "\n",
    "fig, axes = plt.subplots(ncols=1, figsize=(30, 12))\n",
    "learning_mods.R2_Price.plot(ax=axes, kind='bar', title='R2_Price')\n",
    "plt.show()"
   ],
   "metadata": {
    "collapsed": false,
    "pycharm": {
     "name": "#%%\n"
    }
   }
  },
  {
   "cell_type": "code",
   "execution_count": 40,
   "outputs": [],
   "source": [
    "regressionTree_imp = model.feature_importances_\n",
    "# plt.figure(figsize=(16,6))\n",
    "# plt.yscale('log',nonposy='clip')\n",
    "# plt.bar(range(len(regressionTree_imp)),regressionTree_imp,align='center')\n",
    "# plt.xticks(range(len(regressionTree_imp)),features,rotation='vertical')\n",
    "# plt.title('Feature Importance')\n",
    "# plt.ylabel('Importance')\n",
    "# plt.show()"
   ],
   "metadata": {
    "collapsed": false,
    "pycharm": {
     "name": "#%%\n"
    }
   }
  },
  {
   "cell_type": "code",
   "execution_count": 41,
   "outputs": [],
   "source": [
    "data_tuples = list(zip(features,regressionTree_imp.tolist()))\n",
    "features_importance = pd.DataFrame(data_tuples, columns=['Feature','Value'])"
   ],
   "metadata": {
    "collapsed": false,
    "pycharm": {
     "name": "#%%\n"
    }
   }
  },
  {
   "cell_type": "code",
   "execution_count": 42,
   "outputs": [
    {
     "name": "stdout",
     "output_type": "stream",
     "text": [
      "103\n",
      "36\n"
     ]
    }
   ],
   "source": [
    "print(len(features_importance))\n",
    "unimportant_features = features_importance[features_importance['Value'] < .001]\n",
    "features_importance = features_importance[features_importance['Value'] > .001]\n",
    "print(len(features_importance))"
   ],
   "metadata": {
    "collapsed": false,
    "pycharm": {
     "name": "#%%\n"
    }
   }
  },
  {
   "cell_type": "code",
   "execution_count": 43,
   "outputs": [
    {
     "data": {
      "text/plain": "                                  Feature  \\\n14           m²square meterslivable space   \n1            property.netHabitableSurface   \n10                            Living area   \n60      property.location.postalCode_2000   \n5                       Construction year   \n11                    Living room surface   \n4                               Bathrooms   \n20                        Terrace surface   \n15                       Cadastral income   \n2                            Unnamed: 0.1   \n7    E-level (primary energy consumption)   \n0                   property.bedroomCount   \n16                      Bedroom 1 surface   \n24                               Elevator   \n13                                Toilets   \n38  Flood zone type_Recognized flood zone   \n8                            Energy class   \n3                            Armored door   \n23                       Number of floors   \n17                      Bedroom 2 surface   \n22                                Floor :   \n31             property.subtype_PENTHOUSE   \n18                 Covered parking spaces   \n35         Flood zone type_Non flood zone   \n94      property.location.postalCode_2900   \n61      property.location.postalCode_2018   \n42                       Heating type_Gas   \n9                                 Facades   \n52                Building condition_Good   \n19                               Intercom   \n51              Building condition_As new   \n30                  property.subtype_LOFT   \n44            Kitchen type_Hyper equipped   \n12           Planning permission obtained   \n58                       As built plan_No   \n45                 Kitchen type_Installed   \n\n                                                Value  \n14 0.343512974691015438022390071637346409261226654...  \n1  0.307328348484664559681078799258102662861347198...  \n10 0.080119250345213555153378592876833863556385040...  \n60 0.034726997245879610842766993528130115009844303...  \n5  0.026203550374481621859645841254859988112002611...  \n11 0.018057210766997545958734150417512864805757999...  \n4  0.015004680232628469713218599679294129600748419...  \n20 0.013038720665918188817977707572026702109724283...  \n15 0.012988897002688877882481399694825086044147610...  \n2  0.011619739245460685220234786640958191128447651...  \n7  0.010936723613273519398192412666048767277970910...  \n0  0.010588231665063957062655752849877899279817938...  \n16 0.010280716514565529581815006565648218384012579...  \n24 0.009830300455455871083687569011999585200101137...  \n13 0.008701959100298386345917478479350393172353506...  \n38 0.008223392195825405745490677134057477815076708...  \n8  0.007305805784464233440522740181677363580092787...  \n3  0.007294720471422327587318612529543315758928656...  \n23 0.006662565721918410968638291080878843786194920...  \n17 0.005708874545904821413977447974730239366181194...  \n22 0.005543583911432538313679430075353593565523624...  \n31 0.005316917147254600871375540549479410401545464...  \n18 0.004197608891479657697298755181236629141494631...  \n35 0.003069625586922745518608790504799799236934632...  \n94 0.002675949195272348587332222891177480050828307...  \n61 0.002392291544851524523473962346997723216190934...  \n42 0.002356471505952919057169658856309979455545544...  \n9  0.002222315175628247069239407096574723254889249...  \n52 0.001583648599334846725564251990192587982164695...  \n19 0.001482394288099223673624282859861978067783638...  \n51 0.001479114156525116125298624503159317100653424...  \n30 0.001474550557803042290239137201979247038252651...  \n44 0.001392534247938161063792850136167089658556506...  \n12 0.001294146556722997705099476029033667145995423...  \n58 0.001131579163432684014337081812584528961451724...  \n45 0.001030614927702353748190100546366920752916485...  ",
      "text/html": "<div>\n<style scoped>\n    .dataframe tbody tr th:only-of-type {\n        vertical-align: middle;\n    }\n\n    .dataframe tbody tr th {\n        vertical-align: top;\n    }\n\n    .dataframe thead th {\n        text-align: right;\n    }\n</style>\n<table border=\"1\" class=\"dataframe\">\n  <thead>\n    <tr style=\"text-align: right;\">\n      <th></th>\n      <th>Feature</th>\n      <th>Value</th>\n    </tr>\n  </thead>\n  <tbody>\n    <tr>\n      <th>14</th>\n      <td>m²square meterslivable space</td>\n      <td>0.343512974691015438022390071637346409261226654...</td>\n    </tr>\n    <tr>\n      <th>1</th>\n      <td>property.netHabitableSurface</td>\n      <td>0.307328348484664559681078799258102662861347198...</td>\n    </tr>\n    <tr>\n      <th>10</th>\n      <td>Living area</td>\n      <td>0.080119250345213555153378592876833863556385040...</td>\n    </tr>\n    <tr>\n      <th>60</th>\n      <td>property.location.postalCode_2000</td>\n      <td>0.034726997245879610842766993528130115009844303...</td>\n    </tr>\n    <tr>\n      <th>5</th>\n      <td>Construction year</td>\n      <td>0.026203550374481621859645841254859988112002611...</td>\n    </tr>\n    <tr>\n      <th>11</th>\n      <td>Living room surface</td>\n      <td>0.018057210766997545958734150417512864805757999...</td>\n    </tr>\n    <tr>\n      <th>4</th>\n      <td>Bathrooms</td>\n      <td>0.015004680232628469713218599679294129600748419...</td>\n    </tr>\n    <tr>\n      <th>20</th>\n      <td>Terrace surface</td>\n      <td>0.013038720665918188817977707572026702109724283...</td>\n    </tr>\n    <tr>\n      <th>15</th>\n      <td>Cadastral income</td>\n      <td>0.012988897002688877882481399694825086044147610...</td>\n    </tr>\n    <tr>\n      <th>2</th>\n      <td>Unnamed: 0.1</td>\n      <td>0.011619739245460685220234786640958191128447651...</td>\n    </tr>\n    <tr>\n      <th>7</th>\n      <td>E-level (primary energy consumption)</td>\n      <td>0.010936723613273519398192412666048767277970910...</td>\n    </tr>\n    <tr>\n      <th>0</th>\n      <td>property.bedroomCount</td>\n      <td>0.010588231665063957062655752849877899279817938...</td>\n    </tr>\n    <tr>\n      <th>16</th>\n      <td>Bedroom 1 surface</td>\n      <td>0.010280716514565529581815006565648218384012579...</td>\n    </tr>\n    <tr>\n      <th>24</th>\n      <td>Elevator</td>\n      <td>0.009830300455455871083687569011999585200101137...</td>\n    </tr>\n    <tr>\n      <th>13</th>\n      <td>Toilets</td>\n      <td>0.008701959100298386345917478479350393172353506...</td>\n    </tr>\n    <tr>\n      <th>38</th>\n      <td>Flood zone type_Recognized flood zone</td>\n      <td>0.008223392195825405745490677134057477815076708...</td>\n    </tr>\n    <tr>\n      <th>8</th>\n      <td>Energy class</td>\n      <td>0.007305805784464233440522740181677363580092787...</td>\n    </tr>\n    <tr>\n      <th>3</th>\n      <td>Armored door</td>\n      <td>0.007294720471422327587318612529543315758928656...</td>\n    </tr>\n    <tr>\n      <th>23</th>\n      <td>Number of floors</td>\n      <td>0.006662565721918410968638291080878843786194920...</td>\n    </tr>\n    <tr>\n      <th>17</th>\n      <td>Bedroom 2 surface</td>\n      <td>0.005708874545904821413977447974730239366181194...</td>\n    </tr>\n    <tr>\n      <th>22</th>\n      <td>Floor :</td>\n      <td>0.005543583911432538313679430075353593565523624...</td>\n    </tr>\n    <tr>\n      <th>31</th>\n      <td>property.subtype_PENTHOUSE</td>\n      <td>0.005316917147254600871375540549479410401545464...</td>\n    </tr>\n    <tr>\n      <th>18</th>\n      <td>Covered parking spaces</td>\n      <td>0.004197608891479657697298755181236629141494631...</td>\n    </tr>\n    <tr>\n      <th>35</th>\n      <td>Flood zone type_Non flood zone</td>\n      <td>0.003069625586922745518608790504799799236934632...</td>\n    </tr>\n    <tr>\n      <th>94</th>\n      <td>property.location.postalCode_2900</td>\n      <td>0.002675949195272348587332222891177480050828307...</td>\n    </tr>\n    <tr>\n      <th>61</th>\n      <td>property.location.postalCode_2018</td>\n      <td>0.002392291544851524523473962346997723216190934...</td>\n    </tr>\n    <tr>\n      <th>42</th>\n      <td>Heating type_Gas</td>\n      <td>0.002356471505952919057169658856309979455545544...</td>\n    </tr>\n    <tr>\n      <th>9</th>\n      <td>Facades</td>\n      <td>0.002222315175628247069239407096574723254889249...</td>\n    </tr>\n    <tr>\n      <th>52</th>\n      <td>Building condition_Good</td>\n      <td>0.001583648599334846725564251990192587982164695...</td>\n    </tr>\n    <tr>\n      <th>19</th>\n      <td>Intercom</td>\n      <td>0.001482394288099223673624282859861978067783638...</td>\n    </tr>\n    <tr>\n      <th>51</th>\n      <td>Building condition_As new</td>\n      <td>0.001479114156525116125298624503159317100653424...</td>\n    </tr>\n    <tr>\n      <th>30</th>\n      <td>property.subtype_LOFT</td>\n      <td>0.001474550557803042290239137201979247038252651...</td>\n    </tr>\n    <tr>\n      <th>44</th>\n      <td>Kitchen type_Hyper equipped</td>\n      <td>0.001392534247938161063792850136167089658556506...</td>\n    </tr>\n    <tr>\n      <th>12</th>\n      <td>Planning permission obtained</td>\n      <td>0.001294146556722997705099476029033667145995423...</td>\n    </tr>\n    <tr>\n      <th>58</th>\n      <td>As built plan_No</td>\n      <td>0.001131579163432684014337081812584528961451724...</td>\n    </tr>\n    <tr>\n      <th>45</th>\n      <td>Kitchen type_Installed</td>\n      <td>0.001030614927702353748190100546366920752916485...</td>\n    </tr>\n  </tbody>\n</table>\n</div>"
     },
     "execution_count": 43,
     "metadata": {},
     "output_type": "execute_result"
    }
   ],
   "source": [
    "features_importance = features_importance.sort_values(by=['Value'], ascending=False)\n",
    "pd.set_option('display.float_format', lambda x: '%.1000f' % x)\n",
    "features_importance"
   ],
   "metadata": {
    "collapsed": false,
    "pycharm": {
     "name": "#%%\n"
    }
   }
  },
  {
   "cell_type": "code",
   "execution_count": 44,
   "outputs": [
    {
     "name": "stderr",
     "output_type": "stream",
     "text": [
      "[Parallel(n_jobs=1)]: Using backend SequentialBackend with 1 concurrent workers.\n",
      "[Parallel(n_jobs=1)]: Done   1 out of   1 | elapsed:    0.0s remaining:    0.0s\n",
      "[Parallel(n_jobs=1)]: Done 100 out of 100 | elapsed:    0.0s finished\n"
     ]
    }
   ],
   "source": [
    "data_tuples = list(zip(y_test,model.predict(X_test)))\n",
    "features_importance = pd.DataFrame(data_tuples, columns=['Echte Waarde','Voorspelling'])\n",
    "features_importance['Voorspelling'] = features_importance['Voorspelling'].astype(float)"
   ],
   "metadata": {
    "collapsed": false,
    "pycharm": {
     "name": "#%%\n"
    }
   }
  },
  {
   "cell_type": "code",
   "execution_count": 45,
   "outputs": [
    {
     "data": {
      "text/plain": "     Echte Waarde  Voorspelling\n0          149000        189024\n1          150000        199890\n2          379000        509292\n3          165000        212689\n4          279000        195849\n..            ...           ...\n402        199900        194270\n403        230000        722390\n404        150000        275399\n405        285500        879011\n406        130000        129897\n\n[407 rows x 2 columns]",
      "text/html": "<div>\n<style scoped>\n    .dataframe tbody tr th:only-of-type {\n        vertical-align: middle;\n    }\n\n    .dataframe tbody tr th {\n        vertical-align: top;\n    }\n\n    .dataframe thead th {\n        text-align: right;\n    }\n</style>\n<table border=\"1\" class=\"dataframe\">\n  <thead>\n    <tr style=\"text-align: right;\">\n      <th></th>\n      <th>Echte Waarde</th>\n      <th>Voorspelling</th>\n    </tr>\n  </thead>\n  <tbody>\n    <tr>\n      <th>0</th>\n      <td>149000</td>\n      <td>189024</td>\n    </tr>\n    <tr>\n      <th>1</th>\n      <td>150000</td>\n      <td>199890</td>\n    </tr>\n    <tr>\n      <th>2</th>\n      <td>379000</td>\n      <td>509292</td>\n    </tr>\n    <tr>\n      <th>3</th>\n      <td>165000</td>\n      <td>212689</td>\n    </tr>\n    <tr>\n      <th>4</th>\n      <td>279000</td>\n      <td>195849</td>\n    </tr>\n    <tr>\n      <th>...</th>\n      <td>...</td>\n      <td>...</td>\n    </tr>\n    <tr>\n      <th>402</th>\n      <td>199900</td>\n      <td>194270</td>\n    </tr>\n    <tr>\n      <th>403</th>\n      <td>230000</td>\n      <td>722390</td>\n    </tr>\n    <tr>\n      <th>404</th>\n      <td>150000</td>\n      <td>275399</td>\n    </tr>\n    <tr>\n      <th>405</th>\n      <td>285500</td>\n      <td>879011</td>\n    </tr>\n    <tr>\n      <th>406</th>\n      <td>130000</td>\n      <td>129897</td>\n    </tr>\n  </tbody>\n</table>\n<p>407 rows × 2 columns</p>\n</div>"
     },
     "execution_count": 45,
     "metadata": {},
     "output_type": "execute_result"
    }
   ],
   "source": [
    "features_importance.astype(int)"
   ],
   "metadata": {
    "collapsed": false,
    "pycharm": {
     "name": "#%%\n"
    }
   }
  },
  {
   "cell_type": "code",
   "execution_count": 47,
   "outputs": [
    {
     "name": "stdout",
     "output_type": "stream",
     "text": [
      "Fitting 3 folds for each of 729 candidates, totalling 2187 fits\n"
     ]
    },
    {
     "name": "stderr",
     "output_type": "stream",
     "text": [
      "[Parallel(n_jobs=-1)]: Using backend LokyBackend with 8 concurrent workers.\n",
      "[Parallel(n_jobs=-1)]: Done  25 tasks      | elapsed:    5.8s\n"
     ]
    },
    {
     "ename": "KeyboardInterrupt",
     "evalue": "",
     "output_type": "error",
     "traceback": [
      "\u001B[0;31m---------------------------------------------------------------------------\u001B[0m",
      "\u001B[0;31mKeyboardInterrupt\u001B[0m                         Traceback (most recent call last)",
      "\u001B[0;32m<ipython-input-47-de626e87530c>\u001B[0m in \u001B[0;36m<module>\u001B[0;34m\u001B[0m\n\u001B[1;32m     11\u001B[0m grid_search = GridSearchCV(estimator = rf, param_grid = param_grid,\n\u001B[1;32m     12\u001B[0m                           cv = 3, n_jobs = -1, verbose = 2)\n\u001B[0;32m---> 13\u001B[0;31m \u001B[0mgrid_search\u001B[0m\u001B[0;34m.\u001B[0m\u001B[0mfit\u001B[0m\u001B[0;34m(\u001B[0m\u001B[0mX\u001B[0m\u001B[0;34m,\u001B[0m \u001B[0my\u001B[0m\u001B[0;34m)\u001B[0m\u001B[0;34m\u001B[0m\u001B[0;34m\u001B[0m\u001B[0m\n\u001B[0m\u001B[1;32m     14\u001B[0m \u001B[0;34m\u001B[0m\u001B[0m\n",
      "\u001B[0;32m~/PycharmProjects/Projectjes/appartementen/venv/lib/python3.7/site-packages/sklearn/utils/validation.py\u001B[0m in \u001B[0;36minner_f\u001B[0;34m(*args, **kwargs)\u001B[0m\n\u001B[1;32m     71\u001B[0m                           FutureWarning)\n\u001B[1;32m     72\u001B[0m         \u001B[0mkwargs\u001B[0m\u001B[0;34m.\u001B[0m\u001B[0mupdate\u001B[0m\u001B[0;34m(\u001B[0m\u001B[0;34m{\u001B[0m\u001B[0mk\u001B[0m\u001B[0;34m:\u001B[0m \u001B[0marg\u001B[0m \u001B[0;32mfor\u001B[0m \u001B[0mk\u001B[0m\u001B[0;34m,\u001B[0m \u001B[0marg\u001B[0m \u001B[0;32min\u001B[0m \u001B[0mzip\u001B[0m\u001B[0;34m(\u001B[0m\u001B[0msig\u001B[0m\u001B[0;34m.\u001B[0m\u001B[0mparameters\u001B[0m\u001B[0;34m,\u001B[0m \u001B[0margs\u001B[0m\u001B[0;34m)\u001B[0m\u001B[0;34m}\u001B[0m\u001B[0;34m)\u001B[0m\u001B[0;34m\u001B[0m\u001B[0;34m\u001B[0m\u001B[0m\n\u001B[0;32m---> 73\u001B[0;31m         \u001B[0;32mreturn\u001B[0m \u001B[0mf\u001B[0m\u001B[0;34m(\u001B[0m\u001B[0;34m**\u001B[0m\u001B[0mkwargs\u001B[0m\u001B[0;34m)\u001B[0m\u001B[0;34m\u001B[0m\u001B[0;34m\u001B[0m\u001B[0m\n\u001B[0m\u001B[1;32m     74\u001B[0m     \u001B[0;32mreturn\u001B[0m \u001B[0minner_f\u001B[0m\u001B[0;34m\u001B[0m\u001B[0;34m\u001B[0m\u001B[0m\n\u001B[1;32m     75\u001B[0m \u001B[0;34m\u001B[0m\u001B[0m\n",
      "\u001B[0;32m~/PycharmProjects/Projectjes/appartementen/venv/lib/python3.7/site-packages/sklearn/model_selection/_search.py\u001B[0m in \u001B[0;36mfit\u001B[0;34m(self, X, y, groups, **fit_params)\u001B[0m\n\u001B[1;32m    734\u001B[0m                 \u001B[0;32mreturn\u001B[0m \u001B[0mresults\u001B[0m\u001B[0;34m\u001B[0m\u001B[0;34m\u001B[0m\u001B[0m\n\u001B[1;32m    735\u001B[0m \u001B[0;34m\u001B[0m\u001B[0m\n\u001B[0;32m--> 736\u001B[0;31m             \u001B[0mself\u001B[0m\u001B[0;34m.\u001B[0m\u001B[0m_run_search\u001B[0m\u001B[0;34m(\u001B[0m\u001B[0mevaluate_candidates\u001B[0m\u001B[0;34m)\u001B[0m\u001B[0;34m\u001B[0m\u001B[0;34m\u001B[0m\u001B[0m\n\u001B[0m\u001B[1;32m    737\u001B[0m \u001B[0;34m\u001B[0m\u001B[0m\n\u001B[1;32m    738\u001B[0m         \u001B[0;31m# For multi-metric evaluation, store the best_index_, best_params_ and\u001B[0m\u001B[0;34m\u001B[0m\u001B[0;34m\u001B[0m\u001B[0;34m\u001B[0m\u001B[0m\n",
      "\u001B[0;32m~/PycharmProjects/Projectjes/appartementen/venv/lib/python3.7/site-packages/sklearn/model_selection/_search.py\u001B[0m in \u001B[0;36m_run_search\u001B[0;34m(self, evaluate_candidates)\u001B[0m\n\u001B[1;32m   1186\u001B[0m     \u001B[0;32mdef\u001B[0m \u001B[0m_run_search\u001B[0m\u001B[0;34m(\u001B[0m\u001B[0mself\u001B[0m\u001B[0;34m,\u001B[0m \u001B[0mevaluate_candidates\u001B[0m\u001B[0;34m)\u001B[0m\u001B[0;34m:\u001B[0m\u001B[0;34m\u001B[0m\u001B[0;34m\u001B[0m\u001B[0m\n\u001B[1;32m   1187\u001B[0m         \u001B[0;34m\"\"\"Search all candidates in param_grid\"\"\"\u001B[0m\u001B[0;34m\u001B[0m\u001B[0;34m\u001B[0m\u001B[0m\n\u001B[0;32m-> 1188\u001B[0;31m         \u001B[0mevaluate_candidates\u001B[0m\u001B[0;34m(\u001B[0m\u001B[0mParameterGrid\u001B[0m\u001B[0;34m(\u001B[0m\u001B[0mself\u001B[0m\u001B[0;34m.\u001B[0m\u001B[0mparam_grid\u001B[0m\u001B[0;34m)\u001B[0m\u001B[0;34m)\u001B[0m\u001B[0;34m\u001B[0m\u001B[0;34m\u001B[0m\u001B[0m\n\u001B[0m\u001B[1;32m   1189\u001B[0m \u001B[0;34m\u001B[0m\u001B[0m\n\u001B[1;32m   1190\u001B[0m \u001B[0;34m\u001B[0m\u001B[0m\n",
      "\u001B[0;32m~/PycharmProjects/Projectjes/appartementen/venv/lib/python3.7/site-packages/sklearn/model_selection/_search.py\u001B[0m in \u001B[0;36mevaluate_candidates\u001B[0;34m(candidate_params)\u001B[0m\n\u001B[1;32m    713\u001B[0m                                \u001B[0;32mfor\u001B[0m \u001B[0mparameters\u001B[0m\u001B[0;34m,\u001B[0m \u001B[0;34m(\u001B[0m\u001B[0mtrain\u001B[0m\u001B[0;34m,\u001B[0m \u001B[0mtest\u001B[0m\u001B[0;34m)\u001B[0m\u001B[0;34m\u001B[0m\u001B[0;34m\u001B[0m\u001B[0m\n\u001B[1;32m    714\u001B[0m                                in product(candidate_params,\n\u001B[0;32m--> 715\u001B[0;31m                                           cv.split(X, y, groups)))\n\u001B[0m\u001B[1;32m    716\u001B[0m \u001B[0;34m\u001B[0m\u001B[0m\n\u001B[1;32m    717\u001B[0m                 \u001B[0;32mif\u001B[0m \u001B[0mlen\u001B[0m\u001B[0;34m(\u001B[0m\u001B[0mout\u001B[0m\u001B[0;34m)\u001B[0m \u001B[0;34m<\u001B[0m \u001B[0;36m1\u001B[0m\u001B[0;34m:\u001B[0m\u001B[0;34m\u001B[0m\u001B[0;34m\u001B[0m\u001B[0m\n",
      "\u001B[0;32m~/PycharmProjects/Projectjes/appartementen/venv/lib/python3.7/site-packages/joblib/parallel.py\u001B[0m in \u001B[0;36m__call__\u001B[0;34m(self, iterable)\u001B[0m\n\u001B[1;32m   1040\u001B[0m \u001B[0;34m\u001B[0m\u001B[0m\n\u001B[1;32m   1041\u001B[0m             \u001B[0;32mwith\u001B[0m \u001B[0mself\u001B[0m\u001B[0;34m.\u001B[0m\u001B[0m_backend\u001B[0m\u001B[0;34m.\u001B[0m\u001B[0mretrieval_context\u001B[0m\u001B[0;34m(\u001B[0m\u001B[0;34m)\u001B[0m\u001B[0;34m:\u001B[0m\u001B[0;34m\u001B[0m\u001B[0;34m\u001B[0m\u001B[0m\n\u001B[0;32m-> 1042\u001B[0;31m                 \u001B[0mself\u001B[0m\u001B[0;34m.\u001B[0m\u001B[0mretrieve\u001B[0m\u001B[0;34m(\u001B[0m\u001B[0;34m)\u001B[0m\u001B[0;34m\u001B[0m\u001B[0;34m\u001B[0m\u001B[0m\n\u001B[0m\u001B[1;32m   1043\u001B[0m             \u001B[0;31m# Make sure that we get a last message telling us we are done\u001B[0m\u001B[0;34m\u001B[0m\u001B[0;34m\u001B[0m\u001B[0;34m\u001B[0m\u001B[0m\n\u001B[1;32m   1044\u001B[0m             \u001B[0melapsed_time\u001B[0m \u001B[0;34m=\u001B[0m \u001B[0mtime\u001B[0m\u001B[0;34m.\u001B[0m\u001B[0mtime\u001B[0m\u001B[0;34m(\u001B[0m\u001B[0;34m)\u001B[0m \u001B[0;34m-\u001B[0m \u001B[0mself\u001B[0m\u001B[0;34m.\u001B[0m\u001B[0m_start_time\u001B[0m\u001B[0;34m\u001B[0m\u001B[0;34m\u001B[0m\u001B[0m\n",
      "\u001B[0;32m~/PycharmProjects/Projectjes/appartementen/venv/lib/python3.7/site-packages/joblib/parallel.py\u001B[0m in \u001B[0;36mretrieve\u001B[0;34m(self)\u001B[0m\n\u001B[1;32m    919\u001B[0m             \u001B[0;32mtry\u001B[0m\u001B[0;34m:\u001B[0m\u001B[0;34m\u001B[0m\u001B[0;34m\u001B[0m\u001B[0m\n\u001B[1;32m    920\u001B[0m                 \u001B[0;32mif\u001B[0m \u001B[0mgetattr\u001B[0m\u001B[0;34m(\u001B[0m\u001B[0mself\u001B[0m\u001B[0;34m.\u001B[0m\u001B[0m_backend\u001B[0m\u001B[0;34m,\u001B[0m \u001B[0;34m'supports_timeout'\u001B[0m\u001B[0;34m,\u001B[0m \u001B[0;32mFalse\u001B[0m\u001B[0;34m)\u001B[0m\u001B[0;34m:\u001B[0m\u001B[0;34m\u001B[0m\u001B[0;34m\u001B[0m\u001B[0m\n\u001B[0;32m--> 921\u001B[0;31m                     \u001B[0mself\u001B[0m\u001B[0;34m.\u001B[0m\u001B[0m_output\u001B[0m\u001B[0;34m.\u001B[0m\u001B[0mextend\u001B[0m\u001B[0;34m(\u001B[0m\u001B[0mjob\u001B[0m\u001B[0;34m.\u001B[0m\u001B[0mget\u001B[0m\u001B[0;34m(\u001B[0m\u001B[0mtimeout\u001B[0m\u001B[0;34m=\u001B[0m\u001B[0mself\u001B[0m\u001B[0;34m.\u001B[0m\u001B[0mtimeout\u001B[0m\u001B[0;34m)\u001B[0m\u001B[0;34m)\u001B[0m\u001B[0;34m\u001B[0m\u001B[0;34m\u001B[0m\u001B[0m\n\u001B[0m\u001B[1;32m    922\u001B[0m                 \u001B[0;32melse\u001B[0m\u001B[0;34m:\u001B[0m\u001B[0;34m\u001B[0m\u001B[0;34m\u001B[0m\u001B[0m\n\u001B[1;32m    923\u001B[0m                     \u001B[0mself\u001B[0m\u001B[0;34m.\u001B[0m\u001B[0m_output\u001B[0m\u001B[0;34m.\u001B[0m\u001B[0mextend\u001B[0m\u001B[0;34m(\u001B[0m\u001B[0mjob\u001B[0m\u001B[0;34m.\u001B[0m\u001B[0mget\u001B[0m\u001B[0;34m(\u001B[0m\u001B[0;34m)\u001B[0m\u001B[0;34m)\u001B[0m\u001B[0;34m\u001B[0m\u001B[0;34m\u001B[0m\u001B[0m\n",
      "\u001B[0;32m~/PycharmProjects/Projectjes/appartementen/venv/lib/python3.7/site-packages/joblib/_parallel_backends.py\u001B[0m in \u001B[0;36mwrap_future_result\u001B[0;34m(future, timeout)\u001B[0m\n\u001B[1;32m    538\u001B[0m         AsyncResults.get from multiprocessing.\"\"\"\n\u001B[1;32m    539\u001B[0m         \u001B[0;32mtry\u001B[0m\u001B[0;34m:\u001B[0m\u001B[0;34m\u001B[0m\u001B[0;34m\u001B[0m\u001B[0m\n\u001B[0;32m--> 540\u001B[0;31m             \u001B[0;32mreturn\u001B[0m \u001B[0mfuture\u001B[0m\u001B[0;34m.\u001B[0m\u001B[0mresult\u001B[0m\u001B[0;34m(\u001B[0m\u001B[0mtimeout\u001B[0m\u001B[0;34m=\u001B[0m\u001B[0mtimeout\u001B[0m\u001B[0;34m)\u001B[0m\u001B[0;34m\u001B[0m\u001B[0;34m\u001B[0m\u001B[0m\n\u001B[0m\u001B[1;32m    541\u001B[0m         \u001B[0;32mexcept\u001B[0m \u001B[0mCfTimeoutError\u001B[0m\u001B[0;34m:\u001B[0m\u001B[0;34m\u001B[0m\u001B[0;34m\u001B[0m\u001B[0m\n\u001B[1;32m    542\u001B[0m             \u001B[0;32mraise\u001B[0m \u001B[0mTimeoutError\u001B[0m\u001B[0;34m(\u001B[0m\u001B[0;34m)\u001B[0m\u001B[0;34m\u001B[0m\u001B[0;34m\u001B[0m\u001B[0m\n",
      "\u001B[0;32m/Library/Developer/CommandLineTools/Library/Frameworks/Python3.framework/Versions/3.7/lib/python3.7/concurrent/futures/_base.py\u001B[0m in \u001B[0;36mresult\u001B[0;34m(self, timeout)\u001B[0m\n\u001B[1;32m    425\u001B[0m                 \u001B[0;32mreturn\u001B[0m \u001B[0mself\u001B[0m\u001B[0;34m.\u001B[0m\u001B[0m__get_result\u001B[0m\u001B[0;34m(\u001B[0m\u001B[0;34m)\u001B[0m\u001B[0;34m\u001B[0m\u001B[0;34m\u001B[0m\u001B[0m\n\u001B[1;32m    426\u001B[0m \u001B[0;34m\u001B[0m\u001B[0m\n\u001B[0;32m--> 427\u001B[0;31m             \u001B[0mself\u001B[0m\u001B[0;34m.\u001B[0m\u001B[0m_condition\u001B[0m\u001B[0;34m.\u001B[0m\u001B[0mwait\u001B[0m\u001B[0;34m(\u001B[0m\u001B[0mtimeout\u001B[0m\u001B[0;34m)\u001B[0m\u001B[0;34m\u001B[0m\u001B[0;34m\u001B[0m\u001B[0m\n\u001B[0m\u001B[1;32m    428\u001B[0m \u001B[0;34m\u001B[0m\u001B[0m\n\u001B[1;32m    429\u001B[0m             \u001B[0;32mif\u001B[0m \u001B[0mself\u001B[0m\u001B[0;34m.\u001B[0m\u001B[0m_state\u001B[0m \u001B[0;32min\u001B[0m \u001B[0;34m[\u001B[0m\u001B[0mCANCELLED\u001B[0m\u001B[0;34m,\u001B[0m \u001B[0mCANCELLED_AND_NOTIFIED\u001B[0m\u001B[0;34m]\u001B[0m\u001B[0;34m:\u001B[0m\u001B[0;34m\u001B[0m\u001B[0;34m\u001B[0m\u001B[0m\n",
      "\u001B[0;32m/Library/Developer/CommandLineTools/Library/Frameworks/Python3.framework/Versions/3.7/lib/python3.7/threading.py\u001B[0m in \u001B[0;36mwait\u001B[0;34m(self, timeout)\u001B[0m\n\u001B[1;32m    294\u001B[0m         \u001B[0;32mtry\u001B[0m\u001B[0;34m:\u001B[0m    \u001B[0;31m# restore state no matter what (e.g., KeyboardInterrupt)\u001B[0m\u001B[0;34m\u001B[0m\u001B[0;34m\u001B[0m\u001B[0m\n\u001B[1;32m    295\u001B[0m             \u001B[0;32mif\u001B[0m \u001B[0mtimeout\u001B[0m \u001B[0;32mis\u001B[0m \u001B[0;32mNone\u001B[0m\u001B[0;34m:\u001B[0m\u001B[0;34m\u001B[0m\u001B[0;34m\u001B[0m\u001B[0m\n\u001B[0;32m--> 296\u001B[0;31m                 \u001B[0mwaiter\u001B[0m\u001B[0;34m.\u001B[0m\u001B[0macquire\u001B[0m\u001B[0;34m(\u001B[0m\u001B[0;34m)\u001B[0m\u001B[0;34m\u001B[0m\u001B[0;34m\u001B[0m\u001B[0m\n\u001B[0m\u001B[1;32m    297\u001B[0m                 \u001B[0mgotit\u001B[0m \u001B[0;34m=\u001B[0m \u001B[0;32mTrue\u001B[0m\u001B[0;34m\u001B[0m\u001B[0;34m\u001B[0m\u001B[0m\n\u001B[1;32m    298\u001B[0m             \u001B[0;32melse\u001B[0m\u001B[0;34m:\u001B[0m\u001B[0;34m\u001B[0m\u001B[0;34m\u001B[0m\u001B[0m\n",
      "\u001B[0;31mKeyboardInterrupt\u001B[0m: "
     ]
    }
   ],
   "source": [
    "from sklearn.model_selection import GridSearchCV\n",
    "param_grid = {\n",
    "    'bootstrap': [True],\n",
    "    'max_depth': range(1,10,3),\n",
    "    'max_features': range(1,10,3),\n",
    "    'min_samples_leaf': range(1,10,4),\n",
    "    'min_samples_split': range(1,10,3),\n",
    "    'n_estimators': range(100,1000,100)\n",
    "}\n",
    "rf = RandomForestRegressor()\n",
    "grid_search = GridSearchCV(estimator = rf, param_grid = param_grid,\n",
    "                          cv = 3, n_jobs = -1, verbose = 2)\n",
    "grid_search.fit(X, y)"
   ],
   "metadata": {
    "collapsed": false,
    "pycharm": {
     "name": "#%%\n"
    }
   }
  },
  {
   "cell_type": "code",
   "execution_count": null,
   "outputs": [],
   "source": [
    "\n",
    "print(\"-grid.best_score_ {}\".format(grid_search.best_score_))\n",
    "print(\"grid.best_params_ {}\".format(grid_search.best_params_))\n",
    "print(\"grid.best_estimator_ {}\".format(grid_search.best_estimator_))  "
   ],
   "metadata": {
    "collapsed": false,
    "pycharm": {
     "name": "#%%\n"
    }
   }
  }
 ]
}